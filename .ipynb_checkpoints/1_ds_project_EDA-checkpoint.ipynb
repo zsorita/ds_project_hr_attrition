{
 "cells": [
  {
   "cell_type": "markdown",
   "id": "decd95d1",
   "metadata": {},
   "source": [
    "# HR ATTRITION"
   ]
  },
  {
   "cell_type": "markdown",
   "id": "95c8bea2",
   "metadata": {},
   "source": [
    "# Data Handling"
   ]
  },
  {
   "cell_type": "code",
   "execution_count": 1,
   "id": "99763c7c",
   "metadata": {},
   "outputs": [],
   "source": [
    "import pandas as pd\n",
    "import matplotlib.pyplot as plt\n",
    "import seaborn as sns\n",
    "import matplotlib.ticker as mtick\n",
    "import numpy as np\n",
    "%matplotlib inline\n",
    "from sklearn.preprocessing import OneHotEncoder\n",
    "sns.set_theme(style='white', palette='deep')\n",
    "\n",
    "\n",
    "import warnings\n",
    "warnings.filterwarnings(\"ignore\")\n",
    "\n",
    "from kmodes.kmodes import KModes"
   ]
  },
  {
   "cell_type": "code",
   "execution_count": 2,
   "id": "e15423c8",
   "metadata": {},
   "outputs": [
    {
     "data": {
      "text/html": [
       "<div>\n",
       "<style scoped>\n",
       "    .dataframe tbody tr th:only-of-type {\n",
       "        vertical-align: middle;\n",
       "    }\n",
       "\n",
       "    .dataframe tbody tr th {\n",
       "        vertical-align: top;\n",
       "    }\n",
       "\n",
       "    .dataframe thead th {\n",
       "        text-align: right;\n",
       "    }\n",
       "</style>\n",
       "<table border=\"1\" class=\"dataframe\">\n",
       "  <thead>\n",
       "    <tr style=\"text-align: right;\">\n",
       "      <th></th>\n",
       "      <th>Age</th>\n",
       "      <th>Attrition</th>\n",
       "      <th>BusinessTravel</th>\n",
       "      <th>DailyRate</th>\n",
       "      <th>Department</th>\n",
       "      <th>DistanceFromHome</th>\n",
       "      <th>Education</th>\n",
       "      <th>EducationField</th>\n",
       "      <th>EmployeeCount</th>\n",
       "      <th>EmployeeNumber</th>\n",
       "      <th>...</th>\n",
       "      <th>RelationshipSatisfaction</th>\n",
       "      <th>StandardHours</th>\n",
       "      <th>StockOptionLevel</th>\n",
       "      <th>TotalWorkingYears</th>\n",
       "      <th>TrainingTimesLastYear</th>\n",
       "      <th>WorkLifeBalance</th>\n",
       "      <th>YearsAtCompany</th>\n",
       "      <th>YearsInCurrentRole</th>\n",
       "      <th>YearsSinceLastPromotion</th>\n",
       "      <th>YearsWithCurrManager</th>\n",
       "    </tr>\n",
       "  </thead>\n",
       "  <tbody>\n",
       "    <tr>\n",
       "      <th>0</th>\n",
       "      <td>41</td>\n",
       "      <td>Yes</td>\n",
       "      <td>Travel_Rarely</td>\n",
       "      <td>1102</td>\n",
       "      <td>Sales</td>\n",
       "      <td>1</td>\n",
       "      <td>2</td>\n",
       "      <td>Life Sciences</td>\n",
       "      <td>1</td>\n",
       "      <td>1</td>\n",
       "      <td>...</td>\n",
       "      <td>1</td>\n",
       "      <td>80</td>\n",
       "      <td>0</td>\n",
       "      <td>8</td>\n",
       "      <td>0</td>\n",
       "      <td>1</td>\n",
       "      <td>6</td>\n",
       "      <td>4</td>\n",
       "      <td>0</td>\n",
       "      <td>5</td>\n",
       "    </tr>\n",
       "    <tr>\n",
       "      <th>1</th>\n",
       "      <td>49</td>\n",
       "      <td>No</td>\n",
       "      <td>Travel_Frequently</td>\n",
       "      <td>279</td>\n",
       "      <td>Research &amp; Development</td>\n",
       "      <td>8</td>\n",
       "      <td>1</td>\n",
       "      <td>Life Sciences</td>\n",
       "      <td>1</td>\n",
       "      <td>2</td>\n",
       "      <td>...</td>\n",
       "      <td>4</td>\n",
       "      <td>80</td>\n",
       "      <td>1</td>\n",
       "      <td>10</td>\n",
       "      <td>3</td>\n",
       "      <td>3</td>\n",
       "      <td>10</td>\n",
       "      <td>7</td>\n",
       "      <td>1</td>\n",
       "      <td>7</td>\n",
       "    </tr>\n",
       "    <tr>\n",
       "      <th>2</th>\n",
       "      <td>37</td>\n",
       "      <td>Yes</td>\n",
       "      <td>Travel_Rarely</td>\n",
       "      <td>1373</td>\n",
       "      <td>Research &amp; Development</td>\n",
       "      <td>2</td>\n",
       "      <td>2</td>\n",
       "      <td>Other</td>\n",
       "      <td>1</td>\n",
       "      <td>4</td>\n",
       "      <td>...</td>\n",
       "      <td>2</td>\n",
       "      <td>80</td>\n",
       "      <td>0</td>\n",
       "      <td>7</td>\n",
       "      <td>3</td>\n",
       "      <td>3</td>\n",
       "      <td>0</td>\n",
       "      <td>0</td>\n",
       "      <td>0</td>\n",
       "      <td>0</td>\n",
       "    </tr>\n",
       "    <tr>\n",
       "      <th>3</th>\n",
       "      <td>33</td>\n",
       "      <td>No</td>\n",
       "      <td>Travel_Frequently</td>\n",
       "      <td>1392</td>\n",
       "      <td>Research &amp; Development</td>\n",
       "      <td>3</td>\n",
       "      <td>4</td>\n",
       "      <td>Life Sciences</td>\n",
       "      <td>1</td>\n",
       "      <td>5</td>\n",
       "      <td>...</td>\n",
       "      <td>3</td>\n",
       "      <td>80</td>\n",
       "      <td>0</td>\n",
       "      <td>8</td>\n",
       "      <td>3</td>\n",
       "      <td>3</td>\n",
       "      <td>8</td>\n",
       "      <td>7</td>\n",
       "      <td>3</td>\n",
       "      <td>0</td>\n",
       "    </tr>\n",
       "    <tr>\n",
       "      <th>4</th>\n",
       "      <td>27</td>\n",
       "      <td>No</td>\n",
       "      <td>Travel_Rarely</td>\n",
       "      <td>591</td>\n",
       "      <td>Research &amp; Development</td>\n",
       "      <td>2</td>\n",
       "      <td>1</td>\n",
       "      <td>Medical</td>\n",
       "      <td>1</td>\n",
       "      <td>7</td>\n",
       "      <td>...</td>\n",
       "      <td>4</td>\n",
       "      <td>80</td>\n",
       "      <td>1</td>\n",
       "      <td>6</td>\n",
       "      <td>3</td>\n",
       "      <td>3</td>\n",
       "      <td>2</td>\n",
       "      <td>2</td>\n",
       "      <td>2</td>\n",
       "      <td>2</td>\n",
       "    </tr>\n",
       "    <tr>\n",
       "      <th>5</th>\n",
       "      <td>32</td>\n",
       "      <td>No</td>\n",
       "      <td>Travel_Frequently</td>\n",
       "      <td>1005</td>\n",
       "      <td>Research &amp; Development</td>\n",
       "      <td>2</td>\n",
       "      <td>2</td>\n",
       "      <td>Life Sciences</td>\n",
       "      <td>1</td>\n",
       "      <td>8</td>\n",
       "      <td>...</td>\n",
       "      <td>3</td>\n",
       "      <td>80</td>\n",
       "      <td>0</td>\n",
       "      <td>8</td>\n",
       "      <td>2</td>\n",
       "      <td>2</td>\n",
       "      <td>7</td>\n",
       "      <td>7</td>\n",
       "      <td>3</td>\n",
       "      <td>6</td>\n",
       "    </tr>\n",
       "    <tr>\n",
       "      <th>6</th>\n",
       "      <td>59</td>\n",
       "      <td>No</td>\n",
       "      <td>Travel_Rarely</td>\n",
       "      <td>1324</td>\n",
       "      <td>Research &amp; Development</td>\n",
       "      <td>3</td>\n",
       "      <td>3</td>\n",
       "      <td>Medical</td>\n",
       "      <td>1</td>\n",
       "      <td>10</td>\n",
       "      <td>...</td>\n",
       "      <td>1</td>\n",
       "      <td>80</td>\n",
       "      <td>3</td>\n",
       "      <td>12</td>\n",
       "      <td>3</td>\n",
       "      <td>2</td>\n",
       "      <td>1</td>\n",
       "      <td>0</td>\n",
       "      <td>0</td>\n",
       "      <td>0</td>\n",
       "    </tr>\n",
       "    <tr>\n",
       "      <th>7</th>\n",
       "      <td>30</td>\n",
       "      <td>No</td>\n",
       "      <td>Travel_Rarely</td>\n",
       "      <td>1358</td>\n",
       "      <td>Research &amp; Development</td>\n",
       "      <td>24</td>\n",
       "      <td>1</td>\n",
       "      <td>Life Sciences</td>\n",
       "      <td>1</td>\n",
       "      <td>11</td>\n",
       "      <td>...</td>\n",
       "      <td>2</td>\n",
       "      <td>80</td>\n",
       "      <td>1</td>\n",
       "      <td>1</td>\n",
       "      <td>2</td>\n",
       "      <td>3</td>\n",
       "      <td>1</td>\n",
       "      <td>0</td>\n",
       "      <td>0</td>\n",
       "      <td>0</td>\n",
       "    </tr>\n",
       "    <tr>\n",
       "      <th>8</th>\n",
       "      <td>38</td>\n",
       "      <td>No</td>\n",
       "      <td>Travel_Frequently</td>\n",
       "      <td>216</td>\n",
       "      <td>Research &amp; Development</td>\n",
       "      <td>23</td>\n",
       "      <td>3</td>\n",
       "      <td>Life Sciences</td>\n",
       "      <td>1</td>\n",
       "      <td>12</td>\n",
       "      <td>...</td>\n",
       "      <td>2</td>\n",
       "      <td>80</td>\n",
       "      <td>0</td>\n",
       "      <td>10</td>\n",
       "      <td>2</td>\n",
       "      <td>3</td>\n",
       "      <td>9</td>\n",
       "      <td>7</td>\n",
       "      <td>1</td>\n",
       "      <td>8</td>\n",
       "    </tr>\n",
       "    <tr>\n",
       "      <th>9</th>\n",
       "      <td>36</td>\n",
       "      <td>No</td>\n",
       "      <td>Travel_Rarely</td>\n",
       "      <td>1299</td>\n",
       "      <td>Research &amp; Development</td>\n",
       "      <td>27</td>\n",
       "      <td>3</td>\n",
       "      <td>Medical</td>\n",
       "      <td>1</td>\n",
       "      <td>13</td>\n",
       "      <td>...</td>\n",
       "      <td>2</td>\n",
       "      <td>80</td>\n",
       "      <td>2</td>\n",
       "      <td>17</td>\n",
       "      <td>3</td>\n",
       "      <td>2</td>\n",
       "      <td>7</td>\n",
       "      <td>7</td>\n",
       "      <td>7</td>\n",
       "      <td>7</td>\n",
       "    </tr>\n",
       "  </tbody>\n",
       "</table>\n",
       "<p>10 rows × 35 columns</p>\n",
       "</div>"
      ],
      "text/plain": [
       "   Age Attrition     BusinessTravel  DailyRate              Department  \\\n",
       "0   41       Yes      Travel_Rarely       1102                   Sales   \n",
       "1   49        No  Travel_Frequently        279  Research & Development   \n",
       "2   37       Yes      Travel_Rarely       1373  Research & Development   \n",
       "3   33        No  Travel_Frequently       1392  Research & Development   \n",
       "4   27        No      Travel_Rarely        591  Research & Development   \n",
       "5   32        No  Travel_Frequently       1005  Research & Development   \n",
       "6   59        No      Travel_Rarely       1324  Research & Development   \n",
       "7   30        No      Travel_Rarely       1358  Research & Development   \n",
       "8   38        No  Travel_Frequently        216  Research & Development   \n",
       "9   36        No      Travel_Rarely       1299  Research & Development   \n",
       "\n",
       "   DistanceFromHome  Education EducationField  EmployeeCount  EmployeeNumber  \\\n",
       "0                 1          2  Life Sciences              1               1   \n",
       "1                 8          1  Life Sciences              1               2   \n",
       "2                 2          2          Other              1               4   \n",
       "3                 3          4  Life Sciences              1               5   \n",
       "4                 2          1        Medical              1               7   \n",
       "5                 2          2  Life Sciences              1               8   \n",
       "6                 3          3        Medical              1              10   \n",
       "7                24          1  Life Sciences              1              11   \n",
       "8                23          3  Life Sciences              1              12   \n",
       "9                27          3        Medical              1              13   \n",
       "\n",
       "   ...  RelationshipSatisfaction StandardHours  StockOptionLevel  \\\n",
       "0  ...                         1            80                 0   \n",
       "1  ...                         4            80                 1   \n",
       "2  ...                         2            80                 0   \n",
       "3  ...                         3            80                 0   \n",
       "4  ...                         4            80                 1   \n",
       "5  ...                         3            80                 0   \n",
       "6  ...                         1            80                 3   \n",
       "7  ...                         2            80                 1   \n",
       "8  ...                         2            80                 0   \n",
       "9  ...                         2            80                 2   \n",
       "\n",
       "   TotalWorkingYears  TrainingTimesLastYear WorkLifeBalance  YearsAtCompany  \\\n",
       "0                  8                      0               1               6   \n",
       "1                 10                      3               3              10   \n",
       "2                  7                      3               3               0   \n",
       "3                  8                      3               3               8   \n",
       "4                  6                      3               3               2   \n",
       "5                  8                      2               2               7   \n",
       "6                 12                      3               2               1   \n",
       "7                  1                      2               3               1   \n",
       "8                 10                      2               3               9   \n",
       "9                 17                      3               2               7   \n",
       "\n",
       "  YearsInCurrentRole  YearsSinceLastPromotion  YearsWithCurrManager  \n",
       "0                  4                        0                     5  \n",
       "1                  7                        1                     7  \n",
       "2                  0                        0                     0  \n",
       "3                  7                        3                     0  \n",
       "4                  2                        2                     2  \n",
       "5                  7                        3                     6  \n",
       "6                  0                        0                     0  \n",
       "7                  0                        0                     0  \n",
       "8                  7                        1                     8  \n",
       "9                  7                        7                     7  \n",
       "\n",
       "[10 rows x 35 columns]"
      ]
     },
     "execution_count": 2,
     "metadata": {},
     "output_type": "execute_result"
    }
   ],
   "source": [
    "attrition_data = pd.read_csv(\"IBM_HR-Attrition.csv\")\n",
    "attrition_data.head(10)"
   ]
  },
  {
   "cell_type": "markdown",
   "id": "4810eaec",
   "metadata": {},
   "source": [
    "# Drop unnecessary columns"
   ]
  },
  {
   "cell_type": "code",
   "execution_count": 3,
   "id": "cae9a3b5",
   "metadata": {},
   "outputs": [],
   "source": [
    "attrition_data.drop(columns=[\"EmployeeCount\", \"EmployeeNumber\", \"StandardHours\", \"StockOptionLevel\", \"Department\", \"JobRole\", \"EducationField\", \"Education\", \"Over18\"], inplace=True)"
   ]
  },
  {
   "cell_type": "code",
   "execution_count": 4,
   "id": "08f97c33",
   "metadata": {},
   "outputs": [
    {
     "name": "stdout",
     "output_type": "stream",
     "text": [
      "<class 'pandas.core.frame.DataFrame'>\n",
      "RangeIndex: 1470 entries, 0 to 1469\n",
      "Data columns (total 26 columns):\n",
      " #   Column                    Non-Null Count  Dtype \n",
      "---  ------                    --------------  ----- \n",
      " 0   Age                       1470 non-null   int64 \n",
      " 1   Attrition                 1470 non-null   object\n",
      " 2   BusinessTravel            1470 non-null   object\n",
      " 3   DailyRate                 1470 non-null   int64 \n",
      " 4   DistanceFromHome          1470 non-null   int64 \n",
      " 5   EnvironmentSatisfaction   1470 non-null   int64 \n",
      " 6   Gender                    1470 non-null   object\n",
      " 7   HourlyRate                1470 non-null   int64 \n",
      " 8   JobInvolvement            1470 non-null   int64 \n",
      " 9   JobLevel                  1470 non-null   int64 \n",
      " 10  JobSatisfaction           1470 non-null   int64 \n",
      " 11  MaritalStatus             1470 non-null   object\n",
      " 12  MonthlyIncome             1470 non-null   int64 \n",
      " 13  MonthlyRate               1470 non-null   int64 \n",
      " 14  NumCompaniesWorked        1470 non-null   int64 \n",
      " 15  OverTime                  1470 non-null   object\n",
      " 16  PercentSalaryHike         1470 non-null   int64 \n",
      " 17  PerformanceRating         1470 non-null   int64 \n",
      " 18  RelationshipSatisfaction  1470 non-null   int64 \n",
      " 19  TotalWorkingYears         1470 non-null   int64 \n",
      " 20  TrainingTimesLastYear     1470 non-null   int64 \n",
      " 21  WorkLifeBalance           1470 non-null   int64 \n",
      " 22  YearsAtCompany            1470 non-null   int64 \n",
      " 23  YearsInCurrentRole        1470 non-null   int64 \n",
      " 24  YearsSinceLastPromotion   1470 non-null   int64 \n",
      " 25  YearsWithCurrManager      1470 non-null   int64 \n",
      "dtypes: int64(21), object(5)\n",
      "memory usage: 298.7+ KB\n"
     ]
    }
   ],
   "source": [
    "attrition_data.info()"
   ]
  },
  {
   "cell_type": "code",
   "execution_count": 5,
   "id": "c9cb6b7c",
   "metadata": {},
   "outputs": [
    {
     "data": {
      "text/html": [
       "<div>\n",
       "<style scoped>\n",
       "    .dataframe tbody tr th:only-of-type {\n",
       "        vertical-align: middle;\n",
       "    }\n",
       "\n",
       "    .dataframe tbody tr th {\n",
       "        vertical-align: top;\n",
       "    }\n",
       "\n",
       "    .dataframe thead th {\n",
       "        text-align: right;\n",
       "    }\n",
       "</style>\n",
       "<table border=\"1\" class=\"dataframe\">\n",
       "  <thead>\n",
       "    <tr style=\"text-align: right;\">\n",
       "      <th></th>\n",
       "      <th>count</th>\n",
       "      <th>mean</th>\n",
       "      <th>std</th>\n",
       "      <th>min</th>\n",
       "      <th>25%</th>\n",
       "      <th>50%</th>\n",
       "      <th>75%</th>\n",
       "      <th>max</th>\n",
       "    </tr>\n",
       "  </thead>\n",
       "  <tbody>\n",
       "    <tr>\n",
       "      <th>Age</th>\n",
       "      <td>1470.0</td>\n",
       "      <td>36.923810</td>\n",
       "      <td>9.135373</td>\n",
       "      <td>18.0</td>\n",
       "      <td>30.0</td>\n",
       "      <td>36.0</td>\n",
       "      <td>43.00</td>\n",
       "      <td>60.0</td>\n",
       "    </tr>\n",
       "    <tr>\n",
       "      <th>DailyRate</th>\n",
       "      <td>1470.0</td>\n",
       "      <td>802.485714</td>\n",
       "      <td>403.509100</td>\n",
       "      <td>102.0</td>\n",
       "      <td>465.0</td>\n",
       "      <td>802.0</td>\n",
       "      <td>1157.00</td>\n",
       "      <td>1499.0</td>\n",
       "    </tr>\n",
       "    <tr>\n",
       "      <th>DistanceFromHome</th>\n",
       "      <td>1470.0</td>\n",
       "      <td>9.192517</td>\n",
       "      <td>8.106864</td>\n",
       "      <td>1.0</td>\n",
       "      <td>2.0</td>\n",
       "      <td>7.0</td>\n",
       "      <td>14.00</td>\n",
       "      <td>29.0</td>\n",
       "    </tr>\n",
       "    <tr>\n",
       "      <th>EnvironmentSatisfaction</th>\n",
       "      <td>1470.0</td>\n",
       "      <td>2.721769</td>\n",
       "      <td>1.093082</td>\n",
       "      <td>1.0</td>\n",
       "      <td>2.0</td>\n",
       "      <td>3.0</td>\n",
       "      <td>4.00</td>\n",
       "      <td>4.0</td>\n",
       "    </tr>\n",
       "    <tr>\n",
       "      <th>HourlyRate</th>\n",
       "      <td>1470.0</td>\n",
       "      <td>65.891156</td>\n",
       "      <td>20.329428</td>\n",
       "      <td>30.0</td>\n",
       "      <td>48.0</td>\n",
       "      <td>66.0</td>\n",
       "      <td>83.75</td>\n",
       "      <td>100.0</td>\n",
       "    </tr>\n",
       "    <tr>\n",
       "      <th>JobInvolvement</th>\n",
       "      <td>1470.0</td>\n",
       "      <td>2.729932</td>\n",
       "      <td>0.711561</td>\n",
       "      <td>1.0</td>\n",
       "      <td>2.0</td>\n",
       "      <td>3.0</td>\n",
       "      <td>3.00</td>\n",
       "      <td>4.0</td>\n",
       "    </tr>\n",
       "    <tr>\n",
       "      <th>JobLevel</th>\n",
       "      <td>1470.0</td>\n",
       "      <td>2.063946</td>\n",
       "      <td>1.106940</td>\n",
       "      <td>1.0</td>\n",
       "      <td>1.0</td>\n",
       "      <td>2.0</td>\n",
       "      <td>3.00</td>\n",
       "      <td>5.0</td>\n",
       "    </tr>\n",
       "    <tr>\n",
       "      <th>JobSatisfaction</th>\n",
       "      <td>1470.0</td>\n",
       "      <td>2.728571</td>\n",
       "      <td>1.102846</td>\n",
       "      <td>1.0</td>\n",
       "      <td>2.0</td>\n",
       "      <td>3.0</td>\n",
       "      <td>4.00</td>\n",
       "      <td>4.0</td>\n",
       "    </tr>\n",
       "    <tr>\n",
       "      <th>MonthlyIncome</th>\n",
       "      <td>1470.0</td>\n",
       "      <td>6502.931293</td>\n",
       "      <td>4707.956783</td>\n",
       "      <td>1009.0</td>\n",
       "      <td>2911.0</td>\n",
       "      <td>4919.0</td>\n",
       "      <td>8379.00</td>\n",
       "      <td>19999.0</td>\n",
       "    </tr>\n",
       "    <tr>\n",
       "      <th>MonthlyRate</th>\n",
       "      <td>1470.0</td>\n",
       "      <td>14313.103401</td>\n",
       "      <td>7117.786044</td>\n",
       "      <td>2094.0</td>\n",
       "      <td>8047.0</td>\n",
       "      <td>14235.5</td>\n",
       "      <td>20461.50</td>\n",
       "      <td>26999.0</td>\n",
       "    </tr>\n",
       "    <tr>\n",
       "      <th>NumCompaniesWorked</th>\n",
       "      <td>1470.0</td>\n",
       "      <td>2.693197</td>\n",
       "      <td>2.498009</td>\n",
       "      <td>0.0</td>\n",
       "      <td>1.0</td>\n",
       "      <td>2.0</td>\n",
       "      <td>4.00</td>\n",
       "      <td>9.0</td>\n",
       "    </tr>\n",
       "    <tr>\n",
       "      <th>PercentSalaryHike</th>\n",
       "      <td>1470.0</td>\n",
       "      <td>15.209524</td>\n",
       "      <td>3.659938</td>\n",
       "      <td>11.0</td>\n",
       "      <td>12.0</td>\n",
       "      <td>14.0</td>\n",
       "      <td>18.00</td>\n",
       "      <td>25.0</td>\n",
       "    </tr>\n",
       "    <tr>\n",
       "      <th>PerformanceRating</th>\n",
       "      <td>1470.0</td>\n",
       "      <td>3.153741</td>\n",
       "      <td>0.360824</td>\n",
       "      <td>3.0</td>\n",
       "      <td>3.0</td>\n",
       "      <td>3.0</td>\n",
       "      <td>3.00</td>\n",
       "      <td>4.0</td>\n",
       "    </tr>\n",
       "    <tr>\n",
       "      <th>RelationshipSatisfaction</th>\n",
       "      <td>1470.0</td>\n",
       "      <td>2.712245</td>\n",
       "      <td>1.081209</td>\n",
       "      <td>1.0</td>\n",
       "      <td>2.0</td>\n",
       "      <td>3.0</td>\n",
       "      <td>4.00</td>\n",
       "      <td>4.0</td>\n",
       "    </tr>\n",
       "    <tr>\n",
       "      <th>TotalWorkingYears</th>\n",
       "      <td>1470.0</td>\n",
       "      <td>11.279592</td>\n",
       "      <td>7.780782</td>\n",
       "      <td>0.0</td>\n",
       "      <td>6.0</td>\n",
       "      <td>10.0</td>\n",
       "      <td>15.00</td>\n",
       "      <td>40.0</td>\n",
       "    </tr>\n",
       "    <tr>\n",
       "      <th>TrainingTimesLastYear</th>\n",
       "      <td>1470.0</td>\n",
       "      <td>2.799320</td>\n",
       "      <td>1.289271</td>\n",
       "      <td>0.0</td>\n",
       "      <td>2.0</td>\n",
       "      <td>3.0</td>\n",
       "      <td>3.00</td>\n",
       "      <td>6.0</td>\n",
       "    </tr>\n",
       "    <tr>\n",
       "      <th>WorkLifeBalance</th>\n",
       "      <td>1470.0</td>\n",
       "      <td>2.761224</td>\n",
       "      <td>0.706476</td>\n",
       "      <td>1.0</td>\n",
       "      <td>2.0</td>\n",
       "      <td>3.0</td>\n",
       "      <td>3.00</td>\n",
       "      <td>4.0</td>\n",
       "    </tr>\n",
       "    <tr>\n",
       "      <th>YearsAtCompany</th>\n",
       "      <td>1470.0</td>\n",
       "      <td>7.008163</td>\n",
       "      <td>6.126525</td>\n",
       "      <td>0.0</td>\n",
       "      <td>3.0</td>\n",
       "      <td>5.0</td>\n",
       "      <td>9.00</td>\n",
       "      <td>40.0</td>\n",
       "    </tr>\n",
       "    <tr>\n",
       "      <th>YearsInCurrentRole</th>\n",
       "      <td>1470.0</td>\n",
       "      <td>4.229252</td>\n",
       "      <td>3.623137</td>\n",
       "      <td>0.0</td>\n",
       "      <td>2.0</td>\n",
       "      <td>3.0</td>\n",
       "      <td>7.00</td>\n",
       "      <td>18.0</td>\n",
       "    </tr>\n",
       "    <tr>\n",
       "      <th>YearsSinceLastPromotion</th>\n",
       "      <td>1470.0</td>\n",
       "      <td>2.187755</td>\n",
       "      <td>3.222430</td>\n",
       "      <td>0.0</td>\n",
       "      <td>0.0</td>\n",
       "      <td>1.0</td>\n",
       "      <td>3.00</td>\n",
       "      <td>15.0</td>\n",
       "    </tr>\n",
       "    <tr>\n",
       "      <th>YearsWithCurrManager</th>\n",
       "      <td>1470.0</td>\n",
       "      <td>4.123129</td>\n",
       "      <td>3.568136</td>\n",
       "      <td>0.0</td>\n",
       "      <td>2.0</td>\n",
       "      <td>3.0</td>\n",
       "      <td>7.00</td>\n",
       "      <td>17.0</td>\n",
       "    </tr>\n",
       "  </tbody>\n",
       "</table>\n",
       "</div>"
      ],
      "text/plain": [
       "                           count          mean          std     min     25%  \\\n",
       "Age                       1470.0     36.923810     9.135373    18.0    30.0   \n",
       "DailyRate                 1470.0    802.485714   403.509100   102.0   465.0   \n",
       "DistanceFromHome          1470.0      9.192517     8.106864     1.0     2.0   \n",
       "EnvironmentSatisfaction   1470.0      2.721769     1.093082     1.0     2.0   \n",
       "HourlyRate                1470.0     65.891156    20.329428    30.0    48.0   \n",
       "JobInvolvement            1470.0      2.729932     0.711561     1.0     2.0   \n",
       "JobLevel                  1470.0      2.063946     1.106940     1.0     1.0   \n",
       "JobSatisfaction           1470.0      2.728571     1.102846     1.0     2.0   \n",
       "MonthlyIncome             1470.0   6502.931293  4707.956783  1009.0  2911.0   \n",
       "MonthlyRate               1470.0  14313.103401  7117.786044  2094.0  8047.0   \n",
       "NumCompaniesWorked        1470.0      2.693197     2.498009     0.0     1.0   \n",
       "PercentSalaryHike         1470.0     15.209524     3.659938    11.0    12.0   \n",
       "PerformanceRating         1470.0      3.153741     0.360824     3.0     3.0   \n",
       "RelationshipSatisfaction  1470.0      2.712245     1.081209     1.0     2.0   \n",
       "TotalWorkingYears         1470.0     11.279592     7.780782     0.0     6.0   \n",
       "TrainingTimesLastYear     1470.0      2.799320     1.289271     0.0     2.0   \n",
       "WorkLifeBalance           1470.0      2.761224     0.706476     1.0     2.0   \n",
       "YearsAtCompany            1470.0      7.008163     6.126525     0.0     3.0   \n",
       "YearsInCurrentRole        1470.0      4.229252     3.623137     0.0     2.0   \n",
       "YearsSinceLastPromotion   1470.0      2.187755     3.222430     0.0     0.0   \n",
       "YearsWithCurrManager      1470.0      4.123129     3.568136     0.0     2.0   \n",
       "\n",
       "                              50%       75%      max  \n",
       "Age                          36.0     43.00     60.0  \n",
       "DailyRate                   802.0   1157.00   1499.0  \n",
       "DistanceFromHome              7.0     14.00     29.0  \n",
       "EnvironmentSatisfaction       3.0      4.00      4.0  \n",
       "HourlyRate                   66.0     83.75    100.0  \n",
       "JobInvolvement                3.0      3.00      4.0  \n",
       "JobLevel                      2.0      3.00      5.0  \n",
       "JobSatisfaction               3.0      4.00      4.0  \n",
       "MonthlyIncome              4919.0   8379.00  19999.0  \n",
       "MonthlyRate               14235.5  20461.50  26999.0  \n",
       "NumCompaniesWorked            2.0      4.00      9.0  \n",
       "PercentSalaryHike            14.0     18.00     25.0  \n",
       "PerformanceRating             3.0      3.00      4.0  \n",
       "RelationshipSatisfaction      3.0      4.00      4.0  \n",
       "TotalWorkingYears            10.0     15.00     40.0  \n",
       "TrainingTimesLastYear         3.0      3.00      6.0  \n",
       "WorkLifeBalance               3.0      3.00      4.0  \n",
       "YearsAtCompany                5.0      9.00     40.0  \n",
       "YearsInCurrentRole            3.0      7.00     18.0  \n",
       "YearsSinceLastPromotion       1.0      3.00     15.0  \n",
       "YearsWithCurrManager          3.0      7.00     17.0  "
      ]
     },
     "execution_count": 5,
     "metadata": {},
     "output_type": "execute_result"
    }
   ],
   "source": [
    "attrition_data.describe().T"
   ]
  },
  {
   "cell_type": "code",
   "execution_count": 6,
   "id": "bf42451d",
   "metadata": {},
   "outputs": [
    {
     "data": {
      "text/plain": [
       "Index(['Age', 'Attrition', 'BusinessTravel', 'DailyRate', 'DistanceFromHome',\n",
       "       'EnvironmentSatisfaction', 'Gender', 'HourlyRate', 'JobInvolvement',\n",
       "       'JobLevel', 'JobSatisfaction', 'MaritalStatus', 'MonthlyIncome',\n",
       "       'MonthlyRate', 'NumCompaniesWorked', 'OverTime', 'PercentSalaryHike',\n",
       "       'PerformanceRating', 'RelationshipSatisfaction', 'TotalWorkingYears',\n",
       "       'TrainingTimesLastYear', 'WorkLifeBalance', 'YearsAtCompany',\n",
       "       'YearsInCurrentRole', 'YearsSinceLastPromotion',\n",
       "       'YearsWithCurrManager'],\n",
       "      dtype='object')"
      ]
     },
     "execution_count": 6,
     "metadata": {},
     "output_type": "execute_result"
    }
   ],
   "source": [
    "attrition_data.columns"
   ]
  },
  {
   "cell_type": "code",
   "execution_count": 7,
   "id": "1a8eacd3",
   "metadata": {},
   "outputs": [
    {
     "data": {
      "text/plain": [
       "['Age',\n",
       " 'DailyRate',\n",
       " 'DistanceFromHome',\n",
       " 'EnvironmentSatisfaction',\n",
       " 'HourlyRate',\n",
       " 'JobInvolvement',\n",
       " 'JobLevel',\n",
       " 'JobSatisfaction',\n",
       " 'MonthlyIncome',\n",
       " 'MonthlyRate',\n",
       " 'NumCompaniesWorked',\n",
       " 'PercentSalaryHike',\n",
       " 'PerformanceRating',\n",
       " 'RelationshipSatisfaction',\n",
       " 'TotalWorkingYears',\n",
       " 'TrainingTimesLastYear',\n",
       " 'WorkLifeBalance',\n",
       " 'YearsAtCompany',\n",
       " 'YearsInCurrentRole',\n",
       " 'YearsSinceLastPromotion',\n",
       " 'YearsWithCurrManager']"
      ]
     },
     "execution_count": 7,
     "metadata": {},
     "output_type": "execute_result"
    }
   ],
   "source": [
    "# numeric and categorical columns\n",
    "num_col = attrition_data.describe().columns.tolist()\n",
    "num_col"
   ]
  },
  {
   "cell_type": "code",
   "execution_count": 8,
   "id": "4d54c5b7",
   "metadata": {},
   "outputs": [
    {
     "data": {
      "text/plain": [
       "['Attrition', 'BusinessTravel', 'Gender', 'MaritalStatus', 'OverTime']"
      ]
     },
     "execution_count": 8,
     "metadata": {},
     "output_type": "execute_result"
    }
   ],
   "source": [
    "cat_col = attrition_data.describe(include=\"object\").columns.tolist()\n",
    "cat_col"
   ]
  },
  {
   "cell_type": "code",
   "execution_count": 9,
   "id": "0dc9c6ca",
   "metadata": {},
   "outputs": [
    {
     "name": "stdout",
     "output_type": "stream",
     "text": [
      "<class 'pandas.core.frame.DataFrame'>\n",
      "RangeIndex: 1470 entries, 0 to 1469\n",
      "Data columns (total 27 columns):\n",
      " #   Column                    Non-Null Count  Dtype \n",
      "---  ------                    --------------  ----- \n",
      " 0   Age                       1470 non-null   int64 \n",
      " 1   Attrition                 1470 non-null   object\n",
      " 2   BusinessTravel            1470 non-null   object\n",
      " 3   DailyRate                 1470 non-null   int64 \n",
      " 4   DistanceFromHome          1470 non-null   int64 \n",
      " 5   EnvironmentSatisfaction   1470 non-null   int64 \n",
      " 6   Gender                    1470 non-null   object\n",
      " 7   HourlyRate                1470 non-null   int64 \n",
      " 8   JobInvolvement            1470 non-null   int64 \n",
      " 9   JobLevel                  1470 non-null   int64 \n",
      " 10  JobSatisfaction           1470 non-null   int64 \n",
      " 11  MaritalStatus             1470 non-null   object\n",
      " 12  MonthlyIncome             1470 non-null   int64 \n",
      " 13  MonthlyRate               1470 non-null   int64 \n",
      " 14  NumCompaniesWorked        1470 non-null   int64 \n",
      " 15  OverTime                  1470 non-null   object\n",
      " 16  PercentSalaryHike         1470 non-null   int64 \n",
      " 17  PerformanceRating         1470 non-null   int64 \n",
      " 18  RelationshipSatisfaction  1470 non-null   int64 \n",
      " 19  TotalWorkingYears         1470 non-null   int64 \n",
      " 20  TrainingTimesLastYear     1470 non-null   int64 \n",
      " 21  WorkLifeBalance           1470 non-null   int64 \n",
      " 22  YearsAtCompany            1470 non-null   int64 \n",
      " 23  YearsInCurrentRole        1470 non-null   int64 \n",
      " 24  YearsSinceLastPromotion   1470 non-null   int64 \n",
      " 25  YearsWithCurrManager      1470 non-null   int64 \n",
      " 26  Attrition_Num             1470 non-null   int64 \n",
      "dtypes: int64(22), object(5)\n",
      "memory usage: 310.2+ KB\n"
     ]
    }
   ],
   "source": [
    "attrition_dict = {\"Yes\": 1, \"No\": 0}\n",
    "attrition_data[\"Attrition_Num\"] = attrition_data[\"Attrition\"].map(attrition_dict)\n",
    "attrition_data.info()"
   ]
  },
  {
   "cell_type": "code",
   "execution_count": 10,
   "id": "919740ca",
   "metadata": {},
   "outputs": [
    {
     "name": "stdout",
     "output_type": "stream",
     "text": [
      "<class 'pandas.core.frame.DataFrame'>\n",
      "RangeIndex: 1470 entries, 0 to 1469\n",
      "Data columns (total 26 columns):\n",
      " #   Column                    Non-Null Count  Dtype \n",
      "---  ------                    --------------  ----- \n",
      " 0   Age                       1470 non-null   int64 \n",
      " 1   BusinessTravel            1470 non-null   object\n",
      " 2   DailyRate                 1470 non-null   int64 \n",
      " 3   DistanceFromHome          1470 non-null   int64 \n",
      " 4   EnvironmentSatisfaction   1470 non-null   int64 \n",
      " 5   Gender                    1470 non-null   object\n",
      " 6   HourlyRate                1470 non-null   int64 \n",
      " 7   JobInvolvement            1470 non-null   int64 \n",
      " 8   JobLevel                  1470 non-null   int64 \n",
      " 9   JobSatisfaction           1470 non-null   int64 \n",
      " 10  MaritalStatus             1470 non-null   object\n",
      " 11  MonthlyIncome             1470 non-null   int64 \n",
      " 12  MonthlyRate               1470 non-null   int64 \n",
      " 13  NumCompaniesWorked        1470 non-null   int64 \n",
      " 14  OverTime                  1470 non-null   object\n",
      " 15  PercentSalaryHike         1470 non-null   int64 \n",
      " 16  PerformanceRating         1470 non-null   int64 \n",
      " 17  RelationshipSatisfaction  1470 non-null   int64 \n",
      " 18  TotalWorkingYears         1470 non-null   int64 \n",
      " 19  TrainingTimesLastYear     1470 non-null   int64 \n",
      " 20  WorkLifeBalance           1470 non-null   int64 \n",
      " 21  YearsAtCompany            1470 non-null   int64 \n",
      " 22  YearsInCurrentRole        1470 non-null   int64 \n",
      " 23  YearsSinceLastPromotion   1470 non-null   int64 \n",
      " 24  YearsWithCurrManager      1470 non-null   int64 \n",
      " 25  Attrition_Num             1470 non-null   int64 \n",
      "dtypes: int64(22), object(4)\n",
      "memory usage: 298.7+ KB\n"
     ]
    }
   ],
   "source": [
    "attrition_data.drop(['Attrition'], axis=1, inplace=True)\n",
    "attrition_data.info()"
   ]
  },
  {
   "cell_type": "code",
   "execution_count": 11,
   "id": "1af85c64",
   "metadata": {
    "scrolled": true
   },
   "outputs": [
    {
     "name": "stdout",
     "output_type": "stream",
     "text": [
      "<class 'pandas.core.frame.DataFrame'>\n",
      "RangeIndex: 1470 entries, 0 to 1469\n",
      "Data columns (total 26 columns):\n",
      " #   Column                    Non-Null Count  Dtype \n",
      "---  ------                    --------------  ----- \n",
      " 0   Attrition                 1470 non-null   int64 \n",
      " 1   Age                       1470 non-null   int64 \n",
      " 2   BusinessTravel            1470 non-null   object\n",
      " 3   DailyRate                 1470 non-null   int64 \n",
      " 4   DistanceFromHome          1470 non-null   int64 \n",
      " 5   EnvironmentSatisfaction   1470 non-null   int64 \n",
      " 6   Gender                    1470 non-null   object\n",
      " 7   HourlyRate                1470 non-null   int64 \n",
      " 8   JobInvolvement            1470 non-null   int64 \n",
      " 9   JobLevel                  1470 non-null   int64 \n",
      " 10  JobSatisfaction           1470 non-null   int64 \n",
      " 11  MaritalStatus             1470 non-null   object\n",
      " 12  MonthlyIncome             1470 non-null   int64 \n",
      " 13  MonthlyRate               1470 non-null   int64 \n",
      " 14  NumCompaniesWorked        1470 non-null   int64 \n",
      " 15  OverTime                  1470 non-null   object\n",
      " 16  PercentSalaryHike         1470 non-null   int64 \n",
      " 17  PerformanceRating         1470 non-null   int64 \n",
      " 18  RelationshipSatisfaction  1470 non-null   int64 \n",
      " 19  TotalWorkingYears         1470 non-null   int64 \n",
      " 20  TrainingTimesLastYear     1470 non-null   int64 \n",
      " 21  WorkLifeBalance           1470 non-null   int64 \n",
      " 22  YearsAtCompany            1470 non-null   int64 \n",
      " 23  YearsInCurrentRole        1470 non-null   int64 \n",
      " 24  YearsSinceLastPromotion   1470 non-null   int64 \n",
      " 25  YearsWithCurrManager      1470 non-null   int64 \n",
      "dtypes: int64(22), object(4)\n",
      "memory usage: 298.7+ KB\n"
     ]
    }
   ],
   "source": [
    "Attrition = attrition_data.pop(\"Attrition_Num\")\n",
    "attrition_data.insert(0, \"Attrition\", Attrition)\n",
    "attrition_data.info()"
   ]
  },
  {
   "cell_type": "code",
   "execution_count": 12,
   "id": "51861fb2",
   "metadata": {},
   "outputs": [
    {
     "data": {
      "text/plain": [
       "array(['Travel_Rarely', 'Travel_Frequently', 'Non-Travel'], dtype=object)"
      ]
     },
     "execution_count": 12,
     "metadata": {},
     "output_type": "execute_result"
    }
   ],
   "source": [
    "# business travel\n",
    "attrition_data[\"BusinessTravel\"].unique()"
   ]
  },
  {
   "cell_type": "code",
   "execution_count": 13,
   "id": "4f8941c6",
   "metadata": {},
   "outputs": [],
   "source": [
    "attrition_data[\"BusinessTravel\"].replace('Travel_Rarely', 1, inplace=True)\n",
    "attrition_data[\"BusinessTravel\"].replace('Travel_Frequently', 2, inplace=True)\n",
    "attrition_data[\"BusinessTravel\"].replace('Non-Travel', 3, inplace=True)"
   ]
  },
  {
   "cell_type": "code",
   "execution_count": 14,
   "id": "112e481a",
   "metadata": {},
   "outputs": [
    {
     "data": {
      "text/plain": [
       "array(['Female', 'Male'], dtype=object)"
      ]
     },
     "execution_count": 14,
     "metadata": {},
     "output_type": "execute_result"
    }
   ],
   "source": [
    "# business travel\n",
    "attrition_data[\"Gender\"].unique()"
   ]
  },
  {
   "cell_type": "code",
   "execution_count": 15,
   "id": "f046d54c",
   "metadata": {},
   "outputs": [],
   "source": [
    "attrition_data[\"Gender\"].replace('Female', 0, inplace=True)\n",
    "attrition_data[\"Gender\"].replace('Male', 1, inplace=True)"
   ]
  },
  {
   "cell_type": "code",
   "execution_count": 16,
   "id": "d2bc13f9",
   "metadata": {},
   "outputs": [
    {
     "data": {
      "text/plain": [
       "array(['Yes', 'No'], dtype=object)"
      ]
     },
     "execution_count": 16,
     "metadata": {},
     "output_type": "execute_result"
    }
   ],
   "source": [
    "attrition_data[\"OverTime\"].unique()"
   ]
  },
  {
   "cell_type": "code",
   "execution_count": 17,
   "id": "74bada30",
   "metadata": {},
   "outputs": [],
   "source": [
    "attrition_data[\"OverTime\"].replace('No', 0, inplace=True)\n",
    "attrition_data[\"OverTime\"].replace('Yes', 1, inplace=True)"
   ]
  },
  {
   "cell_type": "code",
   "execution_count": 18,
   "id": "bfee5c45",
   "metadata": {},
   "outputs": [
    {
     "name": "stdout",
     "output_type": "stream",
     "text": [
      "<class 'pandas.core.frame.DataFrame'>\n",
      "RangeIndex: 1470 entries, 0 to 1469\n",
      "Data columns (total 26 columns):\n",
      " #   Column                    Non-Null Count  Dtype \n",
      "---  ------                    --------------  ----- \n",
      " 0   Attrition                 1470 non-null   int64 \n",
      " 1   Age                       1470 non-null   int64 \n",
      " 2   BusinessTravel            1470 non-null   int64 \n",
      " 3   DailyRate                 1470 non-null   int64 \n",
      " 4   DistanceFromHome          1470 non-null   int64 \n",
      " 5   EnvironmentSatisfaction   1470 non-null   int64 \n",
      " 6   Gender                    1470 non-null   int64 \n",
      " 7   HourlyRate                1470 non-null   int64 \n",
      " 8   JobInvolvement            1470 non-null   int64 \n",
      " 9   JobLevel                  1470 non-null   int64 \n",
      " 10  JobSatisfaction           1470 non-null   int64 \n",
      " 11  MaritalStatus             1470 non-null   object\n",
      " 12  MonthlyIncome             1470 non-null   int64 \n",
      " 13  MonthlyRate               1470 non-null   int64 \n",
      " 14  NumCompaniesWorked        1470 non-null   int64 \n",
      " 15  OverTime                  1470 non-null   int64 \n",
      " 16  PercentSalaryHike         1470 non-null   int64 \n",
      " 17  PerformanceRating         1470 non-null   int64 \n",
      " 18  RelationshipSatisfaction  1470 non-null   int64 \n",
      " 19  TotalWorkingYears         1470 non-null   int64 \n",
      " 20  TrainingTimesLastYear     1470 non-null   int64 \n",
      " 21  WorkLifeBalance           1470 non-null   int64 \n",
      " 22  YearsAtCompany            1470 non-null   int64 \n",
      " 23  YearsInCurrentRole        1470 non-null   int64 \n",
      " 24  YearsSinceLastPromotion   1470 non-null   int64 \n",
      " 25  YearsWithCurrManager      1470 non-null   int64 \n",
      "dtypes: int64(25), object(1)\n",
      "memory usage: 298.7+ KB\n"
     ]
    }
   ],
   "source": [
    "attrition_data.info()"
   ]
  },
  {
   "cell_type": "markdown",
   "id": "61c36287",
   "metadata": {},
   "source": [
    "# EXPLORATORY DATA ANALYSIS"
   ]
  },
  {
   "cell_type": "markdown",
   "id": "ad24ba69",
   "metadata": {},
   "source": [
    "# Correlation"
   ]
  },
  {
   "cell_type": "code",
   "execution_count": 19,
   "id": "5054f4fc",
   "metadata": {},
   "outputs": [],
   "source": [
    "corr_matrix = attrition_data.corr()"
   ]
  },
  {
   "cell_type": "code",
   "execution_count": 20,
   "id": "c308c5f5",
   "metadata": {},
   "outputs": [
    {
     "data": {
      "image/png": "[encoded data removed]",
      "text/plain": [
       "<Figure size 1500x1500 with 2 Axes>"
      ]
     },
     "metadata": {},
     "output_type": "display_data"
    }
   ],
   "source": [
    "mask = np.triu(np.ones_like(corr_matrix, dtype=bool))\n",
    "fig, ax = plt.subplots(figsize=(15, 15))\n",
    "cmap = sns.color_palette(\"coolwarm\", as_cmap=True)\n",
    "sns.heatmap(corr_matrix, mask=mask, cmap=cmap, annot=True, fmt=\".2f\", square=True, ax=ax)\n",
    "\n",
    "plt.xticks(rotation=90, ha=\"right\")\n",
    "\n",
    "plt.show()"
   ]
  },
  {
   "cell_type": "code",
   "execution_count": 21,
   "id": "473bbce4",
   "metadata": {},
   "outputs": [],
   "source": [
    "# store selected features in a df\n",
    "attrition_features = attrition_data[['Attrition', 'Age', 'BusinessTravel', 'EnvironmentSatisfaction', 'Gender', 'JobLevel', \n",
    "                                    'JobSatisfaction', 'MonthlyIncome','OverTime', 'TrainingTimesLastYear', \n",
    "                                    'WorkLifeBalance', 'YearsAtCompany']]"
   ]
  },
  {
   "cell_type": "code",
   "execution_count": 22,
   "id": "d69faffa",
   "metadata": {},
   "outputs": [
    {
     "name": "stdout",
     "output_type": "stream",
     "text": [
      "<class 'pandas.core.frame.DataFrame'>\n",
      "RangeIndex: 1470 entries, 0 to 1469\n",
      "Data columns (total 12 columns):\n",
      " #   Column                   Non-Null Count  Dtype\n",
      "---  ------                   --------------  -----\n",
      " 0   Attrition                1470 non-null   int64\n",
      " 1   Age                      1470 non-null   int64\n",
      " 2   BusinessTravel           1470 non-null   int64\n",
      " 3   EnvironmentSatisfaction  1470 non-null   int64\n",
      " 4   Gender                   1470 non-null   int64\n",
      " 5   JobLevel                 1470 non-null   int64\n",
      " 6   JobSatisfaction          1470 non-null   int64\n",
      " 7   MonthlyIncome            1470 non-null   int64\n",
      " 8   OverTime                 1470 non-null   int64\n",
      " 9   TrainingTimesLastYear    1470 non-null   int64\n",
      " 10  WorkLifeBalance          1470 non-null   int64\n",
      " 11  YearsAtCompany           1470 non-null   int64\n",
      "dtypes: int64(12)\n",
      "memory usage: 137.9 KB\n"
     ]
    }
   ],
   "source": [
    "attrition_features.info()"
   ]
  },
  {
   "cell_type": "code",
   "execution_count": 23,
   "id": "cf6011fc",
   "metadata": {},
   "outputs": [
    {
     "data": {
      "text/plain": [
       "Attrition                  False\n",
       "Age                        False\n",
       "BusinessTravel             False\n",
       "EnvironmentSatisfaction    False\n",
       "Gender                     False\n",
       "JobLevel                   False\n",
       "JobSatisfaction            False\n",
       "MonthlyIncome              False\n",
       "OverTime                   False\n",
       "TrainingTimesLastYear      False\n",
       "WorkLifeBalance            False\n",
       "YearsAtCompany             False\n",
       "dtype: bool"
      ]
     },
     "execution_count": 23,
     "metadata": {},
     "output_type": "execute_result"
    }
   ],
   "source": [
    "attrition_features.isnull().any()"
   ]
  },
  {
   "cell_type": "code",
   "execution_count": 24,
   "id": "8b85044d",
   "metadata": {},
   "outputs": [
    {
     "data": {
      "text/plain": [
       "Attrition                  False\n",
       "Age                        False\n",
       "BusinessTravel             False\n",
       "EnvironmentSatisfaction    False\n",
       "Gender                     False\n",
       "JobLevel                   False\n",
       "JobSatisfaction            False\n",
       "MonthlyIncome              False\n",
       "OverTime                   False\n",
       "TrainingTimesLastYear      False\n",
       "WorkLifeBalance            False\n",
       "YearsAtCompany             False\n",
       "dtype: bool"
      ]
     },
     "execution_count": 24,
     "metadata": {},
     "output_type": "execute_result"
    }
   ],
   "source": [
    "attrition_features.isna().any()"
   ]
  },
  {
   "cell_type": "code",
   "execution_count": 25,
   "id": "0450f0db",
   "metadata": {},
   "outputs": [
    {
     "data": {
      "text/html": [
       "<div>\n",
       "<style scoped>\n",
       "    .dataframe tbody tr th:only-of-type {\n",
       "        vertical-align: middle;\n",
       "    }\n",
       "\n",
       "    .dataframe tbody tr th {\n",
       "        vertical-align: top;\n",
       "    }\n",
       "\n",
       "    .dataframe thead th {\n",
       "        text-align: right;\n",
       "    }\n",
       "</style>\n",
       "<table border=\"1\" class=\"dataframe\">\n",
       "  <thead>\n",
       "    <tr style=\"text-align: right;\">\n",
       "      <th></th>\n",
       "      <th>count</th>\n",
       "      <th>mean</th>\n",
       "      <th>std</th>\n",
       "      <th>min</th>\n",
       "      <th>25%</th>\n",
       "      <th>50%</th>\n",
       "      <th>75%</th>\n",
       "      <th>max</th>\n",
       "    </tr>\n",
       "  </thead>\n",
       "  <tbody>\n",
       "    <tr>\n",
       "      <th>Attrition</th>\n",
       "      <td>1470.0</td>\n",
       "      <td>0.161224</td>\n",
       "      <td>0.367863</td>\n",
       "      <td>0.0</td>\n",
       "      <td>0.0</td>\n",
       "      <td>0.0</td>\n",
       "      <td>0.0</td>\n",
       "      <td>1.0</td>\n",
       "    </tr>\n",
       "    <tr>\n",
       "      <th>Age</th>\n",
       "      <td>1470.0</td>\n",
       "      <td>36.923810</td>\n",
       "      <td>9.135373</td>\n",
       "      <td>18.0</td>\n",
       "      <td>30.0</td>\n",
       "      <td>36.0</td>\n",
       "      <td>43.0</td>\n",
       "      <td>60.0</td>\n",
       "    </tr>\n",
       "    <tr>\n",
       "      <th>BusinessTravel</th>\n",
       "      <td>1470.0</td>\n",
       "      <td>1.392517</td>\n",
       "      <td>0.665455</td>\n",
       "      <td>1.0</td>\n",
       "      <td>1.0</td>\n",
       "      <td>1.0</td>\n",
       "      <td>2.0</td>\n",
       "      <td>3.0</td>\n",
       "    </tr>\n",
       "    <tr>\n",
       "      <th>EnvironmentSatisfaction</th>\n",
       "      <td>1470.0</td>\n",
       "      <td>2.721769</td>\n",
       "      <td>1.093082</td>\n",
       "      <td>1.0</td>\n",
       "      <td>2.0</td>\n",
       "      <td>3.0</td>\n",
       "      <td>4.0</td>\n",
       "      <td>4.0</td>\n",
       "    </tr>\n",
       "    <tr>\n",
       "      <th>Gender</th>\n",
       "      <td>1470.0</td>\n",
       "      <td>0.600000</td>\n",
       "      <td>0.490065</td>\n",
       "      <td>0.0</td>\n",
       "      <td>0.0</td>\n",
       "      <td>1.0</td>\n",
       "      <td>1.0</td>\n",
       "      <td>1.0</td>\n",
       "    </tr>\n",
       "    <tr>\n",
       "      <th>JobLevel</th>\n",
       "      <td>1470.0</td>\n",
       "      <td>2.063946</td>\n",
       "      <td>1.106940</td>\n",
       "      <td>1.0</td>\n",
       "      <td>1.0</td>\n",
       "      <td>2.0</td>\n",
       "      <td>3.0</td>\n",
       "      <td>5.0</td>\n",
       "    </tr>\n",
       "    <tr>\n",
       "      <th>JobSatisfaction</th>\n",
       "      <td>1470.0</td>\n",
       "      <td>2.728571</td>\n",
       "      <td>1.102846</td>\n",
       "      <td>1.0</td>\n",
       "      <td>2.0</td>\n",
       "      <td>3.0</td>\n",
       "      <td>4.0</td>\n",
       "      <td>4.0</td>\n",
       "    </tr>\n",
       "    <tr>\n",
       "      <th>MonthlyIncome</th>\n",
       "      <td>1470.0</td>\n",
       "      <td>6502.931293</td>\n",
       "      <td>4707.956783</td>\n",
       "      <td>1009.0</td>\n",
       "      <td>2911.0</td>\n",
       "      <td>4919.0</td>\n",
       "      <td>8379.0</td>\n",
       "      <td>19999.0</td>\n",
       "    </tr>\n",
       "    <tr>\n",
       "      <th>OverTime</th>\n",
       "      <td>1470.0</td>\n",
       "      <td>0.282993</td>\n",
       "      <td>0.450606</td>\n",
       "      <td>0.0</td>\n",
       "      <td>0.0</td>\n",
       "      <td>0.0</td>\n",
       "      <td>1.0</td>\n",
       "      <td>1.0</td>\n",
       "    </tr>\n",
       "    <tr>\n",
       "      <th>TrainingTimesLastYear</th>\n",
       "      <td>1470.0</td>\n",
       "      <td>2.799320</td>\n",
       "      <td>1.289271</td>\n",
       "      <td>0.0</td>\n",
       "      <td>2.0</td>\n",
       "      <td>3.0</td>\n",
       "      <td>3.0</td>\n",
       "      <td>6.0</td>\n",
       "    </tr>\n",
       "    <tr>\n",
       "      <th>WorkLifeBalance</th>\n",
       "      <td>1470.0</td>\n",
       "      <td>2.761224</td>\n",
       "      <td>0.706476</td>\n",
       "      <td>1.0</td>\n",
       "      <td>2.0</td>\n",
       "      <td>3.0</td>\n",
       "      <td>3.0</td>\n",
       "      <td>4.0</td>\n",
       "    </tr>\n",
       "    <tr>\n",
       "      <th>YearsAtCompany</th>\n",
       "      <td>1470.0</td>\n",
       "      <td>7.008163</td>\n",
       "      <td>6.126525</td>\n",
       "      <td>0.0</td>\n",
       "      <td>3.0</td>\n",
       "      <td>5.0</td>\n",
       "      <td>9.0</td>\n",
       "      <td>40.0</td>\n",
       "    </tr>\n",
       "  </tbody>\n",
       "</table>\n",
       "</div>"
      ],
      "text/plain": [
       "                          count         mean          std     min     25%  \\\n",
       "Attrition                1470.0     0.161224     0.367863     0.0     0.0   \n",
       "Age                      1470.0    36.923810     9.135373    18.0    30.0   \n",
       "BusinessTravel           1470.0     1.392517     0.665455     1.0     1.0   \n",
       "EnvironmentSatisfaction  1470.0     2.721769     1.093082     1.0     2.0   \n",
       "Gender                   1470.0     0.600000     0.490065     0.0     0.0   \n",
       "JobLevel                 1470.0     2.063946     1.106940     1.0     1.0   \n",
       "JobSatisfaction          1470.0     2.728571     1.102846     1.0     2.0   \n",
       "MonthlyIncome            1470.0  6502.931293  4707.956783  1009.0  2911.0   \n",
       "OverTime                 1470.0     0.282993     0.450606     0.0     0.0   \n",
       "TrainingTimesLastYear    1470.0     2.799320     1.289271     0.0     2.0   \n",
       "WorkLifeBalance          1470.0     2.761224     0.706476     1.0     2.0   \n",
       "YearsAtCompany           1470.0     7.008163     6.126525     0.0     3.0   \n",
       "\n",
       "                            50%     75%      max  \n",
       "Attrition                   0.0     0.0      1.0  \n",
       "Age                        36.0    43.0     60.0  \n",
       "BusinessTravel              1.0     2.0      3.0  \n",
       "EnvironmentSatisfaction     3.0     4.0      4.0  \n",
       "Gender                      1.0     1.0      1.0  \n",
       "JobLevel                    2.0     3.0      5.0  \n",
       "JobSatisfaction             3.0     4.0      4.0  \n",
       "MonthlyIncome            4919.0  8379.0  19999.0  \n",
       "OverTime                    0.0     1.0      1.0  \n",
       "TrainingTimesLastYear       3.0     3.0      6.0  \n",
       "WorkLifeBalance             3.0     3.0      4.0  \n",
       "YearsAtCompany              5.0     9.0     40.0  "
      ]
     },
     "execution_count": 25,
     "metadata": {},
     "output_type": "execute_result"
    }
   ],
   "source": [
    "attrition_features.describe().T"
   ]
  },
  {
   "cell_type": "code",
   "execution_count": 26,
   "id": "dd2adf55",
   "metadata": {},
   "outputs": [],
   "source": [
    "# filter data by age groups\n",
    "def replace_age_category(row=None):\n",
    "    age_category = None\n",
    "    \n",
    "    if row['Age'] >=18 and row['Age'] <=25:\n",
    "        age_category = 'Young Adult (18-25)'\n",
    "    elif row['Age'] >=26 and row['Age']<= 44:\n",
    "        age_category = 'Adult (26-44)'\n",
    "    elif row['Age'] >=45 and row['Age']<= 59:\n",
    "        age_category = 'Middle-age (45-59)'\n",
    "    elif row['Age'] >=60:\n",
    "        age_category = 'Old age (60+)'\n",
    "    row['Age_Profile'] = age_category\n",
    "    \n",
    "    return row"
   ]
  },
  {
   "cell_type": "code",
   "execution_count": 27,
   "id": "24ab410d",
   "metadata": {},
   "outputs": [],
   "source": [
    "attrition_features = attrition_features.apply(lambda x: replace_age_category(x), axis=1)\n",
    "# attrition_features.info()"
   ]
  },
  {
   "cell_type": "code",
   "execution_count": 28,
   "id": "efe014b0",
   "metadata": {},
   "outputs": [],
   "source": [
    "# drop 'Age' column\n",
    "attrition_features.drop(columns=['Age'], inplace=True)"
   ]
  },
  {
   "cell_type": "code",
   "execution_count": 29,
   "id": "cde93f3e",
   "metadata": {},
   "outputs": [
    {
     "name": "stdout",
     "output_type": "stream",
     "text": [
      "<class 'pandas.core.frame.DataFrame'>\n",
      "RangeIndex: 1470 entries, 0 to 1469\n",
      "Data columns (total 12 columns):\n",
      " #   Column                   Non-Null Count  Dtype \n",
      "---  ------                   --------------  ----- \n",
      " 0   Attrition                1470 non-null   int64 \n",
      " 1   BusinessTravel           1470 non-null   int64 \n",
      " 2   EnvironmentSatisfaction  1470 non-null   int64 \n",
      " 3   Gender                   1470 non-null   int64 \n",
      " 4   JobLevel                 1470 non-null   int64 \n",
      " 5   JobSatisfaction          1470 non-null   int64 \n",
      " 6   MonthlyIncome            1470 non-null   int64 \n",
      " 7   OverTime                 1470 non-null   int64 \n",
      " 8   TrainingTimesLastYear    1470 non-null   int64 \n",
      " 9   WorkLifeBalance          1470 non-null   int64 \n",
      " 10  YearsAtCompany           1470 non-null   int64 \n",
      " 11  Age_Profile              1470 non-null   object\n",
      "dtypes: int64(11), object(1)\n",
      "memory usage: 137.9+ KB\n"
     ]
    }
   ],
   "source": [
    "attrition_features.info()"
   ]
  },
  {
   "cell_type": "code",
   "execution_count": 30,
   "id": "66c58e81",
   "metadata": {},
   "outputs": [
    {
     "data": {
      "text/plain": [
       "array(['Adult (26-44)', 'Middle-age (45-59)', 'Young Adult (18-25)',\n",
       "       'Old age (60+)'], dtype=object)"
      ]
     },
     "execution_count": 30,
     "metadata": {},
     "output_type": "execute_result"
    }
   ],
   "source": [
    "attrition_features['Age_Profile'].unique()"
   ]
  },
  {
   "cell_type": "code",
   "execution_count": 31,
   "id": "ab87a02a",
   "metadata": {},
   "outputs": [
    {
     "name": "stdout",
     "output_type": "stream",
     "text": [
      "<class 'pandas.core.frame.DataFrame'>\n",
      "RangeIndex: 1470 entries, 0 to 1469\n",
      "Data columns (total 12 columns):\n",
      " #   Column                   Non-Null Count  Dtype\n",
      "---  ------                   --------------  -----\n",
      " 0   Attrition                1470 non-null   int64\n",
      " 1   BusinessTravel           1470 non-null   int64\n",
      " 2   EnvironmentSatisfaction  1470 non-null   int64\n",
      " 3   Gender                   1470 non-null   int64\n",
      " 4   JobLevel                 1470 non-null   int64\n",
      " 5   JobSatisfaction          1470 non-null   int64\n",
      " 6   MonthlyIncome            1470 non-null   int64\n",
      " 7   OverTime                 1470 non-null   int64\n",
      " 8   TrainingTimesLastYear    1470 non-null   int64\n",
      " 9   WorkLifeBalance          1470 non-null   int64\n",
      " 10  YearsAtCompany           1470 non-null   int64\n",
      " 11  Age_Profile              1470 non-null   int64\n",
      "dtypes: int64(12)\n",
      "memory usage: 137.9 KB\n"
     ]
    }
   ],
   "source": [
    "attrition_features['Age_Profile'].replace({'Young Adult (18-25)':1, 'Adult (26-44)':2, 'Middle-age (45-59)':3, 'Old age (60+)':4}, inplace=True)\n",
    "attrition_features.info()"
   ]
  },
  {
   "cell_type": "code",
   "execution_count": 32,
   "id": "5eea5213",
   "metadata": {},
   "outputs": [],
   "source": [
    "# Save attrition features to CSV file\n",
    "# attrition_features.to_csv('contents/attrition_features.csv', index=False)"
   ]
  },
  {
   "cell_type": "code",
   "execution_count": 33,
   "id": "3f40592b",
   "metadata": {},
   "outputs": [
    {
     "data": {
      "text/html": [
       "<div>\n",
       "<style scoped>\n",
       "    .dataframe tbody tr th:only-of-type {\n",
       "        vertical-align: middle;\n",
       "    }\n",
       "\n",
       "    .dataframe tbody tr th {\n",
       "        vertical-align: top;\n",
       "    }\n",
       "\n",
       "    .dataframe thead th {\n",
       "        text-align: right;\n",
       "    }\n",
       "</style>\n",
       "<table border=\"1\" class=\"dataframe\">\n",
       "  <thead>\n",
       "    <tr style=\"text-align: right;\">\n",
       "      <th></th>\n",
       "      <th>Attrition</th>\n",
       "      <th>BusinessTravel</th>\n",
       "      <th>EnvironmentSatisfaction</th>\n",
       "      <th>Gender</th>\n",
       "      <th>JobLevel</th>\n",
       "      <th>JobSatisfaction</th>\n",
       "      <th>MonthlyIncome</th>\n",
       "      <th>OverTime</th>\n",
       "      <th>TrainingTimesLastYear</th>\n",
       "      <th>WorkLifeBalance</th>\n",
       "      <th>YearsAtCompany</th>\n",
       "      <th>Age_Profile</th>\n",
       "    </tr>\n",
       "  </thead>\n",
       "  <tbody>\n",
       "    <tr>\n",
       "      <th>0</th>\n",
       "      <td>1</td>\n",
       "      <td>1</td>\n",
       "      <td>2</td>\n",
       "      <td>0</td>\n",
       "      <td>2</td>\n",
       "      <td>4</td>\n",
       "      <td>5993</td>\n",
       "      <td>1</td>\n",
       "      <td>0</td>\n",
       "      <td>1</td>\n",
       "      <td>6</td>\n",
       "      <td>2</td>\n",
       "    </tr>\n",
       "    <tr>\n",
       "      <th>1</th>\n",
       "      <td>0</td>\n",
       "      <td>2</td>\n",
       "      <td>3</td>\n",
       "      <td>1</td>\n",
       "      <td>2</td>\n",
       "      <td>2</td>\n",
       "      <td>5130</td>\n",
       "      <td>0</td>\n",
       "      <td>3</td>\n",
       "      <td>3</td>\n",
       "      <td>10</td>\n",
       "      <td>3</td>\n",
       "    </tr>\n",
       "    <tr>\n",
       "      <th>2</th>\n",
       "      <td>1</td>\n",
       "      <td>1</td>\n",
       "      <td>4</td>\n",
       "      <td>1</td>\n",
       "      <td>1</td>\n",
       "      <td>3</td>\n",
       "      <td>2090</td>\n",
       "      <td>1</td>\n",
       "      <td>3</td>\n",
       "      <td>3</td>\n",
       "      <td>0</td>\n",
       "      <td>2</td>\n",
       "    </tr>\n",
       "    <tr>\n",
       "      <th>3</th>\n",
       "      <td>0</td>\n",
       "      <td>2</td>\n",
       "      <td>4</td>\n",
       "      <td>0</td>\n",
       "      <td>1</td>\n",
       "      <td>3</td>\n",
       "      <td>2909</td>\n",
       "      <td>1</td>\n",
       "      <td>3</td>\n",
       "      <td>3</td>\n",
       "      <td>8</td>\n",
       "      <td>2</td>\n",
       "    </tr>\n",
       "    <tr>\n",
       "      <th>4</th>\n",
       "      <td>0</td>\n",
       "      <td>1</td>\n",
       "      <td>1</td>\n",
       "      <td>1</td>\n",
       "      <td>1</td>\n",
       "      <td>2</td>\n",
       "      <td>3468</td>\n",
       "      <td>0</td>\n",
       "      <td>3</td>\n",
       "      <td>3</td>\n",
       "      <td>2</td>\n",
       "      <td>2</td>\n",
       "    </tr>\n",
       "    <tr>\n",
       "      <th>5</th>\n",
       "      <td>0</td>\n",
       "      <td>2</td>\n",
       "      <td>4</td>\n",
       "      <td>1</td>\n",
       "      <td>1</td>\n",
       "      <td>4</td>\n",
       "      <td>3068</td>\n",
       "      <td>0</td>\n",
       "      <td>2</td>\n",
       "      <td>2</td>\n",
       "      <td>7</td>\n",
       "      <td>2</td>\n",
       "    </tr>\n",
       "    <tr>\n",
       "      <th>6</th>\n",
       "      <td>0</td>\n",
       "      <td>1</td>\n",
       "      <td>3</td>\n",
       "      <td>0</td>\n",
       "      <td>1</td>\n",
       "      <td>1</td>\n",
       "      <td>2670</td>\n",
       "      <td>1</td>\n",
       "      <td>3</td>\n",
       "      <td>2</td>\n",
       "      <td>1</td>\n",
       "      <td>3</td>\n",
       "    </tr>\n",
       "    <tr>\n",
       "      <th>7</th>\n",
       "      <td>0</td>\n",
       "      <td>1</td>\n",
       "      <td>4</td>\n",
       "      <td>1</td>\n",
       "      <td>1</td>\n",
       "      <td>3</td>\n",
       "      <td>2693</td>\n",
       "      <td>0</td>\n",
       "      <td>2</td>\n",
       "      <td>3</td>\n",
       "      <td>1</td>\n",
       "      <td>2</td>\n",
       "    </tr>\n",
       "    <tr>\n",
       "      <th>8</th>\n",
       "      <td>0</td>\n",
       "      <td>2</td>\n",
       "      <td>4</td>\n",
       "      <td>1</td>\n",
       "      <td>3</td>\n",
       "      <td>3</td>\n",
       "      <td>9526</td>\n",
       "      <td>0</td>\n",
       "      <td>2</td>\n",
       "      <td>3</td>\n",
       "      <td>9</td>\n",
       "      <td>2</td>\n",
       "    </tr>\n",
       "    <tr>\n",
       "      <th>9</th>\n",
       "      <td>0</td>\n",
       "      <td>1</td>\n",
       "      <td>3</td>\n",
       "      <td>1</td>\n",
       "      <td>2</td>\n",
       "      <td>3</td>\n",
       "      <td>5237</td>\n",
       "      <td>0</td>\n",
       "      <td>3</td>\n",
       "      <td>2</td>\n",
       "      <td>7</td>\n",
       "      <td>2</td>\n",
       "    </tr>\n",
       "  </tbody>\n",
       "</table>\n",
       "</div>"
      ],
      "text/plain": [
       "   Attrition  BusinessTravel  EnvironmentSatisfaction  Gender  JobLevel  \\\n",
       "0          1               1                        2       0         2   \n",
       "1          0               2                        3       1         2   \n",
       "2          1               1                        4       1         1   \n",
       "3          0               2                        4       0         1   \n",
       "4          0               1                        1       1         1   \n",
       "5          0               2                        4       1         1   \n",
       "6          0               1                        3       0         1   \n",
       "7          0               1                        4       1         1   \n",
       "8          0               2                        4       1         3   \n",
       "9          0               1                        3       1         2   \n",
       "\n",
       "   JobSatisfaction  MonthlyIncome  OverTime  TrainingTimesLastYear  \\\n",
       "0                4           5993         1                      0   \n",
       "1                2           5130         0                      3   \n",
       "2                3           2090         1                      3   \n",
       "3                3           2909         1                      3   \n",
       "4                2           3468         0                      3   \n",
       "5                4           3068         0                      2   \n",
       "6                1           2670         1                      3   \n",
       "7                3           2693         0                      2   \n",
       "8                3           9526         0                      2   \n",
       "9                3           5237         0                      3   \n",
       "\n",
       "   WorkLifeBalance  YearsAtCompany  Age_Profile  \n",
       "0                1               6            2  \n",
       "1                3              10            3  \n",
       "2                3               0            2  \n",
       "3                3               8            2  \n",
       "4                3               2            2  \n",
       "5                2               7            2  \n",
       "6                2               1            3  \n",
       "7                3               1            2  \n",
       "8                3               9            2  \n",
       "9                2               7            2  "
      ]
     },
     "execution_count": 33,
     "metadata": {},
     "output_type": "execute_result"
    }
   ],
   "source": [
    "# for plotting/EDA purposes, load dataframe\n",
    "attrition_features_eda = pd.read_csv(\"contents/attrition_features.csv\")\n",
    "attrition_features_eda.head(10)"
   ]
  },
  {
   "cell_type": "code",
   "execution_count": 34,
   "id": "232e51e1",
   "metadata": {},
   "outputs": [],
   "source": [
    "# Set Attrition Palette\n",
    "attrition_palette = {1: \"#0570b0\", 0: '#bdc9e1'}"
   ]
  },
  {
   "cell_type": "code",
   "execution_count": 35,
   "id": "f9826ae8",
   "metadata": {},
   "outputs": [],
   "source": [
    "# Plotting Ordinal Features\n",
    "def vertical_viz_ordinal(df, feature, cat):\n",
    "    filtered_df = df.groupby([cat, 'Attrition']).size().reset_index(name='Counts')\n",
    "    filtered_df['Percentages'] = (filtered_df['Counts'] / filtered_df.groupby(cat)['Counts'].transform('sum') * 100).round(1)\n",
    "\n",
    "    plt.figure(figsize=(6,3), dpi=200)\n",
    "\n",
    "    order = df.sort_values(by=[feature])\n",
    "\n",
    "    ax = sns.histplot(data=order, x=cat, hue=\"Attrition\", palette=attrition_palette, multiple=\"stack\", shrink=0.8, alpha=0.8, stat='percent', legend=False)\n",
    "    ax.set(xlabel=None, ylabel=None, yticklabels=[])\n",
    "    ax.tick_params(axis='both', labelsize=8)\n",
    "\n",
    "\n",
    "    sns.despine(left=True, bottom=True)\n",
    "\n",
    "    for i, v in enumerate(order[cat].unique()):\n",
    "        for j, attrition_value in enumerate([1]):\n",
    "            filtered = filtered_df[(filtered_df[cat]==v) & (filtered_df['Attrition']==attrition_value)]\n",
    "            if not filtered.empty:\n",
    "                percentage = '{:.1f}%'.format(filtered_df[(filtered_df[cat]==v) & (filtered_df['Attrition']==attrition_value)]['Percentages'].values[0])\n",
    "                bar = ax.containers[j].get_children()[i]\n",
    "                ax.annotate(percentage, xy=(bar.get_x() + bar.get_width() / 2, bar.get_height()*1.02), ha='center', fontsize=10, color='white', fontweight='bold')\n",
    "\n",
    "    plt.show()"
   ]
  },
  {
   "cell_type": "code",
   "execution_count": 36,
   "id": "db5a18b5",
   "metadata": {},
   "outputs": [],
   "source": [
    "# Plotting Categorical Features\n",
    "def horizontal_viz_cat(df, cat):\n",
    "    attrition_gender_data = df.groupby([cat, 'Attrition']).size().reset_index(name='Counts')\n",
    "    attrition_gender_data['Percentages'] = (attrition_gender_data['Counts'] / attrition_gender_data.groupby(cat)['Counts'].transform('sum') * 100).round(1)\n",
    "\n",
    "    plt.figure(figsize=(6,3), dpi=200)\n",
    "\n",
    "    ax = sns.histplot(data=df, y=cat, hue=\"Attrition\", palette=attrition_palette, multiple=\"stack\", shrink=0.8, alpha=0.8, stat='percent', legend=False)\n",
    "    ax.set(xlabel=None, ylabel=None, xticklabels=[])\n",
    "    ax.tick_params(axis='both', labelsize=8)\n",
    "\n",
    "    sns.despine(bottom=True, left=True)\n",
    "\n",
    "    for i, v in enumerate(df[cat].unique()):\n",
    "        for j, attrition_value in enumerate([1]):\n",
    "            filtered = attrition_gender_data[(attrition_gender_data[cat]==v) & (attrition_gender_data['Attrition']==attrition_value)]\n",
    "            if not filtered.empty:\n",
    "                percentage = '{:.1f}%'.format(filtered['Percentages'].values[0])\n",
    "                ax.annotate(percentage, xy=(0.01, i+j/2), xycoords=ax.get_yaxis_transform(), fontsize=10, color='white', fontweight='bold')\n",
    "\n",
    "    plt.show()"
   ]
  },
  {
   "cell_type": "code",
   "execution_count": 37,
   "id": "d3f8e103",
   "metadata": {},
   "outputs": [],
   "source": [
    "# Plotting Continuous Features\n",
    "def cont_viz_data(df, feature): \n",
    "    \n",
    "    plt.figure(figsize=(6,3), dpi=200)\n",
    "\n",
    "    ax = sns.histplot(data=df, x=feature, hue=\"Attrition\", palette=attrition_palette, multiple=\"stack\", shrink=0.8, alpha=0.8, stat='percent', legend=False)\n",
    "    ax.set(xlabel=None, ylabel=None, yticklabels=[])\n",
    "    ax.tick_params(axis='both', labelsize=8)\n",
    "    \n",
    "    sns.despine(left=True)\n",
    "\n",
    "    plt.show()"
   ]
  },
  {
   "cell_type": "markdown",
   "id": "22824ff3",
   "metadata": {},
   "source": [
    "# Attrition Count"
   ]
  },
  {
   "cell_type": "code",
   "execution_count": 38,
   "id": "d8bd35f8",
   "metadata": {},
   "outputs": [
    {
     "data": {
      "image/png": "[encoded data removed]",
      "text/plain": [
       "<Figure size 1200x1000 with 1 Axes>"
      ]
     },
     "metadata": {},
     "output_type": "display_data"
    }
   ],
   "source": [
    "fig, ax = plt.subplots(figsize=(6, 5), dpi=200)\n",
    "\n",
    "colors = [attrition_palette[val] for val in [0, 1]]\n",
    "wedges, _, labels = ax.pie(x=attrition_features_eda['Attrition'].value_counts(), colors=colors, autopct='%1.1f%%', startangle=90, counterclock=False, textprops={'fontsize': 10, 'color': 'white', 'fontweight': 'bold'})\n",
    "plt.setp(labels, fontsize=10, fontweight='bold')\n",
    "\n",
    "ax.legend(wedges, ['No', 'Yes'], title='Attrition', loc='center', bbox_to_anchor=(1.05, 0.5), fancybox=True, shadow=True, ncol=1)\n",
    "plt.setp(ax.get_legend().get_title(), fontsize=10, fontweight='bold')\n",
    "\n",
    "plt.show()"
   ]
  },
  {
   "cell_type": "markdown",
   "id": "7a43b7ea",
   "metadata": {},
   "source": [
    "# Age"
   ]
  },
  {
   "cell_type": "code",
   "execution_count": 39,
   "id": "f4e5ba8e",
   "metadata": {},
   "outputs": [
    {
     "data": {
      "text/plain": [
       "Age_Profile  Attrition\n",
       "1            0             64.227642\n",
       "             1             35.772358\n",
       "2            0             84.801549\n",
       "             1             15.198451\n",
       "3            0             88.349515\n",
       "             1             11.650485\n",
       "4            0            100.000000\n",
       "Name: Attrition, dtype: float64"
      ]
     },
     "execution_count": 39,
     "metadata": {},
     "output_type": "execute_result"
    }
   ],
   "source": [
    "attrition_age_data = attrition_features_eda[\"Attrition\"].groupby(attrition_features_eda[\"Age_Profile\"]).value_counts(normalize=True)*100\n",
    "attrition_age_data"
   ]
  },
  {
   "cell_type": "code",
   "execution_count": 40,
   "id": "09ea242b",
   "metadata": {},
   "outputs": [],
   "source": [
    "age_map = {1: 'Young Adult (18-25)', 2:'Adult (26-44)', 3:'Middle-age (45-59)', 4:'Old age (60+)'}\n",
    "\n",
    "attrition_features_eda['Age_cat'] = attrition_features_eda['Age_Profile'].map(age_map)"
   ]
  },
  {
   "cell_type": "code",
   "execution_count": 41,
   "id": "1fa06fd5",
   "metadata": {},
   "outputs": [
    {
     "data": {
      "image/png": "[encoded data removed]",
      "text/plain": [
       "<Figure size 1200x600 with 1 Axes>"
      ]
     },
     "metadata": {},
     "output_type": "display_data"
    }
   ],
   "source": [
    "vertical_viz_ordinal(attrition_features_eda, 'Age_Profile', 'Age_cat')"
   ]
  },
  {
   "cell_type": "markdown",
   "id": "78b93696",
   "metadata": {},
   "source": [
    "# Gender"
   ]
  },
  {
   "cell_type": "code",
   "execution_count": 42,
   "id": "73532efc",
   "metadata": {},
   "outputs": [
    {
     "data": {
      "text/plain": [
       "Gender  Attrition\n",
       "0       0            85.204082\n",
       "        1            14.795918\n",
       "1       0            82.993197\n",
       "        1            17.006803\n",
       "Name: Attrition, dtype: float64"
      ]
     },
     "execution_count": 42,
     "metadata": {},
     "output_type": "execute_result"
    }
   ],
   "source": [
    "attrition_gender_data = attrition_features_eda[\"Attrition\"].groupby(attrition_features_eda[\"Gender\"]).value_counts(normalize=True)*100\n",
    "attrition_gender_data"
   ]
  },
  {
   "cell_type": "code",
   "execution_count": 43,
   "id": "f16d67bc",
   "metadata": {},
   "outputs": [],
   "source": [
    "gender_map = {0: 'Female', 1: 'Male'}\n",
    "\n",
    "attrition_features_eda['Gender_cat'] = attrition_features_eda['Gender'].map(gender_map)"
   ]
  },
  {
   "cell_type": "code",
   "execution_count": 44,
   "id": "041a45bf",
   "metadata": {},
   "outputs": [
    {
     "ename": "NameError",
     "evalue": "name 'Trueueueueueueueue' is not defined",
     "output_type": "error",
     "traceback": [
      "\u001b[0;31m---------------------------------------------------------------------------\u001b[0m",
      "\u001b[0;31mNameError\u001b[0m                                 Traceback (most recent call last)",
      "Cell \u001b[0;32mIn[44], line 1\u001b[0m\n\u001b[0;32m----> 1\u001b[0m \u001b[43mhorizontal_viz_cat\u001b[49m\u001b[43m(\u001b[49m\u001b[43mattrition_features_eda\u001b[49m\u001b[43m,\u001b[49m\u001b[43m \u001b[49m\u001b[38;5;124;43m'\u001b[39;49m\u001b[38;5;124;43mGender_cat\u001b[39;49m\u001b[38;5;124;43m'\u001b[39;49m\u001b[43m)\u001b[49m\n",
      "Cell \u001b[0;32mIn[36], line 12\u001b[0m, in \u001b[0;36mhorizontal_viz_cat\u001b[0;34m(df, cat)\u001b[0m\n\u001b[1;32m      9\u001b[0m ax\u001b[38;5;241m.\u001b[39mset(xlabel\u001b[38;5;241m=\u001b[39m\u001b[38;5;28;01mNone\u001b[39;00m, ylabel\u001b[38;5;241m=\u001b[39m\u001b[38;5;28;01mNone\u001b[39;00m, xticklabels\u001b[38;5;241m=\u001b[39m[])\n\u001b[1;32m     10\u001b[0m ax\u001b[38;5;241m.\u001b[39mtick_params(axis\u001b[38;5;241m=\u001b[39m\u001b[38;5;124m'\u001b[39m\u001b[38;5;124mboth\u001b[39m\u001b[38;5;124m'\u001b[39m, labelsize\u001b[38;5;241m=\u001b[39m\u001b[38;5;241m8\u001b[39m)\n\u001b[0;32m---> 12\u001b[0m sns\u001b[38;5;241m.\u001b[39mdespine(bottom\u001b[38;5;241m=\u001b[39m\u001b[38;5;28;01mTrue\u001b[39;00m, left\u001b[38;5;241m=\u001b[39m\u001b[43mTrueueueueueueueue\u001b[49m)\n\u001b[1;32m     14\u001b[0m \u001b[38;5;28;01mfor\u001b[39;00m i, v \u001b[38;5;129;01min\u001b[39;00m \u001b[38;5;28menumerate\u001b[39m(df[cat]\u001b[38;5;241m.\u001b[39munique()):\n\u001b[1;32m     15\u001b[0m     \u001b[38;5;28;01mfor\u001b[39;00m j, attrition_value \u001b[38;5;129;01min\u001b[39;00m \u001b[38;5;28menumerate\u001b[39m([\u001b[38;5;241m1\u001b[39m]):\n",
      "\u001b[0;31mNameError\u001b[0m: name 'Trueueueueueueueue' is not defined"
     ]
    },
    {
     "data": {
      "image/png": "[encoded data removed]",
      "text/plain": [
       "<Figure size 1200x600 with 1 Axes>"
      ]
     },
     "metadata": {},
     "output_type": "display_data"
    }
   ],
   "source": [
    "horizontal_viz_cat(attrition_features_eda, 'Gender_cat')"
   ]
  },
  {
   "cell_type": "markdown",
   "id": "ebdb6d30",
   "metadata": {},
   "source": [
    "# Business Travel"
   ]
  },
  {
   "cell_type": "code",
   "execution_count": null,
   "id": "351efacd",
   "metadata": {},
   "outputs": [],
   "source": [
    "attrition_travel_data = attrition_features_eda[\"Attrition\"].groupby(attrition_features_eda[\"BusinessTravel\"]).value_counts(normalize=True)*100\n",
    "attrition_travel_data"
   ]
  },
  {
   "cell_type": "code",
   "execution_count": null,
   "id": "dac51568",
   "metadata": {},
   "outputs": [],
   "source": [
    "businees_travel_map = {1: 'Travel Rarely', 2: 'Travel Frequently', 3: 'Non-Travel'}\n",
    "\n",
    "attrition_features_eda['BusinessTravel_cat'] = attrition_features_eda['BusinessTravel'].map(businees_travel_map)"
   ]
  },
  {
   "cell_type": "code",
   "execution_count": null,
   "id": "38749f91",
   "metadata": {},
   "outputs": [],
   "source": [
    "horizontal_viz_cat(attrition_features_eda, 'BusinessTravel_cat')"
   ]
  },
  {
   "cell_type": "markdown",
   "id": "884a7996",
   "metadata": {},
   "source": [
    "# Overtime"
   ]
  },
  {
   "cell_type": "code",
   "execution_count": null,
   "id": "e509039c",
   "metadata": {},
   "outputs": [],
   "source": [
    "attrition_overtime_data = attrition_data[\"Attrition\"].groupby(attrition_data[\"OverTime\"]).value_counts(normalize=True)*100\n",
    "attrition_overtime_data"
   ]
  },
  {
   "cell_type": "code",
   "execution_count": null,
   "id": "7970e240",
   "metadata": {},
   "outputs": [],
   "source": [
    "overtime_map = {1: 'Yes', 0: 'No'}\n",
    "\n",
    "attrition_features_eda['OverTime_cat'] = attrition_features_eda['OverTime'].map(overtime_map)"
   ]
  },
  {
   "cell_type": "code",
   "execution_count": null,
   "id": "1f3e03ac",
   "metadata": {},
   "outputs": [],
   "source": [
    "horizontal_viz_cat(attrition_features_eda, 'OverTime_cat')"
   ]
  },
  {
   "cell_type": "markdown",
   "id": "b09dad75",
   "metadata": {},
   "source": [
    "# Work-Life Balance"
   ]
  },
  {
   "cell_type": "code",
   "execution_count": null,
   "id": "0f081968",
   "metadata": {},
   "outputs": [],
   "source": [
    "attrition_work_life_bal_data = attrition_features_eda[\"Attrition\"].groupby(attrition_features_eda[\"WorkLifeBalance\"]).value_counts(normalize=True)*100\n",
    "attrition_work_life_bal_data"
   ]
  },
  {
   "cell_type": "code",
   "execution_count": null,
   "id": "ffbd7ac2",
   "metadata": {},
   "outputs": [],
   "source": [
    "work_life_bal_map = {1: 'Bad', 2: 'Good', 3: 'Better', 4: 'Best'}\n",
    "\n",
    "attrition_features_eda['WorkLifeBalance_cat'] = attrition_features_eda['WorkLifeBalance'].map(work_life_bal_map)"
   ]
  },
  {
   "cell_type": "code",
   "execution_count": null,
   "id": "d44000e5",
   "metadata": {},
   "outputs": [],
   "source": [
    "vertical_viz_ordinal(attrition_features_eda, 'WorkLifeBalance', 'WorkLifeBalance_cat')"
   ]
  },
  {
   "cell_type": "markdown",
   "id": "dded3dba",
   "metadata": {},
   "source": [
    "# Environment Satisfaction"
   ]
  },
  {
   "cell_type": "code",
   "execution_count": null,
   "id": "3d069a96",
   "metadata": {},
   "outputs": [],
   "source": [
    "attrition_environment_data = attrition_features_eda[\"Attrition\"].groupby(attrition_features_eda[\"EnvironmentSatisfaction\"]).value_counts(normalize=True)*100\n",
    "attrition_environment_data"
   ]
  },
  {
   "cell_type": "code",
   "execution_count": null,
   "id": "df00a60a",
   "metadata": {},
   "outputs": [],
   "source": [
    "environment_satisfaction_map = {1: 'Low', 2: 'Medium', 3: 'High', 4: 'Very High'}\n",
    "\n",
    "attrition_features_eda['EnvironmentSatisfaction_cat'] = attrition_features_eda['EnvironmentSatisfaction'].map(environment_satisfaction_map)"
   ]
  },
  {
   "cell_type": "code",
   "execution_count": null,
   "id": "e3e948bc",
   "metadata": {},
   "outputs": [],
   "source": [
    "vertical_viz_ordinal(attrition_features_eda, 'EnvironmentSatisfaction', 'EnvironmentSatisfaction_cat')"
   ]
  },
  {
   "cell_type": "markdown",
   "id": "39848aa0",
   "metadata": {},
   "source": [
    "# Job Level"
   ]
  },
  {
   "cell_type": "code",
   "execution_count": null,
   "id": "19ace351",
   "metadata": {},
   "outputs": [],
   "source": [
    "attrition_job_level_data = attrition_features_eda[\"Attrition\"].groupby(attrition_features_eda[\"JobLevel\"]).value_counts(normalize=True)*100\n",
    "attrition_job_level_data"
   ]
  },
  {
   "cell_type": "code",
   "execution_count": null,
   "id": "ffc3cdcd",
   "metadata": {},
   "outputs": [],
   "source": [
    "job_level_map = {1: 'Entry', 2: 'Junior', 3: 'Middle', 4: 'Senior', 5: 'Executive'}\n",
    "\n",
    "attrition_features_eda['JobLevel_cat'] = attrition_features_eda['JobLevel'].map(job_level_map)"
   ]
  },
  {
   "cell_type": "code",
   "execution_count": null,
   "id": "1123d1da",
   "metadata": {},
   "outputs": [],
   "source": [
    "vertical_viz_ordinal(attrition_features_eda, 'JobLevel', 'JobLevel_cat')"
   ]
  },
  {
   "cell_type": "markdown",
   "id": "f121be6a",
   "metadata": {},
   "source": [
    "# Job Satisfaction"
   ]
  },
  {
   "cell_type": "code",
   "execution_count": null,
   "id": "9f28df7d",
   "metadata": {},
   "outputs": [],
   "source": [
    "attrition_job_satisfaction_data = attrition_features_eda[\"Attrition\"].groupby(attrition_features_eda[\"JobSatisfaction\"]).value_counts(normalize=True)*100\n",
    "attrition_job_satisfaction_data"
   ]
  },
  {
   "cell_type": "code",
   "execution_count": null,
   "id": "cc154290",
   "metadata": {},
   "outputs": [],
   "source": [
    "job_satisfaction_map = {1: 'Low', 2: 'Medium', 3: 'High', 4: 'Very High'}\n",
    "\n",
    "attrition_features_eda['JobSatisfaction_cat'] = attrition_features_eda['JobSatisfaction'].map(job_satisfaction_map)"
   ]
  },
  {
   "cell_type": "code",
   "execution_count": null,
   "id": "53f307dc",
   "metadata": {},
   "outputs": [],
   "source": [
    "vertical_viz_ordinal(attrition_features_eda, 'JobSatisfaction', 'JobSatisfaction_cat')"
   ]
  },
  {
   "cell_type": "markdown",
   "id": "ab2e33b4",
   "metadata": {},
   "source": [
    "# Training Times"
   ]
  },
  {
   "cell_type": "code",
   "execution_count": null,
   "id": "c47bc1d9",
   "metadata": {},
   "outputs": [],
   "source": [
    "attrition_training_times_data = attrition_features_eda[\"Attrition\"].groupby(attrition_features_eda[\"TrainingTimesLastYear\"]).value_counts(normalize=True)*100\n",
    "attrition_training_times_data"
   ]
  },
  {
   "cell_type": "code",
   "execution_count": null,
   "id": "03c0ba3c",
   "metadata": {},
   "outputs": [],
   "source": [
    "training_times_map = {0: 'No Training', 1: '1-2', 2: '3-4', 3: '5-6', 4: '7-8', 5: '9-10', 6: 'More than 10'}\n",
    "\n",
    "attrition_features_eda['TrainingTimesLastYear_cat'] = attrition_features_eda['TrainingTimesLastYear'].map(training_times_map)"
   ]
  },
  {
   "cell_type": "code",
   "execution_count": null,
   "id": "4cc9a522",
   "metadata": {},
   "outputs": [],
   "source": [
    "vertical_viz_ordinal(attrition_features_eda, 'TrainingTimesLastYear', 'TrainingTimesLastYear_cat')"
   ]
  },
  {
   "cell_type": "markdown",
   "id": "1b815fd3",
   "metadata": {},
   "source": [
    "# Years at Company"
   ]
  },
  {
   "cell_type": "code",
   "execution_count": null,
   "id": "c617bfd7",
   "metadata": {},
   "outputs": [],
   "source": [
    "cont_viz_data(attrition_features_eda, 'YearsAtCompany')"
   ]
  },
  {
   "cell_type": "markdown",
   "id": "a2a8a93c",
   "metadata": {},
   "source": [
    "# Monthly Income"
   ]
  },
  {
   "cell_type": "code",
   "execution_count": null,
   "id": "6a2ad56d",
   "metadata": {},
   "outputs": [],
   "source": [
    "cont_viz_data(attrition_features_eda, 'MonthlyIncome')"
   ]
  },
  {
   "cell_type": "code",
   "execution_count": null,
   "id": "978dce1a",
   "metadata": {},
   "outputs": [],
   "source": [
    "# Save to CSV\n",
    "attrition_features_eda.to_csv('contents/attrition_features_eda.csv', index=False)"
   ]
  },
  {
   "cell_type": "markdown",
   "id": "fa957583",
   "metadata": {},
   "source": [
    "# Clustering"
   ]
  },
  {
   "cell_type": "code",
   "execution_count": null,
   "id": "aa6cfd8f",
   "metadata": {},
   "outputs": [],
   "source": [
    "# for plotting/EDA purposes, load dataframe\n",
    "attrition_features_clustering = pd.read_csv(\"contents/attrition_features.csv\")\n",
    "attrition_features_clustering.head(10)"
   ]
  },
  {
   "cell_type": "code",
   "execution_count": null,
   "id": "d12504a4",
   "metadata": {},
   "outputs": [],
   "source": [
    "def run_kmodes(n_clusters=None, filtered_data_cluster=None):\n",
    "  # Initialize clustering\n",
    "  kmodes = KModes(\n",
    "      init=\"random\",\n",
    "      n_clusters=n_clusters,\n",
    "      random_state=42\n",
    "      )\n",
    "  \n",
    "  # Apply clustering to the data\n",
    "  kmodes.fit(attrition_features_clustering)\n",
    "\n",
    "  # Print intertia\n",
    "  print(f\"Cost for n_clusters = {n_clusters}: {kmodes.cost_}\")\n",
    "\n",
    "\n",
    "  return kmodes.cost_, kmodes.labels_"
   ]
  },
  {
   "cell_type": "code",
   "execution_count": null,
   "id": "ef8e1e35",
   "metadata": {},
   "outputs": [],
   "source": [
    "cost_values = []"
   ]
  },
  {
   "cell_type": "code",
   "execution_count": null,
   "id": "c153ad37",
   "metadata": {},
   "outputs": [],
   "source": [
    "for k in range(1, 21):\n",
    "  # Run our function\n",
    "  cost, labels = run_kmodes(\n",
    "    n_clusters=k,\n",
    "    filtered_data_cluster=attrition_features_clustering\n",
    "  )\n",
    "\n",
    "  # Save cost to our container\n",
    "  cost_values.append(cost)"
   ]
  },
  {
   "cell_type": "code",
   "execution_count": null,
   "id": "fd85a305",
   "metadata": {},
   "outputs": [],
   "source": [
    "cost_values"
   ]
  },
  {
   "cell_type": "code",
   "execution_count": null,
   "id": "d0390b72",
   "metadata": {},
   "outputs": [],
   "source": [
    "# Set figure size\n",
    "plt.figure(figsize=(6,3), dpi=200)\n",
    "\n",
    "# Plot inertia vs number of clusters\n",
    "plt.plot(range(1, 21), cost_values)\n",
    "\n",
    "# Format plot\n",
    "plt.xticks(range(1, 21))\n",
    "plt.xlabel(\"Number of Clusters\")\n",
    "plt.ylabel(\"Cost\")\n",
    "\n",
    "# Show plot\n",
    "plt.show()"
   ]
  },
  {
   "cell_type": "code",
   "execution_count": null,
   "id": "331b9a9b",
   "metadata": {},
   "outputs": [],
   "source": [
    "# Run our K-Modes function for n_clusters\n",
    "cost, labels = run_kmodes(\n",
    "  n_clusters=7,\n",
    "  filtered_data_cluster=attrition_features_clustering\n",
    ")"
   ]
  },
  {
   "cell_type": "code",
   "execution_count": null,
   "id": "245d0091",
   "metadata": {},
   "outputs": [],
   "source": [
    "attrition_features_clustering['labels']= labels\n",
    "attrition_features_clustering"
   ]
  },
  {
   "cell_type": "code",
   "execution_count": null,
   "id": "12fadc2e",
   "metadata": {},
   "outputs": [],
   "source": [
    "attrition_features_clustering['labels'].value_counts().sort_index()"
   ]
  },
  {
   "cell_type": "code",
   "execution_count": null,
   "id": "af1d588e",
   "metadata": {},
   "outputs": [],
   "source": [
    "attrition_features_clustering.groupby('labels').agg(pd.Series.mode)"
   ]
  },
  {
   "cell_type": "code",
   "execution_count": null,
   "id": "63c95d09",
   "metadata": {},
   "outputs": [],
   "source": [
    "attrition_clustered_data = attrition_features_clustering.groupby('labels').agg(pd.Series.mode)"
   ]
  },
  {
   "cell_type": "code",
   "execution_count": null,
   "id": "18c40d72",
   "metadata": {},
   "outputs": [],
   "source": [
    "# Save Clustered Data\n",
    "attrition_clustered_data.to_csv('contents/clustered_data', index=False)"
   ]
  },
  {
   "cell_type": "code",
   "execution_count": null,
   "id": "42b75a8e",
   "metadata": {},
   "outputs": [],
   "source": [
    "pd.set_option('display.max_columns', None)\n",
    "attrition_clustered_data.head(9)"
   ]
  },
  {
   "cell_type": "code",
   "execution_count": null,
   "id": "2a5655e3",
   "metadata": {},
   "outputs": [],
   "source": [
    "attrition_clustered_data.columns"
   ]
  }
 ],
 "metadata": {
  "kernelspec": {
   "display_name": "Python 3 (ipykernel)",
   "language": "python",
   "name": "python3"
  },
  "language_info": {
   "codemirror_mode": {
    "name": "ipython",
    "version": 3
   },
   "file_extension": ".py",
   "mimetype": "text/x-python",
   "name": "python",
   "nbconvert_exporter": "python",
   "pygments_lexer": "ipython3",
   "version": "3.10.9"
  }
 },
 "nbformat": 4,
 "nbformat_minor": 5
}
