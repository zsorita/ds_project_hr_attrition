{
 "cells": [
  {
   "cell_type": "code",
   "execution_count": 1,
   "id": "e5f798ce",
   "metadata": {
    "scrolled": true
   },
   "outputs": [],
   "source": [
    "# EDA\n",
    "import pandas as pd\n",
    "import matplotlib.pyplot as plt\n",
    "import seaborn as sns\n",
    "import matplotlib.ticker as mtick\n",
    "import numpy as np\n",
    "%matplotlib inline\n",
    "from sklearn.preprocessing import OneHotEncoder\n",
    "sns.set_theme(style='white', palette='deep')\n",
    "\n",
    "import warnings\n",
    "warnings.filterwarnings(\"ignore\")\n",
    "\n",
    "from kmodes.kmodes import KModes\n",
    "\n",
    "# modelling\n",
    "from sklearn.model_selection import train_test_split\n",
    "from sklearn.linear_model import LogisticRegression\n",
    "from sklearn.neighbors import KNeighborsClassifier \n",
    "from sklearn.tree import DecisionTreeClassifier\n",
    "from sklearn.ensemble import RandomForestClassifier, GradientBoostingClassifier\n",
    "from sklearn.preprocessing import StandardScaler\n",
    "# from sklearnex import patch_sklearn\n",
    "# patch_sklearn()\n",
    "\n",
    "# general libraries\n",
    "import time\n",
    "from tqdm.notebook import tqdm\n",
    "from collections import Counter"
   ]
  },
  {
   "cell_type": "code",
   "execution_count": 2,
   "id": "c067f339",
   "metadata": {},
   "outputs": [
    {
     "data": {
      "text/html": [
       "<div>\n",
       "<style scoped>\n",
       "    .dataframe tbody tr th:only-of-type {\n",
       "        vertical-align: middle;\n",
       "    }\n",
       "\n",
       "    .dataframe tbody tr th {\n",
       "        vertical-align: top;\n",
       "    }\n",
       "\n",
       "    .dataframe thead th {\n",
       "        text-align: right;\n",
       "    }\n",
       "</style>\n",
       "<table border=\"1\" class=\"dataframe\">\n",
       "  <thead>\n",
       "    <tr style=\"text-align: right;\">\n",
       "      <th></th>\n",
       "      <th>Attrition</th>\n",
       "      <th>BusinessTravel</th>\n",
       "      <th>EnvironmentSatisfaction</th>\n",
       "      <th>Gender</th>\n",
       "      <th>JobLevel</th>\n",
       "      <th>JobSatisfaction</th>\n",
       "      <th>MonthlyIncome</th>\n",
       "      <th>OverTime</th>\n",
       "      <th>TrainingTimesLastYear</th>\n",
       "      <th>WorkLifeBalance</th>\n",
       "      <th>YearsAtCompany</th>\n",
       "      <th>Age_Profile</th>\n",
       "    </tr>\n",
       "  </thead>\n",
       "  <tbody>\n",
       "    <tr>\n",
       "      <th>0</th>\n",
       "      <td>1</td>\n",
       "      <td>1</td>\n",
       "      <td>2</td>\n",
       "      <td>0</td>\n",
       "      <td>2</td>\n",
       "      <td>4</td>\n",
       "      <td>5993</td>\n",
       "      <td>1</td>\n",
       "      <td>0</td>\n",
       "      <td>1</td>\n",
       "      <td>6</td>\n",
       "      <td>2</td>\n",
       "    </tr>\n",
       "    <tr>\n",
       "      <th>1</th>\n",
       "      <td>0</td>\n",
       "      <td>2</td>\n",
       "      <td>3</td>\n",
       "      <td>1</td>\n",
       "      <td>2</td>\n",
       "      <td>2</td>\n",
       "      <td>5130</td>\n",
       "      <td>0</td>\n",
       "      <td>3</td>\n",
       "      <td>3</td>\n",
       "      <td>10</td>\n",
       "      <td>3</td>\n",
       "    </tr>\n",
       "    <tr>\n",
       "      <th>2</th>\n",
       "      <td>1</td>\n",
       "      <td>1</td>\n",
       "      <td>4</td>\n",
       "      <td>1</td>\n",
       "      <td>1</td>\n",
       "      <td>3</td>\n",
       "      <td>2090</td>\n",
       "      <td>1</td>\n",
       "      <td>3</td>\n",
       "      <td>3</td>\n",
       "      <td>0</td>\n",
       "      <td>2</td>\n",
       "    </tr>\n",
       "    <tr>\n",
       "      <th>3</th>\n",
       "      <td>0</td>\n",
       "      <td>2</td>\n",
       "      <td>4</td>\n",
       "      <td>0</td>\n",
       "      <td>1</td>\n",
       "      <td>3</td>\n",
       "      <td>2909</td>\n",
       "      <td>1</td>\n",
       "      <td>3</td>\n",
       "      <td>3</td>\n",
       "      <td>8</td>\n",
       "      <td>2</td>\n",
       "    </tr>\n",
       "    <tr>\n",
       "      <th>4</th>\n",
       "      <td>0</td>\n",
       "      <td>1</td>\n",
       "      <td>1</td>\n",
       "      <td>1</td>\n",
       "      <td>1</td>\n",
       "      <td>2</td>\n",
       "      <td>3468</td>\n",
       "      <td>0</td>\n",
       "      <td>3</td>\n",
       "      <td>3</td>\n",
       "      <td>2</td>\n",
       "      <td>2</td>\n",
       "    </tr>\n",
       "  </tbody>\n",
       "</table>\n",
       "</div>"
      ],
      "text/plain": [
       "   Attrition  BusinessTravel  EnvironmentSatisfaction  Gender  JobLevel  \\\n",
       "0          1               1                        2       0         2   \n",
       "1          0               2                        3       1         2   \n",
       "2          1               1                        4       1         1   \n",
       "3          0               2                        4       0         1   \n",
       "4          0               1                        1       1         1   \n",
       "\n",
       "   JobSatisfaction  MonthlyIncome  OverTime  TrainingTimesLastYear  \\\n",
       "0                4           5993         1                      0   \n",
       "1                2           5130         0                      3   \n",
       "2                3           2090         1                      3   \n",
       "3                3           2909         1                      3   \n",
       "4                2           3468         0                      3   \n",
       "\n",
       "   WorkLifeBalance  YearsAtCompany  Age_Profile  \n",
       "0                1               6            2  \n",
       "1                3              10            3  \n",
       "2                3               0            2  \n",
       "3                3               8            2  \n",
       "4                3               2            2  "
      ]
     },
     "execution_count": 2,
     "metadata": {},
     "output_type": "execute_result"
    }
   ],
   "source": [
    "data = pd.read_csv('../data/attrition_features.csv')\n",
    "data.head(5)"
   ]
  },
  {
   "cell_type": "markdown",
   "id": "364b426b",
   "metadata": {},
   "source": [
    "# Modeling"
   ]
  },
  {
   "cell_type": "code",
   "execution_count": 3,
   "id": "ea79c3b6",
   "metadata": {},
   "outputs": [
    {
     "data": {
      "text/plain": [
       "['BusinessTravel',\n",
       " 'EnvironmentSatisfaction',\n",
       " 'Gender',\n",
       " 'JobLevel',\n",
       " 'JobSatisfaction',\n",
       " 'MonthlyIncome',\n",
       " 'OverTime',\n",
       " 'TrainingTimesLastYear',\n",
       " 'WorkLifeBalance',\n",
       " 'YearsAtCompany',\n",
       " 'Age_Profile']"
      ]
     },
     "execution_count": 3,
     "metadata": {},
     "output_type": "execute_result"
    }
   ],
   "source": [
    "y = data.Attrition\n",
    "X = data.drop([\"Attrition\"],axis = 1)\n",
    "columns = X.columns.tolist()\n",
    "columns"
   ]
  },
  {
   "cell_type": "code",
   "execution_count": 4,
   "id": "653f5e6f",
   "metadata": {},
   "outputs": [],
   "source": [
    "(X_train, X_test, y_train, y_test) = train_test_split(X, y, random_state=42, test_size=0.30)"
   ]
  },
  {
   "cell_type": "code",
   "execution_count": 5,
   "id": "7408020e",
   "metadata": {},
   "outputs": [],
   "source": [
    "X_train_df = pd.DataFrame(X_train, columns = columns)\n",
    "X_train_df[\"target\"] = y_train"
   ]
  },
  {
   "cell_type": "markdown",
   "id": "2bfef74c",
   "metadata": {},
   "source": [
    "# Logistic Regression"
   ]
  },
  {
   "cell_type": "code",
   "execution_count": 6,
   "id": "c1d6fa35",
   "metadata": {},
   "outputs": [],
   "source": [
    "(X_train, X_test, y_train, y_test) = train_test_split(X, y, random_state=42, test_size=0.30) "
   ]
  },
  {
   "cell_type": "code",
   "execution_count": 7,
   "id": "0e94c654",
   "metadata": {},
   "outputs": [
    {
     "name": "stdout",
     "output_type": "stream",
     "text": [
      "Train Accuracy 0.8406219630709426\n",
      "Test Accuracy 0.8684807256235828\n",
      "Runtime: 0.018047809600830078\n"
     ]
    }
   ],
   "source": [
    "lr = LogisticRegression(random_state=42)  \n",
    "start_lr = time.time()\n",
    "lr.fit(X_train, y_train)\n",
    "end_lr = time.time()\n",
    "runtime_lr = end_lr - start_lr\n",
    "\n",
    "basescore_train_lr = lr.score(X_train, y_train)\n",
    "basescore_test_lr = lr.score(X_test, y_test)\n",
    "\n",
    "print('Train Accuracy', basescore_train_lr) \n",
    "print('Test Accuracy', basescore_test_lr)   \n",
    "print('Runtime:', runtime_lr)"
   ]
  },
  {
   "cell_type": "code",
   "execution_count": 8,
   "id": "d3f626a2",
   "metadata": {},
   "outputs": [
    {
     "data": {
      "application/vnd.jupyter.widget-view+json": {
       "model_id": "7f18efa9db53431c971a5e186e42d6f7",
       "version_major": 2,
       "version_minor": 0
      },
      "text/plain": [
       "  0%|          | 0/9 [00:00<?, ?it/s]"
      ]
     },
     "metadata": {},
     "output_type": "display_data"
    },
    {
     "data": {
      "application/vnd.jupyter.widget-view+json": {
       "model_id": "32a48f7885894d2aa82db0f7c3bf6e9e",
       "version_major": 2,
       "version_minor": 0
      },
      "text/plain": [
       "  0%|          | 0/8 [00:00<?, ?it/s]"
      ]
     },
     "metadata": {},
     "output_type": "display_data"
    },
    {
     "data": {
      "application/vnd.jupyter.widget-view+json": {
       "model_id": "46ec903c60db4971b199c4fc78fe60bc",
       "version_major": 2,
       "version_minor": 0
      },
      "text/plain": [
       "  0%|          | 0/8 [00:00<?, ?it/s]"
      ]
     },
     "metadata": {},
     "output_type": "display_data"
    },
    {
     "data": {
      "application/vnd.jupyter.widget-view+json": {
       "model_id": "d2b6f16fba7e4202ba4d6e3ceed45992",
       "version_major": 2,
       "version_minor": 0
      },
      "text/plain": [
       "  0%|          | 0/8 [00:00<?, ?it/s]"
      ]
     },
     "metadata": {},
     "output_type": "display_data"
    },
    {
     "data": {
      "application/vnd.jupyter.widget-view+json": {
       "model_id": "cb755b605a7a4c1dbbdaeabfde721d2b",
       "version_major": 2,
       "version_minor": 0
      },
      "text/plain": [
       "  0%|          | 0/8 [00:00<?, ?it/s]"
      ]
     },
     "metadata": {},
     "output_type": "display_data"
    },
    {
     "data": {
      "application/vnd.jupyter.widget-view+json": {
       "model_id": "7105e6e96449493cb31d07eda34c1706",
       "version_major": 2,
       "version_minor": 0
      },
      "text/plain": [
       "  0%|          | 0/8 [00:00<?, ?it/s]"
      ]
     },
     "metadata": {},
     "output_type": "display_data"
    },
    {
     "data": {
      "application/vnd.jupyter.widget-view+json": {
       "model_id": "16fc43246b70485fbd2f66a6f843decc",
       "version_major": 2,
       "version_minor": 0
      },
      "text/plain": [
       "  0%|          | 0/8 [00:00<?, ?it/s]"
      ]
     },
     "metadata": {},
     "output_type": "display_data"
    },
    {
     "data": {
      "application/vnd.jupyter.widget-view+json": {
       "model_id": "c22715b19a004227bf74884d44dc6dee",
       "version_major": 2,
       "version_minor": 0
      },
      "text/plain": [
       "  0%|          | 0/8 [00:00<?, ?it/s]"
      ]
     },
     "metadata": {},
     "output_type": "display_data"
    },
    {
     "data": {
      "application/vnd.jupyter.widget-view+json": {
       "model_id": "153ba61fe6d24ef9908f1c47259cb1da",
       "version_major": 2,
       "version_minor": 0
      },
      "text/plain": [
       "  0%|          | 0/8 [00:00<?, ?it/s]"
      ]
     },
     "metadata": {},
     "output_type": "display_data"
    },
    {
     "data": {
      "application/vnd.jupyter.widget-view+json": {
       "model_id": "476515b33f0940a3bc5908304c503b3f",
       "version_major": 2,
       "version_minor": 0
      },
      "text/plain": [
       "  0%|          | 0/8 [00:00<?, ?it/s]"
      ]
     },
     "metadata": {},
     "output_type": "display_data"
    }
   ],
   "source": [
    "df_training_lr = pd.DataFrame()\n",
    "df_test_lr = pd.DataFrame()\n",
    "seedN_list_lr = range(1, 10, 1)\n",
    "\n",
    "# hypertune random state\n",
    "for seedN in tqdm(seedN_list_lr):\n",
    "    X_train, X_test, y_train, y_test = train_test_split(X,y, \n",
    "                                                        test_size=0.30, random_state=seedN)\n",
    "\n",
    "    training_accuracy_lr = []\n",
    "    test_accuracy_lr = []\n",
    "    alpha_run = [1e-8, 1e-5, 1e-3, 0.1, 0.2, 0.4, 0.75, 1] \n",
    "\n",
    "    #hypertune alpha values\n",
    "    for alpha in tqdm(alpha_run):   \n",
    "        lr = LogisticRegression(C=alpha, max_iter=100000)  \n",
    "        lr.fit(X_train, y_train)\n",
    "\n",
    "        training_accuracy_lr.append(lr.score(X_train, y_train)) \n",
    "        test_accuracy_lr.append(lr.score(X_test, y_test))   \n",
    "    \n",
    "    df_training_lr[seedN]=training_accuracy_lr\n",
    "    df_test_lr[seedN] = test_accuracy_lr"
   ]
  },
  {
   "cell_type": "code",
   "execution_count": 9,
   "id": "b568e5aa",
   "metadata": {},
   "outputs": [
    {
     "data": {
      "text/html": [
       "<div>\n",
       "<style scoped>\n",
       "    .dataframe tbody tr th:only-of-type {\n",
       "        vertical-align: middle;\n",
       "    }\n",
       "\n",
       "    .dataframe tbody tr th {\n",
       "        vertical-align: top;\n",
       "    }\n",
       "\n",
       "    .dataframe thead th {\n",
       "        text-align: right;\n",
       "    }\n",
       "</style>\n",
       "<table border=\"1\" class=\"dataframe\">\n",
       "  <thead>\n",
       "    <tr style=\"text-align: right;\">\n",
       "      <th></th>\n",
       "      <th>1</th>\n",
       "      <th>2</th>\n",
       "      <th>3</th>\n",
       "      <th>4</th>\n",
       "      <th>5</th>\n",
       "      <th>6</th>\n",
       "      <th>7</th>\n",
       "      <th>8</th>\n",
       "      <th>9</th>\n",
       "    </tr>\n",
       "  </thead>\n",
       "  <tbody>\n",
       "    <tr>\n",
       "      <th>0</th>\n",
       "      <td>0.825397</td>\n",
       "      <td>0.839002</td>\n",
       "      <td>0.829932</td>\n",
       "      <td>0.836735</td>\n",
       "      <td>0.827664</td>\n",
       "      <td>0.845805</td>\n",
       "      <td>0.841270</td>\n",
       "      <td>0.841270</td>\n",
       "      <td>0.829932</td>\n",
       "    </tr>\n",
       "    <tr>\n",
       "      <th>1</th>\n",
       "      <td>0.825397</td>\n",
       "      <td>0.839002</td>\n",
       "      <td>0.829932</td>\n",
       "      <td>0.836735</td>\n",
       "      <td>0.827664</td>\n",
       "      <td>0.845805</td>\n",
       "      <td>0.841270</td>\n",
       "      <td>0.841270</td>\n",
       "      <td>0.829932</td>\n",
       "    </tr>\n",
       "    <tr>\n",
       "      <th>2</th>\n",
       "      <td>0.825397</td>\n",
       "      <td>0.839002</td>\n",
       "      <td>0.829932</td>\n",
       "      <td>0.836735</td>\n",
       "      <td>0.827664</td>\n",
       "      <td>0.845805</td>\n",
       "      <td>0.841270</td>\n",
       "      <td>0.841270</td>\n",
       "      <td>0.829932</td>\n",
       "    </tr>\n",
       "    <tr>\n",
       "      <th>3</th>\n",
       "      <td>0.825397</td>\n",
       "      <td>0.841270</td>\n",
       "      <td>0.834467</td>\n",
       "      <td>0.845805</td>\n",
       "      <td>0.834467</td>\n",
       "      <td>0.857143</td>\n",
       "      <td>0.841270</td>\n",
       "      <td>0.845805</td>\n",
       "      <td>0.829932</td>\n",
       "    </tr>\n",
       "    <tr>\n",
       "      <th>4</th>\n",
       "      <td>0.832200</td>\n",
       "      <td>0.841270</td>\n",
       "      <td>0.836735</td>\n",
       "      <td>0.843537</td>\n",
       "      <td>0.841270</td>\n",
       "      <td>0.854875</td>\n",
       "      <td>0.848073</td>\n",
       "      <td>0.843537</td>\n",
       "      <td>0.836735</td>\n",
       "    </tr>\n",
       "    <tr>\n",
       "      <th>5</th>\n",
       "      <td>0.829932</td>\n",
       "      <td>0.841270</td>\n",
       "      <td>0.841270</td>\n",
       "      <td>0.839002</td>\n",
       "      <td>0.841270</td>\n",
       "      <td>0.854875</td>\n",
       "      <td>0.845805</td>\n",
       "      <td>0.843537</td>\n",
       "      <td>0.836735</td>\n",
       "    </tr>\n",
       "    <tr>\n",
       "      <th>6</th>\n",
       "      <td>0.825397</td>\n",
       "      <td>0.845805</td>\n",
       "      <td>0.843537</td>\n",
       "      <td>0.848073</td>\n",
       "      <td>0.841270</td>\n",
       "      <td>0.852608</td>\n",
       "      <td>0.848073</td>\n",
       "      <td>0.841270</td>\n",
       "      <td>0.841270</td>\n",
       "    </tr>\n",
       "    <tr>\n",
       "      <th>7</th>\n",
       "      <td>0.834467</td>\n",
       "      <td>0.845805</td>\n",
       "      <td>0.843537</td>\n",
       "      <td>0.848073</td>\n",
       "      <td>0.841270</td>\n",
       "      <td>0.850340</td>\n",
       "      <td>0.848073</td>\n",
       "      <td>0.841270</td>\n",
       "      <td>0.836735</td>\n",
       "    </tr>\n",
       "  </tbody>\n",
       "</table>\n",
       "</div>"
      ],
      "text/plain": [
       "          1         2         3         4         5         6         7  \\\n",
       "0  0.825397  0.839002  0.829932  0.836735  0.827664  0.845805  0.841270   \n",
       "1  0.825397  0.839002  0.829932  0.836735  0.827664  0.845805  0.841270   \n",
       "2  0.825397  0.839002  0.829932  0.836735  0.827664  0.845805  0.841270   \n",
       "3  0.825397  0.841270  0.834467  0.845805  0.834467  0.857143  0.841270   \n",
       "4  0.832200  0.841270  0.836735  0.843537  0.841270  0.854875  0.848073   \n",
       "5  0.829932  0.841270  0.841270  0.839002  0.841270  0.854875  0.845805   \n",
       "6  0.825397  0.845805  0.843537  0.848073  0.841270  0.852608  0.848073   \n",
       "7  0.834467  0.845805  0.843537  0.848073  0.841270  0.850340  0.848073   \n",
       "\n",
       "          8         9  \n",
       "0  0.841270  0.829932  \n",
       "1  0.841270  0.829932  \n",
       "2  0.841270  0.829932  \n",
       "3  0.845805  0.829932  \n",
       "4  0.843537  0.836735  \n",
       "5  0.843537  0.836735  \n",
       "6  0.841270  0.841270  \n",
       "7  0.841270  0.836735  "
      ]
     },
     "execution_count": 9,
     "metadata": {},
     "output_type": "execute_result"
    }
   ],
   "source": [
    "df_test_lr"
   ]
  },
  {
   "cell_type": "code",
   "execution_count": 10,
   "id": "ed7b4d15",
   "metadata": {},
   "outputs": [
    {
     "data": {
      "text/html": [
       "<div>\n",
       "<style scoped>\n",
       "    .dataframe tbody tr th:only-of-type {\n",
       "        vertical-align: middle;\n",
       "    }\n",
       "\n",
       "    .dataframe tbody tr th {\n",
       "        vertical-align: top;\n",
       "    }\n",
       "\n",
       "    .dataframe thead th {\n",
       "        text-align: right;\n",
       "    }\n",
       "</style>\n",
       "<table border=\"1\" class=\"dataframe\">\n",
       "  <thead>\n",
       "    <tr style=\"text-align: right;\">\n",
       "      <th></th>\n",
       "      <th>C</th>\n",
       "      <th>training_accuracy</th>\n",
       "      <th>test_accuracy</th>\n",
       "    </tr>\n",
       "  </thead>\n",
       "  <tbody>\n",
       "    <tr>\n",
       "      <th>0</th>\n",
       "      <td>1.000000e-08</td>\n",
       "      <td>0.840298</td>\n",
       "      <td>0.835223</td>\n",
       "    </tr>\n",
       "    <tr>\n",
       "      <th>1</th>\n",
       "      <td>1.000000e-05</td>\n",
       "      <td>0.840298</td>\n",
       "      <td>0.835223</td>\n",
       "    </tr>\n",
       "    <tr>\n",
       "      <th>2</th>\n",
       "      <td>1.000000e-03</td>\n",
       "      <td>0.840298</td>\n",
       "      <td>0.835223</td>\n",
       "    </tr>\n",
       "    <tr>\n",
       "      <th>3</th>\n",
       "      <td>1.000000e-01</td>\n",
       "      <td>0.846993</td>\n",
       "      <td>0.839506</td>\n",
       "    </tr>\n",
       "    <tr>\n",
       "      <th>4</th>\n",
       "      <td>2.000000e-01</td>\n",
       "      <td>0.849044</td>\n",
       "      <td>0.842026</td>\n",
       "    </tr>\n",
       "    <tr>\n",
       "      <th>5</th>\n",
       "      <td>4.000000e-01</td>\n",
       "      <td>0.849368</td>\n",
       "      <td>0.841522</td>\n",
       "    </tr>\n",
       "    <tr>\n",
       "      <th>6</th>\n",
       "      <td>7.500000e-01</td>\n",
       "      <td>0.849692</td>\n",
       "      <td>0.843034</td>\n",
       "    </tr>\n",
       "    <tr>\n",
       "      <th>7</th>\n",
       "      <td>1.000000e+00</td>\n",
       "      <td>0.850988</td>\n",
       "      <td>0.843285</td>\n",
       "    </tr>\n",
       "  </tbody>\n",
       "</table>\n",
       "</div>"
      ],
      "text/plain": [
       "              C  training_accuracy  test_accuracy\n",
       "0  1.000000e-08           0.840298       0.835223\n",
       "1  1.000000e-05           0.840298       0.835223\n",
       "2  1.000000e-03           0.840298       0.835223\n",
       "3  1.000000e-01           0.846993       0.839506\n",
       "4  2.000000e-01           0.849044       0.842026\n",
       "5  4.000000e-01           0.849368       0.841522\n",
       "6  7.500000e-01           0.849692       0.843034\n",
       "7  1.000000e+00           0.850988       0.843285"
      ]
     },
     "execution_count": 10,
     "metadata": {},
     "output_type": "execute_result"
    }
   ],
   "source": [
    "df_accuracy_lr = pd.DataFrame({\n",
    "    'C': alpha_run,\n",
    "    'training_accuracy': df_training_lr.mean(axis=1),\n",
    "    'test_accuracy': df_test_lr.mean(axis=1)\n",
    "})\n",
    "df_accuracy_lr "
   ]
  },
  {
   "cell_type": "code",
   "execution_count": 11,
   "id": "521e6199",
   "metadata": {
    "scrolled": true
   },
   "outputs": [
    {
     "name": "stdout",
     "output_type": "stream",
     "text": [
      "Test accuracy:  84.33%\n",
      "C: 8\n"
     ]
    }
   ],
   "source": [
    "df_test_lr_1 = df_accuracy_lr[\"test_accuracy\"]\n",
    "df_test_max_lr = df_test_lr_1.max()\n",
    "df_test_n_lr = df_test_lr_1.idxmax() + 1\n",
    "print(f'Test accuracy: {df_test_max_lr: .2%}')\n",
    "print(f'C: {df_test_n_lr}')"
   ]
  },
  {
   "cell_type": "code",
   "execution_count": 12,
   "id": "4eb51c96",
   "metadata": {},
   "outputs": [
    {
     "name": "stdout",
     "output_type": "stream",
     "text": [
      "Best combination - alpha: 1, random_state: 6\n"
     ]
    }
   ],
   "source": [
    "best_alpha = alpha_run[np.argmax(np.mean(df_test_lr.values, axis=1))]\n",
    "best_random_state_lr = seedN_list_lr[np.argmax(np.mean(df_test_lr.values, axis=0))]\n",
    "print(\"Best combination - alpha: {}, random_state: {}\".format(best_alpha, best_random_state_lr))"
   ]
  },
  {
   "cell_type": "code",
   "execution_count": 13,
   "id": "bcebcc69",
   "metadata": {},
   "outputs": [
    {
     "name": "stdout",
     "output_type": "stream",
     "text": [
      "Test set accuracy: 0.84\n"
     ]
    },
    {
     "data": {
      "image/png": "[encoded data removed]",
      "text/plain": [
       "<Figure size 640x480 with 1 Axes>"
      ]
     },
     "metadata": {},
     "output_type": "display_data"
    }
   ],
   "source": [
    "plt.plot(alpha_run, df_training_lr.mean(axis=1), label=\"training accuracy\", color='blue', marker='o', linestyle='dashed')\n",
    "plt.plot(alpha_run, df_test_lr.mean(axis=1), label=\"test accuracy\",color='red', marker='^', linestyle='-')\n",
    "plt.ylabel(\"Accuracy\", fontsize=15)\n",
    "plt.xlabel(\"alpha\",fontsize=15)\n",
    "plt.legend()\n",
    "print(\"Test set accuracy: {:.2f}\".format(lr.score(X_test, y_test)))"
   ]
  },
  {
   "cell_type": "code",
   "execution_count": 14,
   "id": "6df0418a",
   "metadata": {},
   "outputs": [
    {
     "name": "stdout",
     "output_type": "stream",
     "text": [
      "Train Accuracy 0.8415937803692906\n",
      "Test Accuracy 0.8503401360544217\n",
      "Runtime: 0.022279024124145508\n"
     ]
    }
   ],
   "source": [
    "(X_train, X_test, y_train, y_test) = train_test_split(X, \n",
    "                                                      y, \n",
    "                                                      random_state=6, \n",
    "                                                      test_size=0.30) \n",
    "lr_1 = LogisticRegression(C=1, max_iter=100000, random_state=6)  \n",
    "start_lr_1 = time.time()\n",
    "lr_1.fit(X_train, y_train)\n",
    "end_lr_1 = time.time()\n",
    "runtime_lr_1 = end_lr_1 - start_lr_1\n",
    "\n",
    "bestscore_train_lr = lr_1.score(X_train, y_train)\n",
    "bestscore_test_lr = lr_1.score(X_test, y_test)\n",
    "\n",
    "print('Train Accuracy', bestscore_train_lr) \n",
    "print('Test Accuracy', bestscore_test_lr)   \n",
    "print('Runtime:', runtime_lr_1)"
   ]
  },
  {
   "cell_type": "code",
   "execution_count": 15,
   "id": "cf304bd0",
   "metadata": {},
   "outputs": [],
   "source": [
    "###### SAVING ACCURACY "
   ]
  },
  {
   "cell_type": "code",
   "execution_count": 16,
   "id": "89b37530",
   "metadata": {},
   "outputs": [],
   "source": [
    "df_accuracy_lr.to_csv('contents/modelling/df_accuracy_lr.csv', index=False)"
   ]
  },
  {
   "cell_type": "code",
   "execution_count": 17,
   "id": "144fd97d",
   "metadata": {},
   "outputs": [],
   "source": [
    "df_training_lr.to_csv('contents/modelling/df_training_lr.csv', index=False)"
   ]
  },
  {
   "cell_type": "code",
   "execution_count": 18,
   "id": "16aea4d3",
   "metadata": {},
   "outputs": [],
   "source": [
    "df_test_lr.to_csv('contents/modelling/df_test_lr.csv', index=False)"
   ]
  },
  {
   "cell_type": "markdown",
   "id": "a05b76bc",
   "metadata": {},
   "source": [
    "# DECISION TREES"
   ]
  },
  {
   "cell_type": "code",
   "execution_count": 19,
   "id": "2bb691e9",
   "metadata": {},
   "outputs": [],
   "source": [
    "(X_train, X_test, y_train, y_test) = train_test_split(X, y, random_state=42, test_size=0.30) "
   ]
  },
  {
   "cell_type": "code",
   "execution_count": 20,
   "id": "1a97bd42",
   "metadata": {},
   "outputs": [
    {
     "name": "stdout",
     "output_type": "stream",
     "text": [
      "Accuracy on training set: 1.000000\n",
      "Accuracy on test set: 0.784580\n",
      "Runtime: 0.0035619735717773438\n"
     ]
    }
   ],
   "source": [
    "dt = DecisionTreeClassifier(random_state=42)\n",
    "start_dt = time.time()\n",
    "dt.fit(X_train, y_train)\n",
    "end_dt = time.time()\n",
    "runtime_dt = end_dt - start_dt\n",
    "\n",
    "basescore_train_dt = dt.score(X_train, y_train)\n",
    "basescore_test_dt = dt.score(X_test, y_test)\n",
    "\n",
    "print(\"Accuracy on training set: %f\" %basescore_train_dt)\n",
    "print(\"Accuracy on test set: %f\" %basescore_test_dt)\n",
    "print('Runtime:', runtime_dt)"
   ]
  },
  {
   "cell_type": "code",
   "execution_count": 21,
   "id": "21579410",
   "metadata": {},
   "outputs": [
    {
     "data": {
      "application/vnd.jupyter.widget-view+json": {
       "model_id": "0db453ba6fcf42d3835283efcec36c8e",
       "version_major": 2,
       "version_minor": 0
      },
      "text/plain": [
       "  0%|          | 0/9 [00:00<?, ?it/s]"
      ]
     },
     "metadata": {},
     "output_type": "display_data"
    },
    {
     "data": {
      "application/vnd.jupyter.widget-view+json": {
       "model_id": "f7a9f831f263471fbfde9586387a88be",
       "version_major": 2,
       "version_minor": 0
      },
      "text/plain": [
       "  0%|          | 0/10 [00:00<?, ?it/s]"
      ]
     },
     "metadata": {},
     "output_type": "display_data"
    },
    {
     "data": {
      "application/vnd.jupyter.widget-view+json": {
       "model_id": "7e75ec00a1844741a05159f36e525f7a",
       "version_major": 2,
       "version_minor": 0
      },
      "text/plain": [
       "  0%|          | 0/10 [00:00<?, ?it/s]"
      ]
     },
     "metadata": {},
     "output_type": "display_data"
    },
    {
     "data": {
      "application/vnd.jupyter.widget-view+json": {
       "model_id": "8161674d2ab84bec968531dec4006824",
       "version_major": 2,
       "version_minor": 0
      },
      "text/plain": [
       "  0%|          | 0/10 [00:00<?, ?it/s]"
      ]
     },
     "metadata": {},
     "output_type": "display_data"
    },
    {
     "data": {
      "application/vnd.jupyter.widget-view+json": {
       "model_id": "1afab91bddf64ab68d5f275d0a168887",
       "version_major": 2,
       "version_minor": 0
      },
      "text/plain": [
       "  0%|          | 0/10 [00:00<?, ?it/s]"
      ]
     },
     "metadata": {},
     "output_type": "display_data"
    },
    {
     "data": {
      "application/vnd.jupyter.widget-view+json": {
       "model_id": "eb4536f15b034d84a4edfd6129249a9e",
       "version_major": 2,
       "version_minor": 0
      },
      "text/plain": [
       "  0%|          | 0/10 [00:00<?, ?it/s]"
      ]
     },
     "metadata": {},
     "output_type": "display_data"
    },
    {
     "data": {
      "application/vnd.jupyter.widget-view+json": {
       "model_id": "de4fcfdcda8744a5aada5e4744f31a15",
       "version_major": 2,
       "version_minor": 0
      },
      "text/plain": [
       "  0%|          | 0/10 [00:00<?, ?it/s]"
      ]
     },
     "metadata": {},
     "output_type": "display_data"
    },
    {
     "data": {
      "application/vnd.jupyter.widget-view+json": {
       "model_id": "ff0c9b4e05b546bead875b9f41ca235c",
       "version_major": 2,
       "version_minor": 0
      },
      "text/plain": [
       "  0%|          | 0/10 [00:00<?, ?it/s]"
      ]
     },
     "metadata": {},
     "output_type": "display_data"
    },
    {
     "data": {
      "application/vnd.jupyter.widget-view+json": {
       "model_id": "95fad24c54ea41d9a4e8729a1a756d6b",
       "version_major": 2,
       "version_minor": 0
      },
      "text/plain": [
       "  0%|          | 0/10 [00:00<?, ?it/s]"
      ]
     },
     "metadata": {},
     "output_type": "display_data"
    },
    {
     "data": {
      "application/vnd.jupyter.widget-view+json": {
       "model_id": "fe1506b7009141a2a4b56bb80c6125c0",
       "version_major": 2,
       "version_minor": 0
      },
      "text/plain": [
       "  0%|          | 0/10 [00:00<?, ?it/s]"
      ]
     },
     "metadata": {},
     "output_type": "display_data"
    }
   ],
   "source": [
    "df_training_dt = pd.DataFrame()\n",
    "df_test_dt = pd.DataFrame()\n",
    "seedN_list_dt = range(1, 10, 1)\n",
    "\n",
    "# hypertune random state\n",
    "for seedN in tqdm(seedN_list_dt):\n",
    "    X_train, X_test, y_train, y_test = train_test_split(X,y, \n",
    "                                                        test_size=0.30, random_state=seedN)\n",
    "\n",
    "    training_accuracy_dt = []\n",
    "    test_accuracy_dt = []\n",
    "    maxdepth_settings = range(1, 11) \n",
    "\n",
    "    # hypertune max_depth\n",
    "    for depth in tqdm(maxdepth_settings):   \n",
    "        tree = DecisionTreeClassifier(max_depth=depth)\n",
    "        tree.fit(X_train, y_train)\n",
    "\n",
    "        training_accuracy_dt.append(tree.score(X_train, y_train)) \n",
    "        test_accuracy_dt.append(tree.score(X_test, y_test))   \n",
    "    \n",
    "    df_training_dt[seedN]=training_accuracy_dt\n",
    "    df_test_dt[seedN] = test_accuracy_dt"
   ]
  },
  {
   "cell_type": "code",
   "execution_count": 22,
   "id": "15879ed1",
   "metadata": {},
   "outputs": [
    {
     "data": {
      "text/html": [
       "<div>\n",
       "<style scoped>\n",
       "    .dataframe tbody tr th:only-of-type {\n",
       "        vertical-align: middle;\n",
       "    }\n",
       "\n",
       "    .dataframe tbody tr th {\n",
       "        vertical-align: top;\n",
       "    }\n",
       "\n",
       "    .dataframe thead th {\n",
       "        text-align: right;\n",
       "    }\n",
       "</style>\n",
       "<table border=\"1\" class=\"dataframe\">\n",
       "  <thead>\n",
       "    <tr style=\"text-align: right;\">\n",
       "      <th></th>\n",
       "      <th>1</th>\n",
       "      <th>2</th>\n",
       "      <th>3</th>\n",
       "      <th>4</th>\n",
       "      <th>5</th>\n",
       "      <th>6</th>\n",
       "      <th>7</th>\n",
       "      <th>8</th>\n",
       "      <th>9</th>\n",
       "    </tr>\n",
       "  </thead>\n",
       "  <tbody>\n",
       "    <tr>\n",
       "      <th>0</th>\n",
       "      <td>0.825397</td>\n",
       "      <td>0.839002</td>\n",
       "      <td>0.829932</td>\n",
       "      <td>0.836735</td>\n",
       "      <td>0.827664</td>\n",
       "      <td>0.845805</td>\n",
       "      <td>0.841270</td>\n",
       "      <td>0.841270</td>\n",
       "      <td>0.829932</td>\n",
       "    </tr>\n",
       "    <tr>\n",
       "      <th>1</th>\n",
       "      <td>0.834467</td>\n",
       "      <td>0.852608</td>\n",
       "      <td>0.834467</td>\n",
       "      <td>0.832200</td>\n",
       "      <td>0.829932</td>\n",
       "      <td>0.848073</td>\n",
       "      <td>0.827664</td>\n",
       "      <td>0.836735</td>\n",
       "      <td>0.829932</td>\n",
       "    </tr>\n",
       "    <tr>\n",
       "      <th>2</th>\n",
       "      <td>0.829932</td>\n",
       "      <td>0.845805</td>\n",
       "      <td>0.834467</td>\n",
       "      <td>0.859410</td>\n",
       "      <td>0.827664</td>\n",
       "      <td>0.857143</td>\n",
       "      <td>0.829932</td>\n",
       "      <td>0.852608</td>\n",
       "      <td>0.843537</td>\n",
       "    </tr>\n",
       "    <tr>\n",
       "      <th>3</th>\n",
       "      <td>0.823129</td>\n",
       "      <td>0.841270</td>\n",
       "      <td>0.839002</td>\n",
       "      <td>0.852608</td>\n",
       "      <td>0.825397</td>\n",
       "      <td>0.863946</td>\n",
       "      <td>0.834467</td>\n",
       "      <td>0.839002</td>\n",
       "      <td>0.834467</td>\n",
       "    </tr>\n",
       "    <tr>\n",
       "      <th>4</th>\n",
       "      <td>0.823129</td>\n",
       "      <td>0.834467</td>\n",
       "      <td>0.832200</td>\n",
       "      <td>0.852608</td>\n",
       "      <td>0.845805</td>\n",
       "      <td>0.841270</td>\n",
       "      <td>0.836735</td>\n",
       "      <td>0.823129</td>\n",
       "      <td>0.829932</td>\n",
       "    </tr>\n",
       "    <tr>\n",
       "      <th>5</th>\n",
       "      <td>0.818594</td>\n",
       "      <td>0.839002</td>\n",
       "      <td>0.839002</td>\n",
       "      <td>0.832200</td>\n",
       "      <td>0.814059</td>\n",
       "      <td>0.845805</td>\n",
       "      <td>0.839002</td>\n",
       "      <td>0.827664</td>\n",
       "      <td>0.836735</td>\n",
       "    </tr>\n",
       "    <tr>\n",
       "      <th>6</th>\n",
       "      <td>0.811791</td>\n",
       "      <td>0.839002</td>\n",
       "      <td>0.816327</td>\n",
       "      <td>0.843537</td>\n",
       "      <td>0.814059</td>\n",
       "      <td>0.843537</td>\n",
       "      <td>0.834467</td>\n",
       "      <td>0.809524</td>\n",
       "      <td>0.820862</td>\n",
       "    </tr>\n",
       "    <tr>\n",
       "      <th>7</th>\n",
       "      <td>0.809524</td>\n",
       "      <td>0.827664</td>\n",
       "      <td>0.827664</td>\n",
       "      <td>0.823129</td>\n",
       "      <td>0.814059</td>\n",
       "      <td>0.836735</td>\n",
       "      <td>0.820862</td>\n",
       "      <td>0.829932</td>\n",
       "      <td>0.832200</td>\n",
       "    </tr>\n",
       "    <tr>\n",
       "      <th>8</th>\n",
       "      <td>0.791383</td>\n",
       "      <td>0.825397</td>\n",
       "      <td>0.816327</td>\n",
       "      <td>0.802721</td>\n",
       "      <td>0.804989</td>\n",
       "      <td>0.809524</td>\n",
       "      <td>0.811791</td>\n",
       "      <td>0.789116</td>\n",
       "      <td>0.820862</td>\n",
       "    </tr>\n",
       "    <tr>\n",
       "      <th>9</th>\n",
       "      <td>0.784580</td>\n",
       "      <td>0.798186</td>\n",
       "      <td>0.807256</td>\n",
       "      <td>0.802721</td>\n",
       "      <td>0.816327</td>\n",
       "      <td>0.816327</td>\n",
       "      <td>0.811791</td>\n",
       "      <td>0.811791</td>\n",
       "      <td>0.816327</td>\n",
       "    </tr>\n",
       "  </tbody>\n",
       "</table>\n",
       "</div>"
      ],
      "text/plain": [
       "          1         2         3         4         5         6         7  \\\n",
       "0  0.825397  0.839002  0.829932  0.836735  0.827664  0.845805  0.841270   \n",
       "1  0.834467  0.852608  0.834467  0.832200  0.829932  0.848073  0.827664   \n",
       "2  0.829932  0.845805  0.834467  0.859410  0.827664  0.857143  0.829932   \n",
       "3  0.823129  0.841270  0.839002  0.852608  0.825397  0.863946  0.834467   \n",
       "4  0.823129  0.834467  0.832200  0.852608  0.845805  0.841270  0.836735   \n",
       "5  0.818594  0.839002  0.839002  0.832200  0.814059  0.845805  0.839002   \n",
       "6  0.811791  0.839002  0.816327  0.843537  0.814059  0.843537  0.834467   \n",
       "7  0.809524  0.827664  0.827664  0.823129  0.814059  0.836735  0.820862   \n",
       "8  0.791383  0.825397  0.816327  0.802721  0.804989  0.809524  0.811791   \n",
       "9  0.784580  0.798186  0.807256  0.802721  0.816327  0.816327  0.811791   \n",
       "\n",
       "          8         9  \n",
       "0  0.841270  0.829932  \n",
       "1  0.836735  0.829932  \n",
       "2  0.852608  0.843537  \n",
       "3  0.839002  0.834467  \n",
       "4  0.823129  0.829932  \n",
       "5  0.827664  0.836735  \n",
       "6  0.809524  0.820862  \n",
       "7  0.829932  0.832200  \n",
       "8  0.789116  0.820862  \n",
       "9  0.811791  0.816327  "
      ]
     },
     "execution_count": 22,
     "metadata": {},
     "output_type": "execute_result"
    }
   ],
   "source": [
    "df_test_dt"
   ]
  },
  {
   "cell_type": "code",
   "execution_count": 23,
   "id": "d4778866",
   "metadata": {},
   "outputs": [
    {
     "data": {
      "text/html": [
       "<div>\n",
       "<style scoped>\n",
       "    .dataframe tbody tr th:only-of-type {\n",
       "        vertical-align: middle;\n",
       "    }\n",
       "\n",
       "    .dataframe tbody tr th {\n",
       "        vertical-align: top;\n",
       "    }\n",
       "\n",
       "    .dataframe thead th {\n",
       "        text-align: right;\n",
       "    }\n",
       "</style>\n",
       "<table border=\"1\" class=\"dataframe\">\n",
       "  <thead>\n",
       "    <tr style=\"text-align: right;\">\n",
       "      <th></th>\n",
       "      <th>max_depth</th>\n",
       "      <th>training_accuracy</th>\n",
       "      <th>test_accuracy</th>\n",
       "    </tr>\n",
       "  </thead>\n",
       "  <tbody>\n",
       "    <tr>\n",
       "      <th>0</th>\n",
       "      <td>1</td>\n",
       "      <td>0.840298</td>\n",
       "      <td>0.835223</td>\n",
       "    </tr>\n",
       "    <tr>\n",
       "      <th>1</th>\n",
       "      <td>2</td>\n",
       "      <td>0.851420</td>\n",
       "      <td>0.836231</td>\n",
       "    </tr>\n",
       "    <tr>\n",
       "      <th>2</th>\n",
       "      <td>3</td>\n",
       "      <td>0.860274</td>\n",
       "      <td>0.842278</td>\n",
       "    </tr>\n",
       "    <tr>\n",
       "      <th>3</th>\n",
       "      <td>4</td>\n",
       "      <td>0.870532</td>\n",
       "      <td>0.839254</td>\n",
       "    </tr>\n",
       "    <tr>\n",
       "      <th>4</th>\n",
       "      <td>5</td>\n",
       "      <td>0.883382</td>\n",
       "      <td>0.835475</td>\n",
       "    </tr>\n",
       "    <tr>\n",
       "      <th>5</th>\n",
       "      <td>6</td>\n",
       "      <td>0.897851</td>\n",
       "      <td>0.832451</td>\n",
       "    </tr>\n",
       "    <tr>\n",
       "      <th>6</th>\n",
       "      <td>7</td>\n",
       "      <td>0.916208</td>\n",
       "      <td>0.825901</td>\n",
       "    </tr>\n",
       "    <tr>\n",
       "      <th>7</th>\n",
       "      <td>8</td>\n",
       "      <td>0.931217</td>\n",
       "      <td>0.824641</td>\n",
       "    </tr>\n",
       "    <tr>\n",
       "      <th>8</th>\n",
       "      <td>9</td>\n",
       "      <td>0.947090</td>\n",
       "      <td>0.808012</td>\n",
       "    </tr>\n",
       "    <tr>\n",
       "      <th>9</th>\n",
       "      <td>10</td>\n",
       "      <td>0.960695</td>\n",
       "      <td>0.807256</td>\n",
       "    </tr>\n",
       "  </tbody>\n",
       "</table>\n",
       "</div>"
      ],
      "text/plain": [
       "   max_depth  training_accuracy  test_accuracy\n",
       "0          1           0.840298       0.835223\n",
       "1          2           0.851420       0.836231\n",
       "2          3           0.860274       0.842278\n",
       "3          4           0.870532       0.839254\n",
       "4          5           0.883382       0.835475\n",
       "5          6           0.897851       0.832451\n",
       "6          7           0.916208       0.825901\n",
       "7          8           0.931217       0.824641\n",
       "8          9           0.947090       0.808012\n",
       "9         10           0.960695       0.807256"
      ]
     },
     "execution_count": 23,
     "metadata": {},
     "output_type": "execute_result"
    }
   ],
   "source": [
    "df_accuracy_dt = pd.DataFrame({\n",
    "    'max_depth': maxdepth_settings,\n",
    "    'training_accuracy': df_training_dt.mean(axis=1),\n",
    "    'test_accuracy': df_test_dt.mean(axis=1)\n",
    "})\n",
    "df_accuracy_dt "
   ]
  },
  {
   "cell_type": "code",
   "execution_count": 24,
   "id": "5663128f",
   "metadata": {},
   "outputs": [
    {
     "name": "stdout",
     "output_type": "stream",
     "text": [
      "Test accuracy:  84.23%\n",
      "max_depth: 3\n"
     ]
    }
   ],
   "source": [
    "df_test_dt_1 = df_accuracy_dt[\"test_accuracy\"]\n",
    "df_test_max_dt = df_test_dt_1.max()\n",
    "df_test_n_dt = df_test_dt_1.idxmax() + 1\n",
    "print(f'Test accuracy: {df_test_max_dt: .2%}')\n",
    "print(f'max_depth: {df_test_n_dt}')"
   ]
  },
  {
   "cell_type": "code",
   "execution_count": 25,
   "id": "1c577c36",
   "metadata": {},
   "outputs": [
    {
     "name": "stdout",
     "output_type": "stream",
     "text": [
      "Best combination - max_depth: 3, random_state: 6\n"
     ]
    }
   ],
   "source": [
    "best_max_depth= maxdepth_settings[np.argmax(np.mean(df_test_dt.values, axis=1))]\n",
    "best_random_state_dt = seedN_list_dt[np.argmax(np.mean(df_test_dt.values, axis=0))]\n",
    "print(\"Best combination - max_depth: {}, random_state: {}\".format(best_max_depth, best_random_state_dt))"
   ]
  },
  {
   "cell_type": "code",
   "execution_count": 26,
   "id": "570ed99c",
   "metadata": {},
   "outputs": [
    {
     "name": "stdout",
     "output_type": "stream",
     "text": [
      "Highest Average Test Set Achieved = 0.842278\n",
      "Best max_depth Parameters = 3\n"
     ]
    },
    {
     "data": {
      "image/png": "[encoded data removed]",
      "text/plain": [
       "<Figure size 1500x600 with 1 Axes>"
      ]
     },
     "metadata": {},
     "output_type": "display_data"
    }
   ],
   "source": [
    "fig = plt.figure(figsize=(15, 6))\n",
    "plt.errorbar(maxdepth_settings, df_training_dt.mean(axis=1),\n",
    "             yerr=df_training_dt.std(axis=1)/2, label=\"training accuracy\")\n",
    "plt.errorbar(maxdepth_settings, df_test_dt.mean(axis=1),\n",
    "             yerr=df_test_dt.std(axis=1)/2, label=\"test accuracy\")\n",
    "plt.ylabel(\"Accuracy\")\n",
    "plt.xlabel(\"max_depth\")\n",
    "plt.legend()\n",
    "bestdepth=np.argmax(df_test_dt.mean(axis=1))+1\n",
    "print(\"Highest Average Test Set Achieved = %f\" % np.amax(df_test_dt.mean(axis=1)))\n",
    "print(\"Best max_depth Parameters = %d\" %bestdepth )"
   ]
  },
  {
   "cell_type": "code",
   "execution_count": 27,
   "id": "73b80bc5",
   "metadata": {},
   "outputs": [
    {
     "name": "stdout",
     "output_type": "stream",
     "text": [
      "Accuracy on training set: 0.850340\n",
      "Accuracy on test set: 0.857143\n",
      "Runtime: 0.0014841556549072266\n"
     ]
    }
   ],
   "source": [
    "(X_train, X_test, y_train, y_test) = train_test_split(X, \n",
    "                                                      y,\n",
    "                                                      random_state=6,\n",
    "                                                      test_size=0.30) \n",
    "\n",
    "dt_1 = DecisionTreeClassifier(max_depth=3, random_state=6)\n",
    "start_dt_1 = time.time()\n",
    "dt_1.fit(X_train, y_train)\n",
    "end_dt_1 = time.time()\n",
    "runtime_dt_1 = end_dt_1 - start_dt_1\n",
    "\n",
    "bestscore_train_dt = dt_1.score(X_train, y_train)\n",
    "bestscore_test_dt = dt_1.score(X_test, y_test)\n",
    "\n",
    "print(\"Accuracy on training set: %f\" %bestscore_train_dt)\n",
    "print(\"Accuracy on test set: %f\" %bestscore_test_dt)\n",
    "print('Runtime:', runtime_dt_1)"
   ]
  },
  {
   "cell_type": "code",
   "execution_count": 28,
   "id": "614a961c",
   "metadata": {},
   "outputs": [
    {
     "data": {
      "image/svg+xml": [
       "<?xml version=\"1.0\" encoding=\"UTF-8\" standalone=\"no\"?>\n",
       "<!DOCTYPE svg PUBLIC \"-//W3C//DTD SVG 1.1//EN\"\n",
       " \"http://www.w3.org/Graphics/SVG/1.1/DTD/svg11.dtd\">\n",
       "<!-- Generated by graphviz version 8.0.3 (20230416.2022)\n",
       " -->\n",
       "<!-- Title: Tree Pages: 1 -->\n",
       "<svg width=\"1006pt\" height=\"373pt\"\n",
       " viewBox=\"0.00 0.00 1005.50 373.00\" xmlns=\"http://www.w3.org/2000/svg\" xmlns:xlink=\"http://www.w3.org/1999/xlink\">\n",
       "<g id=\"graph0\" class=\"graph\" transform=\"scale(1 1) rotate(0) translate(4 369)\">\n",
       "<title>Tree</title>\n",
       "<polygon fill=\"white\" stroke=\"none\" points=\"-4,4 -4,-369 1001.5,-369 1001.5,4 -4,4\"/>\n",
       "<!-- 0 -->\n",
       "<g id=\"node1\" class=\"node\">\n",
       "<title>0</title>\n",
       "<polygon fill=\"#ea9a60\" stroke=\"black\" points=\"535,-365 410,-365 410,-297 535,-297 535,-365\"/>\n",
       "<text text-anchor=\"middle\" x=\"472.5\" y=\"-349.8\" font-family=\"Helvetica,sans-Serif\" font-size=\"14.00\">OverTime &lt;= 0.5</text>\n",
       "<text text-anchor=\"middle\" x=\"472.5\" y=\"-334.8\" font-family=\"Helvetica,sans-Serif\" font-size=\"14.00\">samples = 1029</text>\n",
       "<text text-anchor=\"middle\" x=\"472.5\" y=\"-319.8\" font-family=\"Helvetica,sans-Serif\" font-size=\"14.00\">value = [860, 169]</text>\n",
       "<text text-anchor=\"middle\" x=\"472.5\" y=\"-304.8\" font-family=\"Helvetica,sans-Serif\" font-size=\"14.00\">class = No</text>\n",
       "</g>\n",
       "<!-- 1 -->\n",
       "<g id=\"node2\" class=\"node\">\n",
       "<title>1</title>\n",
       "<polygon fill=\"#e88f4f\" stroke=\"black\" points=\"448,-261 273,-261 273,-193 448,-193 448,-261\"/>\n",
       "<text text-anchor=\"middle\" x=\"360.5\" y=\"-245.8\" font-family=\"Helvetica,sans-Serif\" font-size=\"14.00\">MonthlyIncome &lt;= 2059.5</text>\n",
       "<text text-anchor=\"middle\" x=\"360.5\" y=\"-230.8\" font-family=\"Helvetica,sans-Serif\" font-size=\"14.00\">samples = 736</text>\n",
       "<text text-anchor=\"middle\" x=\"360.5\" y=\"-215.8\" font-family=\"Helvetica,sans-Serif\" font-size=\"14.00\">value = [662, 74]</text>\n",
       "<text text-anchor=\"middle\" x=\"360.5\" y=\"-200.8\" font-family=\"Helvetica,sans-Serif\" font-size=\"14.00\">class = No</text>\n",
       "</g>\n",
       "<!-- 0&#45;&gt;1 -->\n",
       "<g id=\"edge1\" class=\"edge\">\n",
       "<title>0&#45;&gt;1</title>\n",
       "<path fill=\"none\" stroke=\"black\" d=\"M435.83,-296.6C426.06,-287.71 415.4,-278 405.26,-268.76\"/>\n",
       "<polygon fill=\"black\" stroke=\"black\" points=\"408.01,-266.62 398.26,-262.47 403.29,-271.79 408.01,-266.62\"/>\n",
       "<text text-anchor=\"middle\" x=\"398.42\" y=\"-282.75\" font-family=\"Helvetica,sans-Serif\" font-size=\"14.00\">True</text>\n",
       "</g>\n",
       "<!-- 8 -->\n",
       "<g id=\"node9\" class=\"node\">\n",
       "<title>8</title>\n",
       "<polygon fill=\"#f1bd98\" stroke=\"black\" points=\"672,-261 497,-261 497,-193 672,-193 672,-261\"/>\n",
       "<text text-anchor=\"middle\" x=\"584.5\" y=\"-245.8\" font-family=\"Helvetica,sans-Serif\" font-size=\"14.00\">MonthlyIncome &lt;= 3779.0</text>\n",
       "<text text-anchor=\"middle\" x=\"584.5\" y=\"-230.8\" font-family=\"Helvetica,sans-Serif\" font-size=\"14.00\">samples = 293</text>\n",
       "<text text-anchor=\"middle\" x=\"584.5\" y=\"-215.8\" font-family=\"Helvetica,sans-Serif\" font-size=\"14.00\">value = [198, 95]</text>\n",
       "<text text-anchor=\"middle\" x=\"584.5\" y=\"-200.8\" font-family=\"Helvetica,sans-Serif\" font-size=\"14.00\">class = No</text>\n",
       "</g>\n",
       "<!-- 0&#45;&gt;8 -->\n",
       "<g id=\"edge8\" class=\"edge\">\n",
       "<title>0&#45;&gt;8</title>\n",
       "<path fill=\"none\" stroke=\"black\" d=\"M509.17,-296.6C518.94,-287.71 529.6,-278 539.74,-268.76\"/>\n",
       "<polygon fill=\"black\" stroke=\"black\" points=\"541.71,-271.79 546.74,-262.47 536.99,-266.62 541.71,-271.79\"/>\n",
       "<text text-anchor=\"middle\" x=\"546.58\" y=\"-282.75\" font-family=\"Helvetica,sans-Serif\" font-size=\"14.00\">False</text>\n",
       "</g>\n",
       "<!-- 2 -->\n",
       "<g id=\"node3\" class=\"node\">\n",
       "<title>2</title>\n",
       "<polygon fill=\"#f6d5bd\" stroke=\"black\" points=\"239,-157 88,-157 88,-89 239,-89 239,-157\"/>\n",
       "<text text-anchor=\"middle\" x=\"163.5\" y=\"-141.8\" font-family=\"Helvetica,sans-Serif\" font-size=\"14.00\">JobSatisfaction &lt;= 1.5</text>\n",
       "<text text-anchor=\"middle\" x=\"163.5\" y=\"-126.8\" font-family=\"Helvetica,sans-Serif\" font-size=\"14.00\">samples = 25</text>\n",
       "<text text-anchor=\"middle\" x=\"163.5\" y=\"-111.8\" font-family=\"Helvetica,sans-Serif\" font-size=\"14.00\">value = [15, 10]</text>\n",
       "<text text-anchor=\"middle\" x=\"163.5\" y=\"-96.8\" font-family=\"Helvetica,sans-Serif\" font-size=\"14.00\">class = No</text>\n",
       "</g>\n",
       "<!-- 1&#45;&gt;2 -->\n",
       "<g id=\"edge2\" class=\"edge\">\n",
       "<title>1&#45;&gt;2</title>\n",
       "<path fill=\"none\" stroke=\"black\" d=\"M295.99,-192.6C277.37,-182.96 256.9,-172.36 237.74,-162.44\"/>\n",
       "<polygon fill=\"black\" stroke=\"black\" points=\"239.64,-158.96 229.15,-157.47 236.42,-165.18 239.64,-158.96\"/>\n",
       "</g>\n",
       "<!-- 5 -->\n",
       "<g id=\"node6\" class=\"node\">\n",
       "<title>5</title>\n",
       "<polygon fill=\"#e88d4d\" stroke=\"black\" points=\"463.5,-157 257.5,-157 257.5,-89 463.5,-89 463.5,-157\"/>\n",
       "<text text-anchor=\"middle\" x=\"360.5\" y=\"-141.8\" font-family=\"Helvetica,sans-Serif\" font-size=\"14.00\">EnvironmentSatisfaction &lt;= 1.5</text>\n",
       "<text text-anchor=\"middle\" x=\"360.5\" y=\"-126.8\" font-family=\"Helvetica,sans-Serif\" font-size=\"14.00\">samples = 711</text>\n",
       "<text text-anchor=\"middle\" x=\"360.5\" y=\"-111.8\" font-family=\"Helvetica,sans-Serif\" font-size=\"14.00\">value = [647, 64]</text>\n",
       "<text text-anchor=\"middle\" x=\"360.5\" y=\"-96.8\" font-family=\"Helvetica,sans-Serif\" font-size=\"14.00\">class = No</text>\n",
       "</g>\n",
       "<!-- 1&#45;&gt;5 -->\n",
       "<g id=\"edge5\" class=\"edge\">\n",
       "<title>1&#45;&gt;5</title>\n",
       "<path fill=\"none\" stroke=\"black\" d=\"M360.5,-192.6C360.5,-184.85 360.5,-176.49 360.5,-168.35\"/>\n",
       "<polygon fill=\"black\" stroke=\"black\" points=\"364,-168.47 360.5,-158.47 357,-168.47 364,-168.47\"/>\n",
       "</g>\n",
       "<!-- 3 -->\n",
       "<g id=\"node4\" class=\"node\">\n",
       "<title>3</title>\n",
       "<polygon fill=\"#399de5\" stroke=\"black\" points=\"95,-53 0,-53 0,0 95,0 95,-53\"/>\n",
       "<text text-anchor=\"middle\" x=\"47.5\" y=\"-37.8\" font-family=\"Helvetica,sans-Serif\" font-size=\"14.00\">samples = 4</text>\n",
       "<text text-anchor=\"middle\" x=\"47.5\" y=\"-22.8\" font-family=\"Helvetica,sans-Serif\" font-size=\"14.00\">value = [0, 4]</text>\n",
       "<text text-anchor=\"middle\" x=\"47.5\" y=\"-7.8\" font-family=\"Helvetica,sans-Serif\" font-size=\"14.00\">class = Yes</text>\n",
       "</g>\n",
       "<!-- 2&#45;&gt;3 -->\n",
       "<g id=\"edge3\" class=\"edge\">\n",
       "<title>2&#45;&gt;3</title>\n",
       "<path fill=\"none\" stroke=\"black\" d=\"M122.6,-88.68C111.27,-79.45 98.98,-69.44 87.69,-60.24\"/>\n",
       "<polygon fill=\"black\" stroke=\"black\" points=\"90.25,-57 80.28,-53.39 85.83,-62.42 90.25,-57\"/>\n",
       "</g>\n",
       "<!-- 4 -->\n",
       "<g id=\"node5\" class=\"node\">\n",
       "<title>4</title>\n",
       "<polygon fill=\"#efb388\" stroke=\"black\" points=\"215.5,-53 113.5,-53 113.5,0 215.5,0 215.5,-53\"/>\n",
       "<text text-anchor=\"middle\" x=\"164.5\" y=\"-37.8\" font-family=\"Helvetica,sans-Serif\" font-size=\"14.00\">samples = 21</text>\n",
       "<text text-anchor=\"middle\" x=\"164.5\" y=\"-22.8\" font-family=\"Helvetica,sans-Serif\" font-size=\"14.00\">value = [15, 6]</text>\n",
       "<text text-anchor=\"middle\" x=\"164.5\" y=\"-7.8\" font-family=\"Helvetica,sans-Serif\" font-size=\"14.00\">class = No</text>\n",
       "</g>\n",
       "<!-- 2&#45;&gt;4 -->\n",
       "<g id=\"edge4\" class=\"edge\">\n",
       "<title>2&#45;&gt;4</title>\n",
       "<path fill=\"none\" stroke=\"black\" d=\"M163.85,-88.68C163.94,-80.81 164.03,-72.37 164.11,-64.35\"/>\n",
       "<polygon fill=\"black\" stroke=\"black\" points=\"167.62,-64.43 164.23,-54.39 160.62,-64.36 167.62,-64.43\"/>\n",
       "</g>\n",
       "<!-- 6 -->\n",
       "<g id=\"node7\" class=\"node\">\n",
       "<title>6</title>\n",
       "<polygon fill=\"#eb9c63\" stroke=\"black\" points=\"352,-53 235,-53 235,0 352,0 352,-53\"/>\n",
       "<text text-anchor=\"middle\" x=\"293.5\" y=\"-37.8\" font-family=\"Helvetica,sans-Serif\" font-size=\"14.00\">samples = 153</text>\n",
       "<text text-anchor=\"middle\" x=\"293.5\" y=\"-22.8\" font-family=\"Helvetica,sans-Serif\" font-size=\"14.00\">value = [126, 27]</text>\n",
       "<text text-anchor=\"middle\" x=\"293.5\" y=\"-7.8\" font-family=\"Helvetica,sans-Serif\" font-size=\"14.00\">class = No</text>\n",
       "</g>\n",
       "<!-- 5&#45;&gt;6 -->\n",
       "<g id=\"edge6\" class=\"edge\">\n",
       "<title>5&#45;&gt;6</title>\n",
       "<path fill=\"none\" stroke=\"black\" d=\"M336.88,-88.68C330.78,-80.09 324.21,-70.81 318.07,-62.15\"/>\n",
       "<polygon fill=\"black\" stroke=\"black\" points=\"320.5,-60.53 311.86,-54.39 314.79,-64.58 320.5,-60.53\"/>\n",
       "</g>\n",
       "<!-- 7 -->\n",
       "<g id=\"node8\" class=\"node\">\n",
       "<title>7</title>\n",
       "<polygon fill=\"#e78a47\" stroke=\"black\" points=\"487,-53 370,-53 370,0 487,0 487,-53\"/>\n",
       "<text text-anchor=\"middle\" x=\"428.5\" y=\"-37.8\" font-family=\"Helvetica,sans-Serif\" font-size=\"14.00\">samples = 558</text>\n",
       "<text text-anchor=\"middle\" x=\"428.5\" y=\"-22.8\" font-family=\"Helvetica,sans-Serif\" font-size=\"14.00\">value = [521, 37]</text>\n",
       "<text text-anchor=\"middle\" x=\"428.5\" y=\"-7.8\" font-family=\"Helvetica,sans-Serif\" font-size=\"14.00\">class = No</text>\n",
       "</g>\n",
       "<!-- 5&#45;&gt;7 -->\n",
       "<g id=\"edge7\" class=\"edge\">\n",
       "<title>5&#45;&gt;7</title>\n",
       "<path fill=\"none\" stroke=\"black\" d=\"M384.47,-88.68C390.66,-80.09 397.33,-70.81 403.57,-62.15\"/>\n",
       "<polygon fill=\"black\" stroke=\"black\" points=\"406.87,-64.56 409.87,-54.39 401.19,-60.47 406.87,-64.56\"/>\n",
       "</g>\n",
       "<!-- 9 -->\n",
       "<g id=\"node10\" class=\"node\">\n",
       "<title>9</title>\n",
       "<polygon fill=\"#daedfa\" stroke=\"black\" points=\"687.5,-157 481.5,-157 481.5,-89 687.5,-89 687.5,-157\"/>\n",
       "<text text-anchor=\"middle\" x=\"584.5\" y=\"-141.8\" font-family=\"Helvetica,sans-Serif\" font-size=\"14.00\">EnvironmentSatisfaction &lt;= 1.5</text>\n",
       "<text text-anchor=\"middle\" x=\"584.5\" y=\"-126.8\" font-family=\"Helvetica,sans-Serif\" font-size=\"14.00\">samples = 107</text>\n",
       "<text text-anchor=\"middle\" x=\"584.5\" y=\"-111.8\" font-family=\"Helvetica,sans-Serif\" font-size=\"14.00\">value = [48, 59]</text>\n",
       "<text text-anchor=\"middle\" x=\"584.5\" y=\"-96.8\" font-family=\"Helvetica,sans-Serif\" font-size=\"14.00\">class = Yes</text>\n",
       "</g>\n",
       "<!-- 8&#45;&gt;9 -->\n",
       "<g id=\"edge9\" class=\"edge\">\n",
       "<title>8&#45;&gt;9</title>\n",
       "<path fill=\"none\" stroke=\"black\" d=\"M584.5,-192.6C584.5,-184.85 584.5,-176.49 584.5,-168.35\"/>\n",
       "<polygon fill=\"black\" stroke=\"black\" points=\"588,-168.47 584.5,-158.47 581,-168.47 588,-168.47\"/>\n",
       "</g>\n",
       "<!-- 12 -->\n",
       "<g id=\"node13\" class=\"node\">\n",
       "<title>12</title>\n",
       "<polygon fill=\"#eb9f69\" stroke=\"black\" points=\"911.5,-157 705.5,-157 705.5,-89 911.5,-89 911.5,-157\"/>\n",
       "<text text-anchor=\"middle\" x=\"808.5\" y=\"-141.8\" font-family=\"Helvetica,sans-Serif\" font-size=\"14.00\">EnvironmentSatisfaction &lt;= 2.5</text>\n",
       "<text text-anchor=\"middle\" x=\"808.5\" y=\"-126.8\" font-family=\"Helvetica,sans-Serif\" font-size=\"14.00\">samples = 186</text>\n",
       "<text text-anchor=\"middle\" x=\"808.5\" y=\"-111.8\" font-family=\"Helvetica,sans-Serif\" font-size=\"14.00\">value = [150, 36]</text>\n",
       "<text text-anchor=\"middle\" x=\"808.5\" y=\"-96.8\" font-family=\"Helvetica,sans-Serif\" font-size=\"14.00\">class = No</text>\n",
       "</g>\n",
       "<!-- 8&#45;&gt;12 -->\n",
       "<g id=\"edge12\" class=\"edge\">\n",
       "<title>8&#45;&gt;12</title>\n",
       "<path fill=\"none\" stroke=\"black\" d=\"M657.85,-192.6C679.31,-182.83 702.94,-172.07 724.98,-162.03\"/>\n",
       "<polygon fill=\"black\" stroke=\"black\" points=\"726.34,-164.8 733.99,-157.47 723.44,-158.43 726.34,-164.8\"/>\n",
       "</g>\n",
       "<!-- 10 -->\n",
       "<g id=\"node11\" class=\"node\">\n",
       "<title>10</title>\n",
       "<polygon fill=\"#63b2eb\" stroke=\"black\" points=\"607.5,-53 505.5,-53 505.5,0 607.5,0 607.5,-53\"/>\n",
       "<text text-anchor=\"middle\" x=\"556.5\" y=\"-37.8\" font-family=\"Helvetica,sans-Serif\" font-size=\"14.00\">samples = 17</text>\n",
       "<text text-anchor=\"middle\" x=\"556.5\" y=\"-22.8\" font-family=\"Helvetica,sans-Serif\" font-size=\"14.00\">value = [3, 14]</text>\n",
       "<text text-anchor=\"middle\" x=\"556.5\" y=\"-7.8\" font-family=\"Helvetica,sans-Serif\" font-size=\"14.00\">class = Yes</text>\n",
       "</g>\n",
       "<!-- 9&#45;&gt;10 -->\n",
       "<g id=\"edge10\" class=\"edge\">\n",
       "<title>9&#45;&gt;10</title>\n",
       "<path fill=\"none\" stroke=\"black\" d=\"M574.63,-88.68C572.24,-80.63 569.68,-71.98 567.25,-63.8\"/>\n",
       "<polygon fill=\"black\" stroke=\"black\" points=\"570.37,-62.99 564.17,-54.39 563.66,-64.98 570.37,-62.99\"/>\n",
       "</g>\n",
       "<!-- 11 -->\n",
       "<g id=\"node12\" class=\"node\">\n",
       "<title>11</title>\n",
       "<polygon fill=\"#ffffff\" stroke=\"black\" points=\"735.5,-53 625.5,-53 625.5,0 735.5,0 735.5,-53\"/>\n",
       "<text text-anchor=\"middle\" x=\"680.5\" y=\"-37.8\" font-family=\"Helvetica,sans-Serif\" font-size=\"14.00\">samples = 90</text>\n",
       "<text text-anchor=\"middle\" x=\"680.5\" y=\"-22.8\" font-family=\"Helvetica,sans-Serif\" font-size=\"14.00\">value = [45, 45]</text>\n",
       "<text text-anchor=\"middle\" x=\"680.5\" y=\"-7.8\" font-family=\"Helvetica,sans-Serif\" font-size=\"14.00\">class = No</text>\n",
       "</g>\n",
       "<!-- 9&#45;&gt;11 -->\n",
       "<g id=\"edge11\" class=\"edge\">\n",
       "<title>9&#45;&gt;11</title>\n",
       "<path fill=\"none\" stroke=\"black\" d=\"M618.35,-88.68C627.45,-79.72 637.3,-70.03 646.41,-61.06\"/>\n",
       "<polygon fill=\"black\" stroke=\"black\" points=\"648.52,-63.9 653.2,-54.39 643.61,-58.91 648.52,-63.9\"/>\n",
       "</g>\n",
       "<!-- 13 -->\n",
       "<g id=\"node14\" class=\"node\">\n",
       "<title>13</title>\n",
       "<polygon fill=\"#f2c29f\" stroke=\"black\" points=\"863.5,-53 753.5,-53 753.5,0 863.5,0 863.5,-53\"/>\n",
       "<text text-anchor=\"middle\" x=\"808.5\" y=\"-37.8\" font-family=\"Helvetica,sans-Serif\" font-size=\"14.00\">samples = 59</text>\n",
       "<text text-anchor=\"middle\" x=\"808.5\" y=\"-22.8\" font-family=\"Helvetica,sans-Serif\" font-size=\"14.00\">value = [39, 20]</text>\n",
       "<text text-anchor=\"middle\" x=\"808.5\" y=\"-7.8\" font-family=\"Helvetica,sans-Serif\" font-size=\"14.00\">class = No</text>\n",
       "</g>\n",
       "<!-- 12&#45;&gt;13 -->\n",
       "<g id=\"edge13\" class=\"edge\">\n",
       "<title>12&#45;&gt;13</title>\n",
       "<path fill=\"none\" stroke=\"black\" d=\"M808.5,-88.68C808.5,-80.81 808.5,-72.37 808.5,-64.35\"/>\n",
       "<polygon fill=\"black\" stroke=\"black\" points=\"812,-64.39 808.5,-54.39 805,-64.39 812,-64.39\"/>\n",
       "</g>\n",
       "<!-- 14 -->\n",
       "<g id=\"node15\" class=\"node\">\n",
       "<title>14</title>\n",
       "<polygon fill=\"#e99356\" stroke=\"black\" points=\"997.5,-53 881.5,-53 881.5,0 997.5,0 997.5,-53\"/>\n",
       "<text text-anchor=\"middle\" x=\"939.5\" y=\"-37.8\" font-family=\"Helvetica,sans-Serif\" font-size=\"14.00\">samples = 127</text>\n",
       "<text text-anchor=\"middle\" x=\"939.5\" y=\"-22.8\" font-family=\"Helvetica,sans-Serif\" font-size=\"14.00\">value = [111, 16]</text>\n",
       "<text text-anchor=\"middle\" x=\"939.5\" y=\"-7.8\" font-family=\"Helvetica,sans-Serif\" font-size=\"14.00\">class = No</text>\n",
       "</g>\n",
       "<!-- 12&#45;&gt;14 -->\n",
       "<g id=\"edge14\" class=\"edge\">\n",
       "<title>12&#45;&gt;14</title>\n",
       "<path fill=\"none\" stroke=\"black\" d=\"M854.69,-88.68C867.73,-79.27 881.9,-69.05 894.86,-59.7\"/>\n",
       "<polygon fill=\"black\" stroke=\"black\" points=\"896.54,-62.08 902.6,-53.39 892.45,-56.41 896.54,-62.08\"/>\n",
       "</g>\n",
       "</g>\n",
       "</svg>\n"
      ],
      "text/plain": [
       "<graphviz.sources.Source at 0x13f784b80>"
      ]
     },
     "execution_count": 28,
     "metadata": {},
     "output_type": "execute_result"
    }
   ],
   "source": [
    "import graphviz\n",
    "from sklearn.tree import export_graphviz\n",
    "\n",
    "export_graphviz(dt_1, out_file=\"mydt.dot\", class_names=[\"No\", \"Yes\"],\n",
    "                feature_names=X.columns, impurity=False, filled=True)\n",
    "\n",
    "\n",
    "with open(\"mydt.dot\") as f:\n",
    "    dot_graph = f.read()\n",
    "graphviz.Source(dot_graph)"
   ]
  },
  {
   "cell_type": "code",
   "execution_count": 29,
   "id": "2daa0d1a",
   "metadata": {},
   "outputs": [
    {
     "data": {
      "text/html": [
       "<div>\n",
       "<style scoped>\n",
       "    .dataframe tbody tr th:only-of-type {\n",
       "        vertical-align: middle;\n",
       "    }\n",
       "\n",
       "    .dataframe tbody tr th {\n",
       "        vertical-align: top;\n",
       "    }\n",
       "\n",
       "    .dataframe thead th {\n",
       "        text-align: right;\n",
       "    }\n",
       "</style>\n",
       "<table border=\"1\" class=\"dataframe\">\n",
       "  <thead>\n",
       "    <tr style=\"text-align: right;\">\n",
       "      <th></th>\n",
       "      <th>features</th>\n",
       "      <th>feature_importance</th>\n",
       "    </tr>\n",
       "  </thead>\n",
       "  <tbody>\n",
       "    <tr>\n",
       "      <th>5</th>\n",
       "      <td>MonthlyIncome</td>\n",
       "      <td>0.376294</td>\n",
       "    </tr>\n",
       "    <tr>\n",
       "      <th>9</th>\n",
       "      <td>YearsAtCompany</td>\n",
       "      <td>0.112917</td>\n",
       "    </tr>\n",
       "    <tr>\n",
       "      <th>7</th>\n",
       "      <td>TrainingTimesLastYear</td>\n",
       "      <td>0.101319</td>\n",
       "    </tr>\n",
       "    <tr>\n",
       "      <th>1</th>\n",
       "      <td>EnvironmentSatisfaction</td>\n",
       "      <td>0.085280</td>\n",
       "    </tr>\n",
       "    <tr>\n",
       "      <th>6</th>\n",
       "      <td>OverTime</td>\n",
       "      <td>0.074690</td>\n",
       "    </tr>\n",
       "  </tbody>\n",
       "</table>\n",
       "</div>"
      ],
      "text/plain": [
       "                  features  feature_importance\n",
       "5            MonthlyIncome            0.376294\n",
       "9           YearsAtCompany            0.112917\n",
       "7    TrainingTimesLastYear            0.101319\n",
       "1  EnvironmentSatisfaction            0.085280\n",
       "6                 OverTime            0.074690"
      ]
     },
     "execution_count": 29,
     "metadata": {},
     "output_type": "execute_result"
    }
   ],
   "source": [
    "dt_feature_importance = (pd.DataFrame({'features': X.columns, 'feature_importance':dt.feature_importances_})\n",
    "                         .sort_values('feature_importance', ascending=False)[:5])\n",
    "dt_feature_importance"
   ]
  },
  {
   "cell_type": "code",
   "execution_count": 30,
   "id": "1380ecca",
   "metadata": {},
   "outputs": [
    {
     "data": {
      "image/png": "[encoded data removed]",
      "text/plain": [
       "<Figure size 1000x800 with 1 Axes>"
      ]
     },
     "metadata": {},
     "output_type": "display_data"
    }
   ],
   "source": [
    "color = ['#bdc9e1'] * len(dt_feature_importance)\n",
    "color[-1] = '#0570b0' \n",
    "fig, ax = plt.subplots(figsize=(10, 8))\n",
    "ax.barh(dt_feature_importance.features.sort_values(), dt_feature_importance.feature_importance.sort_values(), color=color)\n",
    "for spine in ['right', 'top']:\n",
    "    ax.spines[spine].set_visible(False)\n",
    "plt.show()"
   ]
  },
  {
   "cell_type": "code",
   "execution_count": 31,
   "id": "231347ae",
   "metadata": {},
   "outputs": [],
   "source": [
    "df_accuracy_dt.to_csv(\"contents/modelling/df_accuracy_dt.csv\", index=False)"
   ]
  },
  {
   "cell_type": "code",
   "execution_count": 32,
   "id": "b20fa36d",
   "metadata": {},
   "outputs": [],
   "source": [
    "df_training_dt.to_csv(\"contents/modelling/df_training_dt.csv\", index=False)"
   ]
  },
  {
   "cell_type": "code",
   "execution_count": 33,
   "id": "d3a4c22e",
   "metadata": {},
   "outputs": [],
   "source": [
    "df_test_dt.to_csv(\"contents/modelling/df_test_dt.csv\", index=False)"
   ]
  },
  {
   "cell_type": "markdown",
   "id": "658ae030",
   "metadata": {},
   "source": [
    "# Random Forest"
   ]
  },
  {
   "cell_type": "code",
   "execution_count": 34,
   "id": "285f6189",
   "metadata": {},
   "outputs": [],
   "source": [
    "(X_train, X_test, y_train, y_test) = train_test_split(X, y, random_state=42, test_size=0.30) "
   ]
  },
  {
   "cell_type": "code",
   "execution_count": 35,
   "id": "739a0329",
   "metadata": {},
   "outputs": [
    {
     "name": "stdout",
     "output_type": "stream",
     "text": [
      "Accuracy on training set: 1.000000\n",
      "Accuracy on test set: 0.866213\n",
      "Runtime: 0.08107280731201172\n"
     ]
    }
   ],
   "source": [
    "rf = RandomForestClassifier(random_state=42)\n",
    "start_rf = time.time()\n",
    "rf.fit(X_train, y_train)\n",
    "end_rf = time.time()\n",
    "runtime_rf = end_rf-start_rf\n",
    "\n",
    "basescore_train_rf = rf.score(X_train, y_train)\n",
    "basescore_test_rf = rf.score(X_test, y_test)\n",
    "\n",
    "print(\"Accuracy on training set: %f\" %basescore_train_rf)\n",
    "print(\"Accuracy on test set: %f\" %basescore_test_rf)\n",
    "print('Runtime:', runtime_rf)"
   ]
  },
  {
   "cell_type": "code",
   "execution_count": 36,
   "id": "006719ad",
   "metadata": {},
   "outputs": [
    {
     "data": {
      "application/vnd.jupyter.widget-view+json": {
       "model_id": "07a79f19a8ff4f58b0e82f6dc52ed9c5",
       "version_major": 2,
       "version_minor": 0
      },
      "text/plain": [
       "  0%|          | 0/9 [00:00<?, ?it/s]"
      ]
     },
     "metadata": {},
     "output_type": "display_data"
    },
    {
     "data": {
      "application/vnd.jupyter.widget-view+json": {
       "model_id": "6ae98c0d4f944fb19c6b8da7f6b99752",
       "version_major": 2,
       "version_minor": 0
      },
      "text/plain": [
       "  0%|          | 0/10 [00:00<?, ?it/s]"
      ]
     },
     "metadata": {},
     "output_type": "display_data"
    },
    {
     "data": {
      "application/vnd.jupyter.widget-view+json": {
       "model_id": "8e8a8f9f7b9e4be5bc3321d3f875f6d4",
       "version_major": 2,
       "version_minor": 0
      },
      "text/plain": [
       "  0%|          | 0/10 [00:00<?, ?it/s]"
      ]
     },
     "metadata": {},
     "output_type": "display_data"
    },
    {
     "data": {
      "application/vnd.jupyter.widget-view+json": {
       "model_id": "5c4d82baf958442e8facc7eeebb397b8",
       "version_major": 2,
       "version_minor": 0
      },
      "text/plain": [
       "  0%|          | 0/10 [00:00<?, ?it/s]"
      ]
     },
     "metadata": {},
     "output_type": "display_data"
    },
    {
     "data": {
      "application/vnd.jupyter.widget-view+json": {
       "model_id": "7343bbf6d39e4e64abac71d19f7787c9",
       "version_major": 2,
       "version_minor": 0
      },
      "text/plain": [
       "  0%|          | 0/10 [00:00<?, ?it/s]"
      ]
     },
     "metadata": {},
     "output_type": "display_data"
    },
    {
     "data": {
      "application/vnd.jupyter.widget-view+json": {
       "model_id": "7ec05fad9f434ef19ce80cb6eb059a66",
       "version_major": 2,
       "version_minor": 0
      },
      "text/plain": [
       "  0%|          | 0/10 [00:00<?, ?it/s]"
      ]
     },
     "metadata": {},
     "output_type": "display_data"
    },
    {
     "data": {
      "application/vnd.jupyter.widget-view+json": {
       "model_id": "3c56376052c9404b8409dcb00617bb83",
       "version_major": 2,
       "version_minor": 0
      },
      "text/plain": [
       "  0%|          | 0/10 [00:00<?, ?it/s]"
      ]
     },
     "metadata": {},
     "output_type": "display_data"
    },
    {
     "data": {
      "application/vnd.jupyter.widget-view+json": {
       "model_id": "bfec3b7347e845c7a7e81335249845d8",
       "version_major": 2,
       "version_minor": 0
      },
      "text/plain": [
       "  0%|          | 0/10 [00:00<?, ?it/s]"
      ]
     },
     "metadata": {},
     "output_type": "display_data"
    },
    {
     "data": {
      "application/vnd.jupyter.widget-view+json": {
       "model_id": "16598f091ee94831a63ddefa69c472f6",
       "version_major": 2,
       "version_minor": 0
      },
      "text/plain": [
       "  0%|          | 0/10 [00:00<?, ?it/s]"
      ]
     },
     "metadata": {},
     "output_type": "display_data"
    },
    {
     "data": {
      "application/vnd.jupyter.widget-view+json": {
       "model_id": "86d87226f62147fb98d50fcf2a793934",
       "version_major": 2,
       "version_minor": 0
      },
      "text/plain": [
       "  0%|          | 0/10 [00:00<?, ?it/s]"
      ]
     },
     "metadata": {},
     "output_type": "display_data"
    }
   ],
   "source": [
    "df_training_rf = pd.DataFrame()\n",
    "df_test_rf = pd.DataFrame()\n",
    "seedN_list_rf = range(1, 10, 1)\n",
    "\n",
    "for seedN in tqdm(seedN_list_rf):\n",
    "    X_train, X_test, y_train, y_test = train_test_split(X,y, \n",
    "                                                        test_size=0.30, random_state=seedN)\n",
    "\n",
    "    training_accuracy_rf = []\n",
    "    test_accuracy_rf = []\n",
    "    n_estimators = range(1, 11) \n",
    "    \n",
    "    for n in tqdm(n_estimators):   \n",
    "        rf = RandomForestClassifier(n_estimators=n)  \n",
    "        rf.fit(X_train, y_train)\n",
    "\n",
    "        training_accuracy_rf.append(rf.score(X_train, y_train)) \n",
    "        test_accuracy_rf.append(rf.score(X_test, y_test))   \n",
    "    \n",
    "    df_training_rf[seedN]=training_accuracy_rf\n",
    "    df_test_rf[seedN] = test_accuracy_rf"
   ]
  },
  {
   "cell_type": "code",
   "execution_count": 37,
   "id": "1a56c7ea",
   "metadata": {},
   "outputs": [
    {
     "data": {
      "text/html": [
       "<div>\n",
       "<style scoped>\n",
       "    .dataframe tbody tr th:only-of-type {\n",
       "        vertical-align: middle;\n",
       "    }\n",
       "\n",
       "    .dataframe tbody tr th {\n",
       "        vertical-align: top;\n",
       "    }\n",
       "\n",
       "    .dataframe thead th {\n",
       "        text-align: right;\n",
       "    }\n",
       "</style>\n",
       "<table border=\"1\" class=\"dataframe\">\n",
       "  <thead>\n",
       "    <tr style=\"text-align: right;\">\n",
       "      <th></th>\n",
       "      <th>1</th>\n",
       "      <th>2</th>\n",
       "      <th>3</th>\n",
       "      <th>4</th>\n",
       "      <th>5</th>\n",
       "      <th>6</th>\n",
       "      <th>7</th>\n",
       "      <th>8</th>\n",
       "      <th>9</th>\n",
       "    </tr>\n",
       "  </thead>\n",
       "  <tbody>\n",
       "    <tr>\n",
       "      <th>0</th>\n",
       "      <td>0.743764</td>\n",
       "      <td>0.780045</td>\n",
       "      <td>0.773243</td>\n",
       "      <td>0.775510</td>\n",
       "      <td>0.752834</td>\n",
       "      <td>0.798186</td>\n",
       "      <td>0.791383</td>\n",
       "      <td>0.782313</td>\n",
       "      <td>0.770975</td>\n",
       "    </tr>\n",
       "    <tr>\n",
       "      <th>1</th>\n",
       "      <td>0.816327</td>\n",
       "      <td>0.839002</td>\n",
       "      <td>0.823129</td>\n",
       "      <td>0.834467</td>\n",
       "      <td>0.827664</td>\n",
       "      <td>0.857143</td>\n",
       "      <td>0.816327</td>\n",
       "      <td>0.836735</td>\n",
       "      <td>0.827664</td>\n",
       "    </tr>\n",
       "    <tr>\n",
       "      <th>2</th>\n",
       "      <td>0.782313</td>\n",
       "      <td>0.802721</td>\n",
       "      <td>0.782313</td>\n",
       "      <td>0.823129</td>\n",
       "      <td>0.816327</td>\n",
       "      <td>0.809524</td>\n",
       "      <td>0.814059</td>\n",
       "      <td>0.827664</td>\n",
       "      <td>0.811791</td>\n",
       "    </tr>\n",
       "    <tr>\n",
       "      <th>3</th>\n",
       "      <td>0.845805</td>\n",
       "      <td>0.834467</td>\n",
       "      <td>0.845805</td>\n",
       "      <td>0.852608</td>\n",
       "      <td>0.820862</td>\n",
       "      <td>0.845805</td>\n",
       "      <td>0.850340</td>\n",
       "      <td>0.841270</td>\n",
       "      <td>0.827664</td>\n",
       "    </tr>\n",
       "    <tr>\n",
       "      <th>4</th>\n",
       "      <td>0.814059</td>\n",
       "      <td>0.818594</td>\n",
       "      <td>0.809524</td>\n",
       "      <td>0.845805</td>\n",
       "      <td>0.827664</td>\n",
       "      <td>0.823129</td>\n",
       "      <td>0.798186</td>\n",
       "      <td>0.836735</td>\n",
       "      <td>0.829932</td>\n",
       "    </tr>\n",
       "    <tr>\n",
       "      <th>5</th>\n",
       "      <td>0.823129</td>\n",
       "      <td>0.834467</td>\n",
       "      <td>0.839002</td>\n",
       "      <td>0.836735</td>\n",
       "      <td>0.829932</td>\n",
       "      <td>0.852608</td>\n",
       "      <td>0.823129</td>\n",
       "      <td>0.827664</td>\n",
       "      <td>0.825397</td>\n",
       "    </tr>\n",
       "    <tr>\n",
       "      <th>6</th>\n",
       "      <td>0.809524</td>\n",
       "      <td>0.832200</td>\n",
       "      <td>0.820862</td>\n",
       "      <td>0.839002</td>\n",
       "      <td>0.820862</td>\n",
       "      <td>0.836735</td>\n",
       "      <td>0.827664</td>\n",
       "      <td>0.832200</td>\n",
       "      <td>0.839002</td>\n",
       "    </tr>\n",
       "    <tr>\n",
       "      <th>7</th>\n",
       "      <td>0.836735</td>\n",
       "      <td>0.818594</td>\n",
       "      <td>0.823129</td>\n",
       "      <td>0.852608</td>\n",
       "      <td>0.823129</td>\n",
       "      <td>0.857143</td>\n",
       "      <td>0.834467</td>\n",
       "      <td>0.836735</td>\n",
       "      <td>0.848073</td>\n",
       "    </tr>\n",
       "    <tr>\n",
       "      <th>8</th>\n",
       "      <td>0.832200</td>\n",
       "      <td>0.827664</td>\n",
       "      <td>0.836735</td>\n",
       "      <td>0.829932</td>\n",
       "      <td>0.827664</td>\n",
       "      <td>0.829932</td>\n",
       "      <td>0.848073</td>\n",
       "      <td>0.845805</td>\n",
       "      <td>0.841270</td>\n",
       "    </tr>\n",
       "    <tr>\n",
       "      <th>9</th>\n",
       "      <td>0.841270</td>\n",
       "      <td>0.825397</td>\n",
       "      <td>0.834467</td>\n",
       "      <td>0.848073</td>\n",
       "      <td>0.839002</td>\n",
       "      <td>0.857143</td>\n",
       "      <td>0.834467</td>\n",
       "      <td>0.834467</td>\n",
       "      <td>0.843537</td>\n",
       "    </tr>\n",
       "  </tbody>\n",
       "</table>\n",
       "</div>"
      ],
      "text/plain": [
       "          1         2         3         4         5         6         7  \\\n",
       "0  0.743764  0.780045  0.773243  0.775510  0.752834  0.798186  0.791383   \n",
       "1  0.816327  0.839002  0.823129  0.834467  0.827664  0.857143  0.816327   \n",
       "2  0.782313  0.802721  0.782313  0.823129  0.816327  0.809524  0.814059   \n",
       "3  0.845805  0.834467  0.845805  0.852608  0.820862  0.845805  0.850340   \n",
       "4  0.814059  0.818594  0.809524  0.845805  0.827664  0.823129  0.798186   \n",
       "5  0.823129  0.834467  0.839002  0.836735  0.829932  0.852608  0.823129   \n",
       "6  0.809524  0.832200  0.820862  0.839002  0.820862  0.836735  0.827664   \n",
       "7  0.836735  0.818594  0.823129  0.852608  0.823129  0.857143  0.834467   \n",
       "8  0.832200  0.827664  0.836735  0.829932  0.827664  0.829932  0.848073   \n",
       "9  0.841270  0.825397  0.834467  0.848073  0.839002  0.857143  0.834467   \n",
       "\n",
       "          8         9  \n",
       "0  0.782313  0.770975  \n",
       "1  0.836735  0.827664  \n",
       "2  0.827664  0.811791  \n",
       "3  0.841270  0.827664  \n",
       "4  0.836735  0.829932  \n",
       "5  0.827664  0.825397  \n",
       "6  0.832200  0.839002  \n",
       "7  0.836735  0.848073  \n",
       "8  0.845805  0.841270  \n",
       "9  0.834467  0.843537  "
      ]
     },
     "execution_count": 37,
     "metadata": {},
     "output_type": "execute_result"
    }
   ],
   "source": [
    "df_test_rf"
   ]
  },
  {
   "cell_type": "code",
   "execution_count": 38,
   "id": "bd9ce5bc",
   "metadata": {},
   "outputs": [
    {
     "data": {
      "text/html": [
       "<div>\n",
       "<style scoped>\n",
       "    .dataframe tbody tr th:only-of-type {\n",
       "        vertical-align: middle;\n",
       "    }\n",
       "\n",
       "    .dataframe tbody tr th {\n",
       "        vertical-align: top;\n",
       "    }\n",
       "\n",
       "    .dataframe thead th {\n",
       "        text-align: right;\n",
       "    }\n",
       "</style>\n",
       "<table border=\"1\" class=\"dataframe\">\n",
       "  <thead>\n",
       "    <tr style=\"text-align: right;\">\n",
       "      <th></th>\n",
       "      <th>n_estimators</th>\n",
       "      <th>training_accuracy</th>\n",
       "      <th>test_accuracy</th>\n",
       "    </tr>\n",
       "  </thead>\n",
       "  <tbody>\n",
       "    <tr>\n",
       "      <th>0</th>\n",
       "      <td>1</td>\n",
       "      <td>0.918367</td>\n",
       "      <td>0.774250</td>\n",
       "    </tr>\n",
       "    <tr>\n",
       "      <th>1</th>\n",
       "      <td>2</td>\n",
       "      <td>0.926574</td>\n",
       "      <td>0.830940</td>\n",
       "    </tr>\n",
       "    <tr>\n",
       "      <th>2</th>\n",
       "      <td>3</td>\n",
       "      <td>0.961667</td>\n",
       "      <td>0.807760</td>\n",
       "    </tr>\n",
       "    <tr>\n",
       "      <th>3</th>\n",
       "      <td>4</td>\n",
       "      <td>0.954325</td>\n",
       "      <td>0.840514</td>\n",
       "    </tr>\n",
       "    <tr>\n",
       "      <th>4</th>\n",
       "      <td>5</td>\n",
       "      <td>0.974841</td>\n",
       "      <td>0.822625</td>\n",
       "    </tr>\n",
       "    <tr>\n",
       "      <th>5</th>\n",
       "      <td>6</td>\n",
       "      <td>0.970306</td>\n",
       "      <td>0.832451</td>\n",
       "    </tr>\n",
       "    <tr>\n",
       "      <th>6</th>\n",
       "      <td>7</td>\n",
       "      <td>0.982615</td>\n",
       "      <td>0.828672</td>\n",
       "    </tr>\n",
       "    <tr>\n",
       "      <th>7</th>\n",
       "      <td>8</td>\n",
       "      <td>0.975489</td>\n",
       "      <td>0.836735</td>\n",
       "    </tr>\n",
       "    <tr>\n",
       "      <th>8</th>\n",
       "      <td>9</td>\n",
       "      <td>0.986611</td>\n",
       "      <td>0.835475</td>\n",
       "    </tr>\n",
       "    <tr>\n",
       "      <th>9</th>\n",
       "      <td>10</td>\n",
       "      <td>0.981320</td>\n",
       "      <td>0.839758</td>\n",
       "    </tr>\n",
       "  </tbody>\n",
       "</table>\n",
       "</div>"
      ],
      "text/plain": [
       "   n_estimators  training_accuracy  test_accuracy\n",
       "0             1           0.918367       0.774250\n",
       "1             2           0.926574       0.830940\n",
       "2             3           0.961667       0.807760\n",
       "3             4           0.954325       0.840514\n",
       "4             5           0.974841       0.822625\n",
       "5             6           0.970306       0.832451\n",
       "6             7           0.982615       0.828672\n",
       "7             8           0.975489       0.836735\n",
       "8             9           0.986611       0.835475\n",
       "9            10           0.981320       0.839758"
      ]
     },
     "execution_count": 38,
     "metadata": {},
     "output_type": "execute_result"
    }
   ],
   "source": [
    "df_accuracy_rf = pd.DataFrame({\n",
    "    'n_estimators': n_estimators,\n",
    "    'training_accuracy': df_training_rf.mean(axis=1),\n",
    "    'test_accuracy': df_test_rf.mean(axis=1)\n",
    "})\n",
    "df_accuracy_rf"
   ]
  },
  {
   "cell_type": "code",
   "execution_count": 39,
   "id": "37c2fdd8",
   "metadata": {},
   "outputs": [
    {
     "name": "stdout",
     "output_type": "stream",
     "text": [
      "Test accuracy:  84.05%\n",
      "n_estimators: 4\n"
     ]
    }
   ],
   "source": [
    "df_test_rf_1 = df_accuracy_rf[\"test_accuracy\"]\n",
    "df_test_max_rf = df_test_rf_1.max()\n",
    "df_test_n_rf = df_test_rf_1.idxmax() + 1\n",
    "print(f'Test accuracy: {df_test_max_rf: .2%}')\n",
    "print(f'n_estimators: {df_test_n_rf}')"
   ]
  },
  {
   "cell_type": "code",
   "execution_count": 40,
   "id": "dbae1191",
   "metadata": {},
   "outputs": [
    {
     "name": "stdout",
     "output_type": "stream",
     "text": [
      "Best combination - n_estimator: 4, random_state: 6\n"
     ]
    }
   ],
   "source": [
    "best_n_estimators= n_estimators[np.argmax(np.mean(df_test_rf.values, axis=1))]\n",
    "best_random_state_rf = seedN_list_rf[np.argmax(np.mean(df_test_rf.values, axis=0))]\n",
    "print(\"Best combination - n_estimator: {}, random_state: {}\".format(best_n_estimators, best_random_state_rf))"
   ]
  },
  {
   "cell_type": "code",
   "execution_count": 41,
   "id": "94e25e89",
   "metadata": {},
   "outputs": [
    {
     "name": "stdout",
     "output_type": "stream",
     "text": [
      "Highest Average Test Set Achieved = 0.840514\n",
      "Best n_estimators Parameters = 4\n"
     ]
    },
    {
     "data": {
      "image/png": "[encoded data removed]",
      "text/plain": [
       "<Figure size 1500x600 with 1 Axes>"
      ]
     },
     "metadata": {},
     "output_type": "display_data"
    }
   ],
   "source": [
    "fig = plt.figure(figsize=(15, 6))\n",
    "plt.errorbar(n_estimators, df_training_rf.mean(axis=1),\n",
    "             yerr=df_training_rf.std(axis=1)/2, label=\"training accuracy\")\n",
    "plt.errorbar(n_estimators, df_test_rf.mean(axis=1),\n",
    "             yerr=df_test_rf.std(axis=1)/2, label=\"test accuracy\")\n",
    "plt.ylabel(\"Accuracy\")\n",
    "plt.xlabel(\"n_estimators\")\n",
    "plt.legend()\n",
    "bestestimator=np.argmax(df_test_rf.mean(axis=1))+1\n",
    "print(\"Highest Average Test Set Achieved = %f\" % np.amax(df_test_rf.mean(axis=1)))\n",
    "print(\"Best n_estimators Parameters = %d\" %bestestimator )"
   ]
  },
  {
   "cell_type": "code",
   "execution_count": 42,
   "id": "0826d755",
   "metadata": {},
   "outputs": [
    {
     "name": "stdout",
     "output_type": "stream",
     "text": [
      "Accuracy on training set: 0.981535\n",
      "Accuracy on test set: 0.832200\n",
      "Runtime: 0.010690689086914062\n"
     ]
    }
   ],
   "source": [
    "(X_train, X_test, y_train, y_test) = train_test_split(X, \n",
    "                                                      y, \n",
    "                                                      random_state=6, \n",
    "                                                      test_size=0.30) \n",
    "\n",
    "rf_1 = RandomForestClassifier(n_estimators=10, random_state=6)\n",
    "start_rf_1 = time.time()\n",
    "rf_1.fit(X_train, y_train)\n",
    "end_rf_1 = time.time()\n",
    "runtime_rf_1 = end_rf_1-start_rf_1\n",
    "\n",
    "bestscore_train_rf = rf_1.score(X_train, y_train)\n",
    "bestscore_test_rf = rf_1.score(X_test, y_test)\n",
    "\n",
    "print(\"Accuracy on training set: %f\" %bestscore_train_rf)\n",
    "print(\"Accuracy on test set: %f\" %bestscore_test_rf)\n",
    "print('Runtime:', runtime_rf_1)"
   ]
  },
  {
   "cell_type": "code",
   "execution_count": 43,
   "id": "c4ee7fb3",
   "metadata": {},
   "outputs": [],
   "source": [
    "df_accuracy_rf.to_csv(\"contents/modelling/df_accuracy_rf.csv\", index=False)"
   ]
  },
  {
   "cell_type": "code",
   "execution_count": 44,
   "id": "4fb68d79",
   "metadata": {},
   "outputs": [],
   "source": [
    "df_training_rf.to_csv(\"contents/modelling/df_training_rf.csv\", index=False)"
   ]
  },
  {
   "cell_type": "code",
   "execution_count": 45,
   "id": "9f4a0f06",
   "metadata": {},
   "outputs": [],
   "source": [
    "df_test_rf.to_csv(\"contents/modelling/df_test_rf.csv\", index=False)"
   ]
  },
  {
   "cell_type": "markdown",
   "id": "f5aed837",
   "metadata": {},
   "source": [
    "# Gradient Boosting"
   ]
  },
  {
   "cell_type": "code",
   "execution_count": 46,
   "id": "56f3252b",
   "metadata": {},
   "outputs": [],
   "source": [
    "(X_train, X_test, y_train, y_test) = train_test_split(X, y, random_state=42, test_size=0.30) "
   ]
  },
  {
   "cell_type": "code",
   "execution_count": 47,
   "id": "e3c651f2",
   "metadata": {},
   "outputs": [
    {
     "name": "stdout",
     "output_type": "stream",
     "text": [
      "Accuracy on training set: 0.911565\n",
      "Accuracy on test set: 0.868481\n",
      "Runtime: 0.07188892364501953\n"
     ]
    }
   ],
   "source": [
    "gbm = GradientBoostingClassifier(random_state=42)\n",
    "start_gbm = time.time()\n",
    "gbm.fit(X_train, y_train)\n",
    "end_gbm = time.time()\n",
    "runtime_gbm = end_gbm - start_gbm\n",
    "\n",
    "basescore_train_gbm = gbm.score(X_train, y_train)\n",
    "basescore_test_gbm = gbm.score(X_test, y_test)\n",
    "\n",
    "print(\"Accuracy on training set: %f\" %basescore_train_gbm)\n",
    "print(\"Accuracy on test set: %f\" %basescore_test_gbm)\n",
    "print('Runtime:', runtime_gbm)"
   ]
  },
  {
   "cell_type": "code",
   "execution_count": 48,
   "id": "f3ee0657",
   "metadata": {},
   "outputs": [
    {
     "data": {
      "application/vnd.jupyter.widget-view+json": {
       "model_id": "bab95310e3ed40fe9f2c2679b52cf930",
       "version_major": 2,
       "version_minor": 0
      },
      "text/plain": [
       "  0%|          | 0/9 [00:00<?, ?it/s]"
      ]
     },
     "metadata": {},
     "output_type": "display_data"
    },
    {
     "data": {
      "application/vnd.jupyter.widget-view+json": {
       "model_id": "ff4ef65e10e64a54bb2b108d56f146c9",
       "version_major": 2,
       "version_minor": 0
      },
      "text/plain": [
       "  0%|          | 0/7 [00:00<?, ?it/s]"
      ]
     },
     "metadata": {},
     "output_type": "display_data"
    },
    {
     "data": {
      "application/vnd.jupyter.widget-view+json": {
       "model_id": "22a9cb3df6f24af389653d59d176d446",
       "version_major": 2,
       "version_minor": 0
      },
      "text/plain": [
       "  0%|          | 0/7 [00:00<?, ?it/s]"
      ]
     },
     "metadata": {},
     "output_type": "display_data"
    },
    {
     "data": {
      "application/vnd.jupyter.widget-view+json": {
       "model_id": "55006a3c7f3047cb9c6dc22049dfe162",
       "version_major": 2,
       "version_minor": 0
      },
      "text/plain": [
       "  0%|          | 0/7 [00:00<?, ?it/s]"
      ]
     },
     "metadata": {},
     "output_type": "display_data"
    },
    {
     "data": {
      "application/vnd.jupyter.widget-view+json": {
       "model_id": "ea23bacc309a4ce08d2aaec480bf27b6",
       "version_major": 2,
       "version_minor": 0
      },
      "text/plain": [
       "  0%|          | 0/7 [00:00<?, ?it/s]"
      ]
     },
     "metadata": {},
     "output_type": "display_data"
    },
    {
     "data": {
      "application/vnd.jupyter.widget-view+json": {
       "model_id": "2ab5beda233841989e0a5aca0e5f6c40",
       "version_major": 2,
       "version_minor": 0
      },
      "text/plain": [
       "  0%|          | 0/7 [00:00<?, ?it/s]"
      ]
     },
     "metadata": {},
     "output_type": "display_data"
    },
    {
     "data": {
      "application/vnd.jupyter.widget-view+json": {
       "model_id": "05f78adc31f347bd8c5f703ae2ab3df9",
       "version_major": 2,
       "version_minor": 0
      },
      "text/plain": [
       "  0%|          | 0/7 [00:00<?, ?it/s]"
      ]
     },
     "metadata": {},
     "output_type": "display_data"
    },
    {
     "data": {
      "application/vnd.jupyter.widget-view+json": {
       "model_id": "362aef59bda8480b8076cfea06a2bb34",
       "version_major": 2,
       "version_minor": 0
      },
      "text/plain": [
       "  0%|          | 0/7 [00:00<?, ?it/s]"
      ]
     },
     "metadata": {},
     "output_type": "display_data"
    },
    {
     "data": {
      "application/vnd.jupyter.widget-view+json": {
       "model_id": "79048c8fe9754d19bb23437db4599e3a",
       "version_major": 2,
       "version_minor": 0
      },
      "text/plain": [
       "  0%|          | 0/7 [00:00<?, ?it/s]"
      ]
     },
     "metadata": {},
     "output_type": "display_data"
    },
    {
     "data": {
      "application/vnd.jupyter.widget-view+json": {
       "model_id": "5b6ef6fd152a4bfcac201f68d8908b5f",
       "version_major": 2,
       "version_minor": 0
      },
      "text/plain": [
       "  0%|          | 0/7 [00:00<?, ?it/s]"
      ]
     },
     "metadata": {},
     "output_type": "display_data"
    }
   ],
   "source": [
    "df_training_gbm = pd.DataFrame()\n",
    "df_test_gbm = pd.DataFrame()\n",
    "seedN_list_gbm = range(1, 10, 1)\n",
    "\n",
    "for seedN in tqdm(seedN_list_gbm):\n",
    "    X_train, X_test, y_train, y_test = train_test_split(X,y, \n",
    "                                                        test_size=0.30, random_state=seedN)\n",
    "\n",
    "    training_accuracy_gbm = []\n",
    "    test_accuracy_gbm = []\n",
    "    learning_rate = [0.1, 0.01, 0.001, 0.0001, 0.5, 0.05, 0.005] \n",
    "\n",
    "    for n in tqdm(learning_rate):   \n",
    "        gbm = GradientBoostingClassifier(learning_rate=n)  \n",
    "        gbm.fit(X_train, y_train)\n",
    "\n",
    "        training_accuracy_gbm.append(gbm.score(X_train, y_train)) \n",
    "        test_accuracy_gbm.append(gbm.score(X_test, y_test))   \n",
    "    \n",
    "    df_training_gbm[seedN]=training_accuracy_gbm\n",
    "    df_test_gbm[seedN] = test_accuracy_gbm"
   ]
  },
  {
   "cell_type": "code",
   "execution_count": 49,
   "id": "9b036595",
   "metadata": {},
   "outputs": [
    {
     "data": {
      "text/html": [
       "<div>\n",
       "<style scoped>\n",
       "    .dataframe tbody tr th:only-of-type {\n",
       "        vertical-align: middle;\n",
       "    }\n",
       "\n",
       "    .dataframe tbody tr th {\n",
       "        vertical-align: top;\n",
       "    }\n",
       "\n",
       "    .dataframe thead th {\n",
       "        text-align: right;\n",
       "    }\n",
       "</style>\n",
       "<table border=\"1\" class=\"dataframe\">\n",
       "  <thead>\n",
       "    <tr style=\"text-align: right;\">\n",
       "      <th></th>\n",
       "      <th>1</th>\n",
       "      <th>2</th>\n",
       "      <th>3</th>\n",
       "      <th>4</th>\n",
       "      <th>5</th>\n",
       "      <th>6</th>\n",
       "      <th>7</th>\n",
       "      <th>8</th>\n",
       "      <th>9</th>\n",
       "    </tr>\n",
       "  </thead>\n",
       "  <tbody>\n",
       "    <tr>\n",
       "      <th>0</th>\n",
       "      <td>0.845805</td>\n",
       "      <td>0.857143</td>\n",
       "      <td>0.841270</td>\n",
       "      <td>0.850340</td>\n",
       "      <td>0.859410</td>\n",
       "      <td>0.852608</td>\n",
       "      <td>0.839002</td>\n",
       "      <td>0.841270</td>\n",
       "      <td>0.850340</td>\n",
       "    </tr>\n",
       "    <tr>\n",
       "      <th>1</th>\n",
       "      <td>0.829932</td>\n",
       "      <td>0.852608</td>\n",
       "      <td>0.832200</td>\n",
       "      <td>0.848073</td>\n",
       "      <td>0.827664</td>\n",
       "      <td>0.857143</td>\n",
       "      <td>0.839002</td>\n",
       "      <td>0.848073</td>\n",
       "      <td>0.834467</td>\n",
       "    </tr>\n",
       "    <tr>\n",
       "      <th>2</th>\n",
       "      <td>0.825397</td>\n",
       "      <td>0.839002</td>\n",
       "      <td>0.829932</td>\n",
       "      <td>0.836735</td>\n",
       "      <td>0.827664</td>\n",
       "      <td>0.845805</td>\n",
       "      <td>0.841270</td>\n",
       "      <td>0.841270</td>\n",
       "      <td>0.829932</td>\n",
       "    </tr>\n",
       "    <tr>\n",
       "      <th>3</th>\n",
       "      <td>0.825397</td>\n",
       "      <td>0.839002</td>\n",
       "      <td>0.829932</td>\n",
       "      <td>0.836735</td>\n",
       "      <td>0.827664</td>\n",
       "      <td>0.845805</td>\n",
       "      <td>0.841270</td>\n",
       "      <td>0.841270</td>\n",
       "      <td>0.829932</td>\n",
       "    </tr>\n",
       "    <tr>\n",
       "      <th>4</th>\n",
       "      <td>0.811791</td>\n",
       "      <td>0.825397</td>\n",
       "      <td>0.825397</td>\n",
       "      <td>0.823129</td>\n",
       "      <td>0.802721</td>\n",
       "      <td>0.850340</td>\n",
       "      <td>0.825397</td>\n",
       "      <td>0.832200</td>\n",
       "      <td>0.839002</td>\n",
       "    </tr>\n",
       "    <tr>\n",
       "      <th>5</th>\n",
       "      <td>0.832200</td>\n",
       "      <td>0.854875</td>\n",
       "      <td>0.841270</td>\n",
       "      <td>0.857143</td>\n",
       "      <td>0.852608</td>\n",
       "      <td>0.859410</td>\n",
       "      <td>0.845805</td>\n",
       "      <td>0.850340</td>\n",
       "      <td>0.848073</td>\n",
       "    </tr>\n",
       "    <tr>\n",
       "      <th>6</th>\n",
       "      <td>0.825397</td>\n",
       "      <td>0.839002</td>\n",
       "      <td>0.829932</td>\n",
       "      <td>0.836735</td>\n",
       "      <td>0.827664</td>\n",
       "      <td>0.845805</td>\n",
       "      <td>0.841270</td>\n",
       "      <td>0.841270</td>\n",
       "      <td>0.829932</td>\n",
       "    </tr>\n",
       "  </tbody>\n",
       "</table>\n",
       "</div>"
      ],
      "text/plain": [
       "          1         2         3         4         5         6         7  \\\n",
       "0  0.845805  0.857143  0.841270  0.850340  0.859410  0.852608  0.839002   \n",
       "1  0.829932  0.852608  0.832200  0.848073  0.827664  0.857143  0.839002   \n",
       "2  0.825397  0.839002  0.829932  0.836735  0.827664  0.845805  0.841270   \n",
       "3  0.825397  0.839002  0.829932  0.836735  0.827664  0.845805  0.841270   \n",
       "4  0.811791  0.825397  0.825397  0.823129  0.802721  0.850340  0.825397   \n",
       "5  0.832200  0.854875  0.841270  0.857143  0.852608  0.859410  0.845805   \n",
       "6  0.825397  0.839002  0.829932  0.836735  0.827664  0.845805  0.841270   \n",
       "\n",
       "          8         9  \n",
       "0  0.841270  0.850340  \n",
       "1  0.848073  0.834467  \n",
       "2  0.841270  0.829932  \n",
       "3  0.841270  0.829932  \n",
       "4  0.832200  0.839002  \n",
       "5  0.850340  0.848073  \n",
       "6  0.841270  0.829932  "
      ]
     },
     "execution_count": 49,
     "metadata": {},
     "output_type": "execute_result"
    }
   ],
   "source": [
    "df_test_gbm"
   ]
  },
  {
   "cell_type": "code",
   "execution_count": 50,
   "id": "d8824922",
   "metadata": {},
   "outputs": [
    {
     "data": {
      "text/html": [
       "<div>\n",
       "<style scoped>\n",
       "    .dataframe tbody tr th:only-of-type {\n",
       "        vertical-align: middle;\n",
       "    }\n",
       "\n",
       "    .dataframe tbody tr th {\n",
       "        vertical-align: top;\n",
       "    }\n",
       "\n",
       "    .dataframe thead th {\n",
       "        text-align: right;\n",
       "    }\n",
       "</style>\n",
       "<table border=\"1\" class=\"dataframe\">\n",
       "  <thead>\n",
       "    <tr style=\"text-align: right;\">\n",
       "      <th></th>\n",
       "      <th>learning_rate</th>\n",
       "      <th>training_accuracy</th>\n",
       "      <th>test_accuracy</th>\n",
       "    </tr>\n",
       "  </thead>\n",
       "  <tbody>\n",
       "    <tr>\n",
       "      <th>0</th>\n",
       "      <td>0.1000</td>\n",
       "      <td>0.915452</td>\n",
       "      <td>0.848576</td>\n",
       "    </tr>\n",
       "    <tr>\n",
       "      <th>1</th>\n",
       "      <td>0.0100</td>\n",
       "      <td>0.854551</td>\n",
       "      <td>0.841018</td>\n",
       "    </tr>\n",
       "    <tr>\n",
       "      <th>2</th>\n",
       "      <td>0.0010</td>\n",
       "      <td>0.840298</td>\n",
       "      <td>0.835223</td>\n",
       "    </tr>\n",
       "    <tr>\n",
       "      <th>3</th>\n",
       "      <td>0.0001</td>\n",
       "      <td>0.840298</td>\n",
       "      <td>0.835223</td>\n",
       "    </tr>\n",
       "    <tr>\n",
       "      <th>4</th>\n",
       "      <td>0.5000</td>\n",
       "      <td>0.997624</td>\n",
       "      <td>0.826153</td>\n",
       "    </tr>\n",
       "    <tr>\n",
       "      <th>5</th>\n",
       "      <td>0.0500</td>\n",
       "      <td>0.895044</td>\n",
       "      <td>0.849080</td>\n",
       "    </tr>\n",
       "    <tr>\n",
       "      <th>6</th>\n",
       "      <td>0.0050</td>\n",
       "      <td>0.840298</td>\n",
       "      <td>0.835223</td>\n",
       "    </tr>\n",
       "  </tbody>\n",
       "</table>\n",
       "</div>"
      ],
      "text/plain": [
       "   learning_rate  training_accuracy  test_accuracy\n",
       "0         0.1000           0.915452       0.848576\n",
       "1         0.0100           0.854551       0.841018\n",
       "2         0.0010           0.840298       0.835223\n",
       "3         0.0001           0.840298       0.835223\n",
       "4         0.5000           0.997624       0.826153\n",
       "5         0.0500           0.895044       0.849080\n",
       "6         0.0050           0.840298       0.835223"
      ]
     },
     "execution_count": 50,
     "metadata": {},
     "output_type": "execute_result"
    }
   ],
   "source": [
    "df_accuracy_gbm = pd.DataFrame({\n",
    "    'learning_rate': learning_rate,\n",
    "    'training_accuracy': df_training_gbm.mean(axis=1),\n",
    "    'test_accuracy': df_test_gbm.mean(axis=1)\n",
    "})\n",
    "df_accuracy_gbm"
   ]
  },
  {
   "cell_type": "code",
   "execution_count": 51,
   "id": "dec5daa1",
   "metadata": {},
   "outputs": [
    {
     "name": "stdout",
     "output_type": "stream",
     "text": [
      "Test accuracy:  84.91%\n",
      "learning_rate: 6\n"
     ]
    }
   ],
   "source": [
    "df_test_gbm_1 = df_accuracy_gbm[\"test_accuracy\"]\n",
    "df_test_max_gbm = df_test_gbm_1.max()\n",
    "df_test_n_gbm = df_test_gbm_1.idxmax() + 1\n",
    "print(f'Test accuracy: {df_test_max_gbm: .2%}')\n",
    "print(f'learning_rate: {df_test_n_gbm}')"
   ]
  },
  {
   "cell_type": "code",
   "execution_count": 52,
   "id": "1450456b",
   "metadata": {},
   "outputs": [
    {
     "name": "stdout",
     "output_type": "stream",
     "text": [
      "Best combination - learning rate: 0.05, random_state: 6\n"
     ]
    }
   ],
   "source": [
    "best_learning_rate = learning_rate[np.argmax(np.mean(df_test_gbm.values, axis=1))]\n",
    "best_random_state_gbm = seedN_list_gbm[np.argmax(np.mean(df_test_gbm.values, axis=0))]\n",
    "print(\"Best combination - learning rate: {}, random_state: {}\".format(best_learning_rate, best_random_state_gbm))"
   ]
  },
  {
   "cell_type": "code",
   "execution_count": 53,
   "id": "fb1d750c",
   "metadata": {},
   "outputs": [
    {
     "name": "stdout",
     "output_type": "stream",
     "text": [
      "Highest Average Test Set Achieved = 0.849080\n",
      "Best lr Parameters = 6\n"
     ]
    },
    {
     "data": {
      "image/png": "[encoded data removed]",
      "text/plain": [
       "<Figure size 1500x600 with 1 Axes>"
      ]
     },
     "metadata": {},
     "output_type": "display_data"
    }
   ],
   "source": [
    "fig = plt.figure(figsize=(15, 6))\n",
    "plt.errorbar(learning_rate, df_training_gbm.mean(axis=1),\n",
    "             yerr=df_training_gbm.std(axis=1)/2, label=\"training accuracy\")\n",
    "plt.errorbar(learning_rate, df_test_gbm.mean(axis=1),\n",
    "             yerr=df_test_gbm.std(axis=1)/2, label=\"test accuracy\")\n",
    "plt.ylabel(\"Accuracy\")\n",
    "plt.xlabel(\"learning_rate\")\n",
    "plt.legend()\n",
    "besteslr=np.argmax(df_test_gbm.mean(axis=1))+1\n",
    "print(\"Highest Average Test Set Achieved = %f\" % np.amax(df_test_gbm.mean(axis=1)))\n",
    "print(\"Best lr Parameters = %d\" %besteslr )"
   ]
  },
  {
   "cell_type": "code",
   "execution_count": 54,
   "id": "43bcda27",
   "metadata": {},
   "outputs": [
    {
     "name": "stdout",
     "output_type": "stream",
     "text": [
      "Accuracy on training set: 0.887269\n",
      "Accuracy on test set: 0.859410\n",
      "Runtime: 0.07339024543762207\n"
     ]
    }
   ],
   "source": [
    "(X_train, X_test, y_train, y_test) = train_test_split(X, \n",
    "                                                      y, \n",
    "                                                      random_state=6, \n",
    "                                                      test_size=0.30) \n",
    "\n",
    "gbm_1 = GradientBoostingClassifier(learning_rate=0.05, random_state=6)\n",
    "start_gbm_1 = time.time()\n",
    "gbm_1.fit(X_train, y_train)\n",
    "end_gbm_1 = time.time()\n",
    "runtime_gbm_1 = end_gbm_1 - start_gbm_1\n",
    "\n",
    "bestscore_train_gbm = gbm_1.score(X_train, y_train)\n",
    "bestscore_test_gbm = gbm_1.score(X_test, y_test)\n",
    "\n",
    "print(\"Accuracy on training set: %f\" %bestscore_train_gbm)\n",
    "print(\"Accuracy on test set: %f\" %bestscore_test_gbm)\n",
    "print('Runtime:', runtime_gbm_1)"
   ]
  },
  {
   "cell_type": "code",
   "execution_count": 55,
   "id": "df9d2da9",
   "metadata": {},
   "outputs": [],
   "source": [
    "df_accuracy_gbm.to_csv(\"contents/modelling/df_accuracy_gbm.csv\", index=False)"
   ]
  },
  {
   "cell_type": "code",
   "execution_count": 56,
   "id": "9e14d1f7",
   "metadata": {},
   "outputs": [],
   "source": [
    "df_training_gbm.to_csv(\"contents/modelling/df_training_gbm.csv\", index=False)"
   ]
  },
  {
   "cell_type": "code",
   "execution_count": 57,
   "id": "271dd1c9",
   "metadata": {},
   "outputs": [],
   "source": [
    "df_test_gbm.to_csv(\"contents/modelling/df_test_gbm.csv\", index=False)"
   ]
  },
  {
   "cell_type": "markdown",
   "id": "f9f1b18d",
   "metadata": {},
   "source": [
    "# KNN"
   ]
  },
  {
   "cell_type": "code",
   "execution_count": 58,
   "id": "35a33c66",
   "metadata": {},
   "outputs": [],
   "source": [
    "(X_train, X_test, y_train, y_test) = train_test_split(X, y, random_state=42, test_size=0.30) "
   ]
  },
  {
   "cell_type": "code",
   "execution_count": 59,
   "id": "1ea269dd",
   "metadata": {},
   "outputs": [
    {
     "name": "stdout",
     "output_type": "stream",
     "text": [
      "Train Accuracy 0.8503401360544217\n",
      "Test Accuracy 0.8231292517006803\n",
      "Runtime: 0.0016760826110839844\n"
     ]
    }
   ],
   "source": [
    "knn = KNeighborsClassifier() \n",
    "start_knn = time.time()\n",
    "knn.fit(X_train, y_train)\n",
    "end_knn = time.time()\n",
    "runtime_knn = end_knn - start_knn\n",
    "\n",
    "basescore_train_knn = knn.score(X_train, y_train)\n",
    "basescore_test_knn = knn.score(X_test, y_test)\n",
    "\n",
    "print('Train Accuracy', basescore_train_knn)\n",
    "print('Test Accuracy', basescore_test_knn)   \n",
    "print('Runtime:', runtime_knn)"
   ]
  },
  {
   "cell_type": "code",
   "execution_count": 60,
   "id": "39cd107f",
   "metadata": {},
   "outputs": [
    {
     "data": {
      "application/vnd.jupyter.widget-view+json": {
       "model_id": "38c559f62f4d4ba9a55fb8ddd43e3b15",
       "version_major": 2,
       "version_minor": 0
      },
      "text/plain": [
       "  0%|          | 0/9 [00:00<?, ?it/s]"
      ]
     },
     "metadata": {},
     "output_type": "display_data"
    },
    {
     "data": {
      "application/vnd.jupyter.widget-view+json": {
       "model_id": "6d839426dde84eae88c9f267b481146a",
       "version_major": 2,
       "version_minor": 0
      },
      "text/plain": [
       "  0%|          | 0/3 [00:00<?, ?it/s]"
      ]
     },
     "metadata": {},
     "output_type": "display_data"
    },
    {
     "data": {
      "application/vnd.jupyter.widget-view+json": {
       "model_id": "7aebc8fbad8f48049daaa19e752c4e1a",
       "version_major": 2,
       "version_minor": 0
      },
      "text/plain": [
       "  0%|          | 0/3 [00:00<?, ?it/s]"
      ]
     },
     "metadata": {},
     "output_type": "display_data"
    },
    {
     "data": {
      "application/vnd.jupyter.widget-view+json": {
       "model_id": "a806f9cd01514391bdc49f95cda746ff",
       "version_major": 2,
       "version_minor": 0
      },
      "text/plain": [
       "  0%|          | 0/3 [00:00<?, ?it/s]"
      ]
     },
     "metadata": {},
     "output_type": "display_data"
    },
    {
     "data": {
      "application/vnd.jupyter.widget-view+json": {
       "model_id": "ec28920feebf4e1da571fa5bc3b4270c",
       "version_major": 2,
       "version_minor": 0
      },
      "text/plain": [
       "  0%|          | 0/3 [00:00<?, ?it/s]"
      ]
     },
     "metadata": {},
     "output_type": "display_data"
    },
    {
     "data": {
      "application/vnd.jupyter.widget-view+json": {
       "model_id": "493162b945c3417891f4804a4ea1aca3",
       "version_major": 2,
       "version_minor": 0
      },
      "text/plain": [
       "  0%|          | 0/3 [00:00<?, ?it/s]"
      ]
     },
     "metadata": {},
     "output_type": "display_data"
    },
    {
     "data": {
      "application/vnd.jupyter.widget-view+json": {
       "model_id": "6e63b8fd96014d41b4d21a384362e71b",
       "version_major": 2,
       "version_minor": 0
      },
      "text/plain": [
       "  0%|          | 0/3 [00:00<?, ?it/s]"
      ]
     },
     "metadata": {},
     "output_type": "display_data"
    },
    {
     "data": {
      "application/vnd.jupyter.widget-view+json": {
       "model_id": "260c3bc7ebcf4543877081dbab5b7736",
       "version_major": 2,
       "version_minor": 0
      },
      "text/plain": [
       "  0%|          | 0/3 [00:00<?, ?it/s]"
      ]
     },
     "metadata": {},
     "output_type": "display_data"
    },
    {
     "data": {
      "application/vnd.jupyter.widget-view+json": {
       "model_id": "83eaf332803649f5b5dcd4058049fe74",
       "version_major": 2,
       "version_minor": 0
      },
      "text/plain": [
       "  0%|          | 0/3 [00:00<?, ?it/s]"
      ]
     },
     "metadata": {},
     "output_type": "display_data"
    },
    {
     "data": {
      "application/vnd.jupyter.widget-view+json": {
       "model_id": "aa10f261930a4743b6b4ae7d73cc3e3e",
       "version_major": 2,
       "version_minor": 0
      },
      "text/plain": [
       "  0%|          | 0/3 [00:00<?, ?it/s]"
      ]
     },
     "metadata": {},
     "output_type": "display_data"
    }
   ],
   "source": [
    "df_training_knn = pd.DataFrame()\n",
    "df_test_knn = pd.DataFrame()\n",
    "seedN_list_knn = range(1, 10, 1)\n",
    "\n",
    "for seedN in tqdm(seedN_list_knn):\n",
    "    X_train, X_test, y_train, y_test = train_test_split(X, y, \n",
    "                                                        test_size=0.30, random_state=seedN)\n",
    "\n",
    "    training_accuracy_knn = []\n",
    "    test_accuracy_knn = []\n",
    "    n_neighbors = [3, 5, 7] # different values for n_neighbors\n",
    "\n",
    "    for k in tqdm(n_neighbors):   \n",
    "        knn = KNeighborsClassifier(n_neighbors=k)  # build the model\n",
    "        knn.fit(X_train, y_train)\n",
    "\n",
    "        training_accuracy_knn.append(knn.score(X_train, y_train)) # record training set accuracy\n",
    "        test_accuracy_knn.append(knn.score(X_test, y_test))   # record generalization accuracy\n",
    "    \n",
    "    df_training_knn[seedN]=training_accuracy_knn\n",
    "    df_test_knn[seedN] = test_accuracy_knn"
   ]
  },
  {
   "cell_type": "code",
   "execution_count": 61,
   "id": "605437c0",
   "metadata": {},
   "outputs": [
    {
     "name": "stdout",
     "output_type": "stream",
     "text": [
      "Test set accuracy: 0.82\n"
     ]
    },
    {
     "data": {
      "image/png": "[encoded data removed]",
      "text/plain": [
       "<Figure size 640x480 with 1 Axes>"
      ]
     },
     "metadata": {},
     "output_type": "display_data"
    }
   ],
   "source": [
    "plt.plot(n_neighbors, df_training_knn.mean(axis=1), label=\"training accuracy\", color='blue', marker='o', linestyle='dashed')\n",
    "plt.plot(n_neighbors, df_test_knn.mean(axis=1), label=\"test accuracy\",color='red', marker='^', linestyle='-')\n",
    "plt.ylabel(\"Accuracy\", fontsize=15)\n",
    "plt.xlabel(\"n_neighbors\",fontsize=15)\n",
    "plt.legend()\n",
    "print(\"Test set accuracy: {:.2f}\".format(knn.score(X_test, y_test)))"
   ]
  },
  {
   "cell_type": "code",
   "execution_count": 62,
   "id": "c9a7a5b4",
   "metadata": {},
   "outputs": [
    {
     "data": {
      "text/html": [
       "<div>\n",
       "<style scoped>\n",
       "    .dataframe tbody tr th:only-of-type {\n",
       "        vertical-align: middle;\n",
       "    }\n",
       "\n",
       "    .dataframe tbody tr th {\n",
       "        vertical-align: top;\n",
       "    }\n",
       "\n",
       "    .dataframe thead th {\n",
       "        text-align: right;\n",
       "    }\n",
       "</style>\n",
       "<table border=\"1\" class=\"dataframe\">\n",
       "  <thead>\n",
       "    <tr style=\"text-align: right;\">\n",
       "      <th></th>\n",
       "      <th>n_neighbors</th>\n",
       "      <th>training_accuracy</th>\n",
       "      <th>test_accuracy</th>\n",
       "    </tr>\n",
       "  </thead>\n",
       "  <tbody>\n",
       "    <tr>\n",
       "      <th>0</th>\n",
       "      <td>3</td>\n",
       "      <td>0.872476</td>\n",
       "      <td>0.788864</td>\n",
       "    </tr>\n",
       "    <tr>\n",
       "      <th>1</th>\n",
       "      <td>5</td>\n",
       "      <td>0.852716</td>\n",
       "      <td>0.813303</td>\n",
       "    </tr>\n",
       "    <tr>\n",
       "      <th>2</th>\n",
       "      <td>7</td>\n",
       "      <td>0.844725</td>\n",
       "      <td>0.818342</td>\n",
       "    </tr>\n",
       "  </tbody>\n",
       "</table>\n",
       "</div>"
      ],
      "text/plain": [
       "   n_neighbors  training_accuracy  test_accuracy\n",
       "0            3           0.872476       0.788864\n",
       "1            5           0.852716       0.813303\n",
       "2            7           0.844725       0.818342"
      ]
     },
     "execution_count": 62,
     "metadata": {},
     "output_type": "execute_result"
    }
   ],
   "source": [
    "df_accuracy_knn = pd.DataFrame({\n",
    "    'n_neighbors': n_neighbors,\n",
    "    'training_accuracy': df_training_knn.mean(axis=1),\n",
    "    'test_accuracy': df_test_knn.mean(axis=1)\n",
    "})\n",
    "df_accuracy_knn"
   ]
  },
  {
   "cell_type": "code",
   "execution_count": 63,
   "id": "cf915eb2",
   "metadata": {},
   "outputs": [
    {
     "name": "stdout",
     "output_type": "stream",
     "text": [
      "Test accuracy:  81.83%\n",
      "n_neighbor: 3\n"
     ]
    }
   ],
   "source": [
    "df_test_knn_1 = df_accuracy_knn[\"test_accuracy\"]\n",
    "df_test_max_knn = df_test_knn_1.max()\n",
    "df_test_n_knn = df_test_knn_1.idxmax() + 1\n",
    "print(f'Test accuracy: {df_test_max_knn: .2%}')\n",
    "print(f'n_neighbor: {df_test_n_knn}')"
   ]
  },
  {
   "cell_type": "code",
   "execution_count": 64,
   "id": "e3d879f5",
   "metadata": {},
   "outputs": [
    {
     "data": {
      "text/html": [
       "<div>\n",
       "<style scoped>\n",
       "    .dataframe tbody tr th:only-of-type {\n",
       "        vertical-align: middle;\n",
       "    }\n",
       "\n",
       "    .dataframe tbody tr th {\n",
       "        vertical-align: top;\n",
       "    }\n",
       "\n",
       "    .dataframe thead th {\n",
       "        text-align: right;\n",
       "    }\n",
       "</style>\n",
       "<table border=\"1\" class=\"dataframe\">\n",
       "  <thead>\n",
       "    <tr style=\"text-align: right;\">\n",
       "      <th></th>\n",
       "      <th>1</th>\n",
       "      <th>2</th>\n",
       "      <th>3</th>\n",
       "      <th>4</th>\n",
       "      <th>5</th>\n",
       "      <th>6</th>\n",
       "      <th>7</th>\n",
       "      <th>8</th>\n",
       "      <th>9</th>\n",
       "    </tr>\n",
       "  </thead>\n",
       "  <tbody>\n",
       "    <tr>\n",
       "      <th>0</th>\n",
       "      <td>0.775510</td>\n",
       "      <td>0.814059</td>\n",
       "      <td>0.773243</td>\n",
       "      <td>0.798186</td>\n",
       "      <td>0.773243</td>\n",
       "      <td>0.809524</td>\n",
       "      <td>0.793651</td>\n",
       "      <td>0.800454</td>\n",
       "      <td>0.761905</td>\n",
       "    </tr>\n",
       "    <tr>\n",
       "      <th>1</th>\n",
       "      <td>0.811791</td>\n",
       "      <td>0.825397</td>\n",
       "      <td>0.782313</td>\n",
       "      <td>0.818594</td>\n",
       "      <td>0.814059</td>\n",
       "      <td>0.829932</td>\n",
       "      <td>0.811791</td>\n",
       "      <td>0.832200</td>\n",
       "      <td>0.793651</td>\n",
       "    </tr>\n",
       "    <tr>\n",
       "      <th>2</th>\n",
       "      <td>0.804989</td>\n",
       "      <td>0.829932</td>\n",
       "      <td>0.795918</td>\n",
       "      <td>0.809524</td>\n",
       "      <td>0.814059</td>\n",
       "      <td>0.839002</td>\n",
       "      <td>0.823129</td>\n",
       "      <td>0.832200</td>\n",
       "      <td>0.816327</td>\n",
       "    </tr>\n",
       "  </tbody>\n",
       "</table>\n",
       "</div>"
      ],
      "text/plain": [
       "          1         2         3         4         5         6         7  \\\n",
       "0  0.775510  0.814059  0.773243  0.798186  0.773243  0.809524  0.793651   \n",
       "1  0.811791  0.825397  0.782313  0.818594  0.814059  0.829932  0.811791   \n",
       "2  0.804989  0.829932  0.795918  0.809524  0.814059  0.839002  0.823129   \n",
       "\n",
       "          8         9  \n",
       "0  0.800454  0.761905  \n",
       "1  0.832200  0.793651  \n",
       "2  0.832200  0.816327  "
      ]
     },
     "execution_count": 64,
     "metadata": {},
     "output_type": "execute_result"
    }
   ],
   "source": [
    "df_test_knn"
   ]
  },
  {
   "cell_type": "code",
   "execution_count": 65,
   "id": "d475339f",
   "metadata": {},
   "outputs": [
    {
     "name": "stdout",
     "output_type": "stream",
     "text": [
      "Best combination - neighbor: 7, random_state: 6\n"
     ]
    }
   ],
   "source": [
    "best_neighbor = n_neighbors[np.argmax(np.mean(df_test_knn.values, axis=1))]\n",
    "best_random_state_knn = seedN_list_knn[np.argmax(np.mean(df_test_knn.values, axis=0))]\n",
    "print(\"Best combination - neighbor: {}, random_state: {}\".format(best_neighbor, best_random_state_knn))"
   ]
  },
  {
   "cell_type": "code",
   "execution_count": 66,
   "id": "70caf170",
   "metadata": {},
   "outputs": [
    {
     "name": "stdout",
     "output_type": "stream",
     "text": [
      "Train Accuracy 0.8386783284742468\n",
      "Test Accuracy 0.8390022675736961\n",
      "Runtime: 0.0016410350799560547\n"
     ]
    }
   ],
   "source": [
    "(X_train, X_test, y_train, y_test) = train_test_split(X, \n",
    "                                                      y, \n",
    "                                                      random_state=6, \n",
    "                                                      test_size=0.30) \n",
    "\n",
    "knn_1 = KNeighborsClassifier(n_neighbors=7)  \n",
    "start_knn_1 = time.time()\n",
    "knn_1.fit(X_train, y_train)\n",
    "end_knn_1 = time.time()\n",
    "runtime_knn_1 = end_knn_1 - start_knn_1\n",
    "\n",
    "bestscore_train_knn = knn_1.score(X_train, y_train)\n",
    "bestscore_test_knn = knn_1.score(X_test, y_test)\n",
    "\n",
    "print('Train Accuracy', bestscore_train_knn) \n",
    "print('Test Accuracy', bestscore_test_knn)   \n",
    "print('Runtime:', runtime_knn_1)"
   ]
  },
  {
   "cell_type": "code",
   "execution_count": 67,
   "id": "919751d9",
   "metadata": {},
   "outputs": [],
   "source": [
    "df_accuracy_knn.to_csv(\"contents/modelling/df_accuracy_knn.csv\", index=False)"
   ]
  },
  {
   "cell_type": "code",
   "execution_count": 68,
   "id": "326738fb",
   "metadata": {},
   "outputs": [],
   "source": [
    "df_training_knn.to_csv(\"contents/modelling/df_training_knn.csv\", index=False)"
   ]
  },
  {
   "cell_type": "code",
   "execution_count": 69,
   "id": "bb237b83",
   "metadata": {},
   "outputs": [],
   "source": [
    "df_test_knn.to_csv(\"contents/modelling/df_test_knn.csv\", index=False)"
   ]
  },
  {
   "cell_type": "code",
   "execution_count": 70,
   "id": "1dc9184b",
   "metadata": {},
   "outputs": [
    {
     "data": {
      "text/html": [
       "<div>\n",
       "<style scoped>\n",
       "    .dataframe tbody tr th:only-of-type {\n",
       "        vertical-align: middle;\n",
       "    }\n",
       "\n",
       "    .dataframe tbody tr th {\n",
       "        vertical-align: top;\n",
       "    }\n",
       "\n",
       "    .dataframe thead th {\n",
       "        text-align: right;\n",
       "    }\n",
       "</style>\n",
       "<table border=\"1\" class=\"dataframe\">\n",
       "  <thead>\n",
       "    <tr style=\"text-align: right;\">\n",
       "      <th></th>\n",
       "      <th>model</th>\n",
       "      <th>baseline_train_accuracy</th>\n",
       "      <th>baseline_test_accuracy</th>\n",
       "      <th>baseline_runtime</th>\n",
       "      <th>best_train_accuracy</th>\n",
       "      <th>best_test_accuracy</th>\n",
       "      <th>best_runtime</th>\n",
       "    </tr>\n",
       "  </thead>\n",
       "  <tbody>\n",
       "    <tr>\n",
       "      <th>0</th>\n",
       "      <td>logistic regression</td>\n",
       "      <td>0.840622</td>\n",
       "      <td>0.868481</td>\n",
       "      <td>0.018048</td>\n",
       "      <td>0.841594</td>\n",
       "      <td>0.850340</td>\n",
       "      <td>0.022279</td>\n",
       "    </tr>\n",
       "    <tr>\n",
       "      <th>1</th>\n",
       "      <td>random forest</td>\n",
       "      <td>1.000000</td>\n",
       "      <td>0.866213</td>\n",
       "      <td>0.081073</td>\n",
       "      <td>0.981535</td>\n",
       "      <td>0.832200</td>\n",
       "      <td>0.081073</td>\n",
       "    </tr>\n",
       "    <tr>\n",
       "      <th>2</th>\n",
       "      <td>decision trees</td>\n",
       "      <td>1.000000</td>\n",
       "      <td>0.784580</td>\n",
       "      <td>0.003562</td>\n",
       "      <td>0.850340</td>\n",
       "      <td>0.857143</td>\n",
       "      <td>0.001484</td>\n",
       "    </tr>\n",
       "    <tr>\n",
       "      <th>3</th>\n",
       "      <td>gradient boosting</td>\n",
       "      <td>0.911565</td>\n",
       "      <td>0.868481</td>\n",
       "      <td>0.071889</td>\n",
       "      <td>0.887269</td>\n",
       "      <td>0.859410</td>\n",
       "      <td>0.073390</td>\n",
       "    </tr>\n",
       "    <tr>\n",
       "      <th>4</th>\n",
       "      <td>knn</td>\n",
       "      <td>0.850340</td>\n",
       "      <td>0.823129</td>\n",
       "      <td>0.001676</td>\n",
       "      <td>0.838678</td>\n",
       "      <td>0.839002</td>\n",
       "      <td>0.001641</td>\n",
       "    </tr>\n",
       "  </tbody>\n",
       "</table>\n",
       "</div>"
      ],
      "text/plain": [
       "                 model  baseline_train_accuracy  baseline_test_accuracy  \\\n",
       "0  logistic regression                 0.840622                0.868481   \n",
       "1        random forest                 1.000000                0.866213   \n",
       "2       decision trees                 1.000000                0.784580   \n",
       "3    gradient boosting                 0.911565                0.868481   \n",
       "4                  knn                 0.850340                0.823129   \n",
       "\n",
       "   baseline_runtime  best_train_accuracy  best_test_accuracy  best_runtime  \n",
       "0          0.018048             0.841594            0.850340      0.022279  \n",
       "1          0.081073             0.981535            0.832200      0.081073  \n",
       "2          0.003562             0.850340            0.857143      0.001484  \n",
       "3          0.071889             0.887269            0.859410      0.073390  \n",
       "4          0.001676             0.838678            0.839002      0.001641  "
      ]
     },
     "execution_count": 70,
     "metadata": {},
     "output_type": "execute_result"
    }
   ],
   "source": [
    "# create empty dataframe\n",
    "results_df = pd.DataFrame(columns=['model', 'baseline_train_accuracy', 'baseline_test_accuracy', 'baseline_runtime', 'best_train_accuracy', 'best_test_accuracy', 'best_runtime'])\n",
    "\n",
    "results_df = results_df.append({'model': 'logistic regression', \n",
    "                                'baseline_train_accuracy': basescore_train_lr, \n",
    "                                'baseline_test_accuracy': basescore_test_lr, \n",
    "                                'baseline_runtime': runtime_lr,\n",
    "                                'best_train_accuracy': bestscore_train_lr, \n",
    "                                'best_test_accuracy': bestscore_test_lr,\n",
    "                                'best_runtime': runtime_lr_1}, ignore_index=True)\n",
    "\n",
    "results_df = results_df.append({'model': 'random forest', \n",
    "                                'baseline_train_accuracy': basescore_train_rf, \n",
    "                                'baseline_test_accuracy': basescore_test_rf, \n",
    "                                'baseline_runtime': runtime_rf,\n",
    "                                'best_train_accuracy': bestscore_train_rf, \n",
    "                                'best_test_accuracy': bestscore_test_rf,\n",
    "                                'best_runtime': runtime_rf}, ignore_index=True)\n",
    "\n",
    "results_df = results_df.append({'model': 'decision trees', \n",
    "                                'baseline_train_accuracy': basescore_train_dt, \n",
    "                                'baseline_test_accuracy': basescore_test_dt, \n",
    "                                'baseline_runtime': runtime_dt,\n",
    "                                'best_train_accuracy': bestscore_train_dt, \n",
    "                                'best_test_accuracy': bestscore_test_dt,\n",
    "                                'best_runtime': runtime_dt_1}, ignore_index=True)\n",
    "\n",
    "results_df = results_df.append({'model': 'gradient boosting', \n",
    "                                'baseline_train_accuracy': basescore_train_gbm, \n",
    "                                'baseline_test_accuracy': basescore_test_gbm, \n",
    "                                'baseline_runtime': runtime_gbm,\n",
    "                                'best_train_accuracy': bestscore_train_gbm, \n",
    "                                'best_test_accuracy': bestscore_test_gbm,\n",
    "                                'best_runtime': runtime_gbm_1}, ignore_index=True)\n",
    "\n",
    "results_df = results_df.append({'model': 'knn', \n",
    "                                'baseline_train_accuracy': basescore_train_knn, \n",
    "                                'baseline_test_accuracy': basescore_test_knn, \n",
    "                                'baseline_runtime': runtime_knn,\n",
    "                                'best_train_accuracy': bestscore_train_knn, \n",
    "                                'best_test_accuracy': bestscore_test_knn,\n",
    "                                'best_runtime': runtime_knn_1}, ignore_index=True)\n",
    "\n",
    "results_df"
   ]
  },
  {
   "cell_type": "code",
   "execution_count": 71,
   "id": "fe28c841",
   "metadata": {},
   "outputs": [],
   "source": [
    "results_df.to_csv(\"contents/modelling/results_df.csv\")"
   ]
  },
  {
   "cell_type": "code",
   "execution_count": 72,
   "id": "45081695",
   "metadata": {},
   "outputs": [
    {
     "data": {
      "text/html": [
       "<div>\n",
       "<style scoped>\n",
       "    .dataframe tbody tr th:only-of-type {\n",
       "        vertical-align: middle;\n",
       "    }\n",
       "\n",
       "    .dataframe tbody tr th {\n",
       "        vertical-align: top;\n",
       "    }\n",
       "\n",
       "    .dataframe thead th {\n",
       "        text-align: right;\n",
       "    }\n",
       "</style>\n",
       "<table border=\"1\" class=\"dataframe\">\n",
       "  <thead>\n",
       "    <tr style=\"text-align: right;\">\n",
       "      <th></th>\n",
       "      <th>model</th>\n",
       "      <th>baseline_train_accuracy</th>\n",
       "      <th>baseline_test_accuracy</th>\n",
       "      <th>baseline_runtime</th>\n",
       "      <th>best_train_accuracy</th>\n",
       "      <th>best_test_accuracy</th>\n",
       "      <th>best_runtime</th>\n",
       "    </tr>\n",
       "  </thead>\n",
       "  <tbody>\n",
       "    <tr>\n",
       "      <th>3</th>\n",
       "      <td>gradient boosting</td>\n",
       "      <td>0.911565</td>\n",
       "      <td>0.868481</td>\n",
       "      <td>0.071889</td>\n",
       "      <td>0.887269</td>\n",
       "      <td>0.859410</td>\n",
       "      <td>0.073390</td>\n",
       "    </tr>\n",
       "    <tr>\n",
       "      <th>2</th>\n",
       "      <td>decision trees</td>\n",
       "      <td>1.000000</td>\n",
       "      <td>0.784580</td>\n",
       "      <td>0.003562</td>\n",
       "      <td>0.850340</td>\n",
       "      <td>0.857143</td>\n",
       "      <td>0.001484</td>\n",
       "    </tr>\n",
       "    <tr>\n",
       "      <th>0</th>\n",
       "      <td>logistic regression</td>\n",
       "      <td>0.840622</td>\n",
       "      <td>0.868481</td>\n",
       "      <td>0.018048</td>\n",
       "      <td>0.841594</td>\n",
       "      <td>0.850340</td>\n",
       "      <td>0.022279</td>\n",
       "    </tr>\n",
       "    <tr>\n",
       "      <th>4</th>\n",
       "      <td>knn</td>\n",
       "      <td>0.850340</td>\n",
       "      <td>0.823129</td>\n",
       "      <td>0.001676</td>\n",
       "      <td>0.838678</td>\n",
       "      <td>0.839002</td>\n",
       "      <td>0.001641</td>\n",
       "    </tr>\n",
       "    <tr>\n",
       "      <th>1</th>\n",
       "      <td>random forest</td>\n",
       "      <td>1.000000</td>\n",
       "      <td>0.866213</td>\n",
       "      <td>0.081073</td>\n",
       "      <td>0.981535</td>\n",
       "      <td>0.832200</td>\n",
       "      <td>0.081073</td>\n",
       "    </tr>\n",
       "  </tbody>\n",
       "</table>\n",
       "</div>"
      ],
      "text/plain": [
       "                 model  baseline_train_accuracy  baseline_test_accuracy  \\\n",
       "3    gradient boosting                 0.911565                0.868481   \n",
       "2       decision trees                 1.000000                0.784580   \n",
       "0  logistic regression                 0.840622                0.868481   \n",
       "4                  knn                 0.850340                0.823129   \n",
       "1        random forest                 1.000000                0.866213   \n",
       "\n",
       "   baseline_runtime  best_train_accuracy  best_test_accuracy  best_runtime  \n",
       "3          0.071889             0.887269            0.859410      0.073390  \n",
       "2          0.003562             0.850340            0.857143      0.001484  \n",
       "0          0.018048             0.841594            0.850340      0.022279  \n",
       "4          0.001676             0.838678            0.839002      0.001641  \n",
       "1          0.081073             0.981535            0.832200      0.081073  "
      ]
     },
     "execution_count": 72,
     "metadata": {},
     "output_type": "execute_result"
    }
   ],
   "source": [
    "sorted_results_df = results_df.sort_values(by='best_test_accuracy', ascending=False)\n",
    "sorted_results_df"
   ]
  },
  {
   "cell_type": "code",
   "execution_count": 73,
   "id": "3f76788c",
   "metadata": {},
   "outputs": [
    {
     "data": {
      "text/html": [
       "<div>\n",
       "<style scoped>\n",
       "    .dataframe tbody tr th:only-of-type {\n",
       "        vertical-align: middle;\n",
       "    }\n",
       "\n",
       "    .dataframe tbody tr th {\n",
       "        vertical-align: top;\n",
       "    }\n",
       "\n",
       "    .dataframe thead th {\n",
       "        text-align: right;\n",
       "    }\n",
       "</style>\n",
       "<table border=\"1\" class=\"dataframe\">\n",
       "  <thead>\n",
       "    <tr style=\"text-align: right;\">\n",
       "      <th></th>\n",
       "      <th>model</th>\n",
       "      <th>baseline_train_accuracy</th>\n",
       "      <th>baseline_test_accuracy</th>\n",
       "      <th>baseline_runtime</th>\n",
       "      <th>best_train_accuracy</th>\n",
       "      <th>best_test_accuracy</th>\n",
       "      <th>best_runtime</th>\n",
       "    </tr>\n",
       "  </thead>\n",
       "  <tbody>\n",
       "    <tr>\n",
       "      <th>1</th>\n",
       "      <td>random forest</td>\n",
       "      <td>1.000000</td>\n",
       "      <td>0.866213</td>\n",
       "      <td>0.081073</td>\n",
       "      <td>0.981535</td>\n",
       "      <td>0.832200</td>\n",
       "      <td>0.081073</td>\n",
       "    </tr>\n",
       "    <tr>\n",
       "      <th>3</th>\n",
       "      <td>gradient boosting</td>\n",
       "      <td>0.911565</td>\n",
       "      <td>0.868481</td>\n",
       "      <td>0.071889</td>\n",
       "      <td>0.887269</td>\n",
       "      <td>0.859410</td>\n",
       "      <td>0.073390</td>\n",
       "    </tr>\n",
       "    <tr>\n",
       "      <th>0</th>\n",
       "      <td>logistic regression</td>\n",
       "      <td>0.840622</td>\n",
       "      <td>0.868481</td>\n",
       "      <td>0.018048</td>\n",
       "      <td>0.841594</td>\n",
       "      <td>0.850340</td>\n",
       "      <td>0.022279</td>\n",
       "    </tr>\n",
       "    <tr>\n",
       "      <th>4</th>\n",
       "      <td>knn</td>\n",
       "      <td>0.850340</td>\n",
       "      <td>0.823129</td>\n",
       "      <td>0.001676</td>\n",
       "      <td>0.838678</td>\n",
       "      <td>0.839002</td>\n",
       "      <td>0.001641</td>\n",
       "    </tr>\n",
       "    <tr>\n",
       "      <th>2</th>\n",
       "      <td>decision trees</td>\n",
       "      <td>1.000000</td>\n",
       "      <td>0.784580</td>\n",
       "      <td>0.003562</td>\n",
       "      <td>0.850340</td>\n",
       "      <td>0.857143</td>\n",
       "      <td>0.001484</td>\n",
       "    </tr>\n",
       "  </tbody>\n",
       "</table>\n",
       "</div>"
      ],
      "text/plain": [
       "                 model  baseline_train_accuracy  baseline_test_accuracy  \\\n",
       "1        random forest                 1.000000                0.866213   \n",
       "3    gradient boosting                 0.911565                0.868481   \n",
       "0  logistic regression                 0.840622                0.868481   \n",
       "4                  knn                 0.850340                0.823129   \n",
       "2       decision trees                 1.000000                0.784580   \n",
       "\n",
       "   baseline_runtime  best_train_accuracy  best_test_accuracy  best_runtime  \n",
       "1          0.081073             0.981535            0.832200      0.081073  \n",
       "3          0.071889             0.887269            0.859410      0.073390  \n",
       "0          0.018048             0.841594            0.850340      0.022279  \n",
       "4          0.001676             0.838678            0.839002      0.001641  \n",
       "2          0.003562             0.850340            0.857143      0.001484  "
      ]
     },
     "execution_count": 73,
     "metadata": {},
     "output_type": "execute_result"
    }
   ],
   "source": [
    "sorted_results_df_1 = results_df.sort_values(by='best_runtime', ascending=False)\n",
    "sorted_results_df_1"
   ]
  },
  {
   "cell_type": "code",
   "execution_count": 75,
   "id": "c02cc833",
   "metadata": {},
   "outputs": [
    {
     "data": {
      "text/html": [
       "<div>\n",
       "<style scoped>\n",
       "    .dataframe tbody tr th:only-of-type {\n",
       "        vertical-align: middle;\n",
       "    }\n",
       "\n",
       "    .dataframe tbody tr th {\n",
       "        vertical-align: top;\n",
       "    }\n",
       "\n",
       "    .dataframe thead th {\n",
       "        text-align: right;\n",
       "    }\n",
       "</style>\n",
       "<table border=\"1\" class=\"dataframe\">\n",
       "  <thead>\n",
       "    <tr style=\"text-align: right;\">\n",
       "      <th></th>\n",
       "      <th>model</th>\n",
       "      <th>baseline_train_accuracy</th>\n",
       "      <th>baseline_test_accuracy</th>\n",
       "      <th>baseline_runtime</th>\n",
       "      <th>best_train_accuracy</th>\n",
       "      <th>best_test_accuracy</th>\n",
       "      <th>best_runtime</th>\n",
       "    </tr>\n",
       "  </thead>\n",
       "  <tbody>\n",
       "    <tr>\n",
       "      <th>3</th>\n",
       "      <td>gradient boosting</td>\n",
       "      <td>0.911565</td>\n",
       "      <td>0.868481</td>\n",
       "      <td>0.071889</td>\n",
       "      <td>0.887269</td>\n",
       "      <td>0.859410</td>\n",
       "      <td>0.073390</td>\n",
       "    </tr>\n",
       "    <tr>\n",
       "      <th>2</th>\n",
       "      <td>decision trees</td>\n",
       "      <td>1.000000</td>\n",
       "      <td>0.784580</td>\n",
       "      <td>0.003562</td>\n",
       "      <td>0.850340</td>\n",
       "      <td>0.857143</td>\n",
       "      <td>0.001484</td>\n",
       "    </tr>\n",
       "    <tr>\n",
       "      <th>0</th>\n",
       "      <td>logistic regression</td>\n",
       "      <td>0.840622</td>\n",
       "      <td>0.868481</td>\n",
       "      <td>0.018048</td>\n",
       "      <td>0.841594</td>\n",
       "      <td>0.850340</td>\n",
       "      <td>0.022279</td>\n",
       "    </tr>\n",
       "    <tr>\n",
       "      <th>4</th>\n",
       "      <td>knn</td>\n",
       "      <td>0.850340</td>\n",
       "      <td>0.823129</td>\n",
       "      <td>0.001676</td>\n",
       "      <td>0.838678</td>\n",
       "      <td>0.839002</td>\n",
       "      <td>0.001641</td>\n",
       "    </tr>\n",
       "    <tr>\n",
       "      <th>1</th>\n",
       "      <td>random forest</td>\n",
       "      <td>1.000000</td>\n",
       "      <td>0.866213</td>\n",
       "      <td>0.081073</td>\n",
       "      <td>0.981535</td>\n",
       "      <td>0.832200</td>\n",
       "      <td>0.081073</td>\n",
       "    </tr>\n",
       "  </tbody>\n",
       "</table>\n",
       "</div>"
      ],
      "text/plain": [
       "                 model  baseline_train_accuracy  baseline_test_accuracy  \\\n",
       "3    gradient boosting                 0.911565                0.868481   \n",
       "2       decision trees                 1.000000                0.784580   \n",
       "0  logistic regression                 0.840622                0.868481   \n",
       "4                  knn                 0.850340                0.823129   \n",
       "1        random forest                 1.000000                0.866213   \n",
       "\n",
       "   baseline_runtime  best_train_accuracy  best_test_accuracy  best_runtime  \n",
       "3          0.071889             0.887269            0.859410      0.073390  \n",
       "2          0.003562             0.850340            0.857143      0.001484  \n",
       "0          0.018048             0.841594            0.850340      0.022279  \n",
       "4          0.001676             0.838678            0.839002      0.001641  \n",
       "1          0.081073             0.981535            0.832200      0.081073  "
      ]
     },
     "execution_count": 75,
     "metadata": {},
     "output_type": "execute_result"
    }
   ],
   "source": [
    "results_df.sort_values(by='best_test_accuracy', ascending=False)"
   ]
  },
  {
   "cell_type": "code",
   "execution_count": 76,
   "id": "75cd0ad3",
   "metadata": {},
   "outputs": [
    {
     "data": {
      "text/html": [
       "<div>\n",
       "<style scoped>\n",
       "    .dataframe tbody tr th:only-of-type {\n",
       "        vertical-align: middle;\n",
       "    }\n",
       "\n",
       "    .dataframe tbody tr th {\n",
       "        vertical-align: top;\n",
       "    }\n",
       "\n",
       "    .dataframe thead th {\n",
       "        text-align: right;\n",
       "    }\n",
       "</style>\n",
       "<table border=\"1\" class=\"dataframe\">\n",
       "  <thead>\n",
       "    <tr style=\"text-align: right;\">\n",
       "      <th></th>\n",
       "      <th>model</th>\n",
       "      <th>baseline_train_accuracy</th>\n",
       "      <th>baseline_test_accuracy</th>\n",
       "      <th>baseline_runtime</th>\n",
       "      <th>best_train_accuracy</th>\n",
       "      <th>best_test_accuracy</th>\n",
       "      <th>best_runtime</th>\n",
       "    </tr>\n",
       "  </thead>\n",
       "  <tbody>\n",
       "    <tr>\n",
       "      <th>1</th>\n",
       "      <td>random forest</td>\n",
       "      <td>1.000000</td>\n",
       "      <td>0.866213</td>\n",
       "      <td>0.081073</td>\n",
       "      <td>0.981535</td>\n",
       "      <td>0.832200</td>\n",
       "      <td>0.081073</td>\n",
       "    </tr>\n",
       "    <tr>\n",
       "      <th>2</th>\n",
       "      <td>decision trees</td>\n",
       "      <td>1.000000</td>\n",
       "      <td>0.784580</td>\n",
       "      <td>0.003562</td>\n",
       "      <td>0.850340</td>\n",
       "      <td>0.857143</td>\n",
       "      <td>0.001484</td>\n",
       "    </tr>\n",
       "    <tr>\n",
       "      <th>3</th>\n",
       "      <td>gradient boosting</td>\n",
       "      <td>0.911565</td>\n",
       "      <td>0.868481</td>\n",
       "      <td>0.071889</td>\n",
       "      <td>0.887269</td>\n",
       "      <td>0.859410</td>\n",
       "      <td>0.073390</td>\n",
       "    </tr>\n",
       "    <tr>\n",
       "      <th>4</th>\n",
       "      <td>knn</td>\n",
       "      <td>0.850340</td>\n",
       "      <td>0.823129</td>\n",
       "      <td>0.001676</td>\n",
       "      <td>0.838678</td>\n",
       "      <td>0.839002</td>\n",
       "      <td>0.001641</td>\n",
       "    </tr>\n",
       "    <tr>\n",
       "      <th>0</th>\n",
       "      <td>logistic regression</td>\n",
       "      <td>0.840622</td>\n",
       "      <td>0.868481</td>\n",
       "      <td>0.018048</td>\n",
       "      <td>0.841594</td>\n",
       "      <td>0.850340</td>\n",
       "      <td>0.022279</td>\n",
       "    </tr>\n",
       "  </tbody>\n",
       "</table>\n",
       "</div>"
      ],
      "text/plain": [
       "                 model  baseline_train_accuracy  baseline_test_accuracy  \\\n",
       "1        random forest                 1.000000                0.866213   \n",
       "2       decision trees                 1.000000                0.784580   \n",
       "3    gradient boosting                 0.911565                0.868481   \n",
       "4                  knn                 0.850340                0.823129   \n",
       "0  logistic regression                 0.840622                0.868481   \n",
       "\n",
       "   baseline_runtime  best_train_accuracy  best_test_accuracy  best_runtime  \n",
       "1          0.081073             0.981535            0.832200      0.081073  \n",
       "2          0.003562             0.850340            0.857143      0.001484  \n",
       "3          0.071889             0.887269            0.859410      0.073390  \n",
       "4          0.001676             0.838678            0.839002      0.001641  \n",
       "0          0.018048             0.841594            0.850340      0.022279  "
      ]
     },
     "execution_count": 76,
     "metadata": {},
     "output_type": "execute_result"
    }
   ],
   "source": [
    "results_df.sort_values(by='baseline_train_accuracy', ascending=False)"
   ]
  },
  {
   "cell_type": "code",
   "execution_count": null,
   "id": "57c93c3b",
   "metadata": {},
   "outputs": [],
   "source": []
  }
 ],
 "metadata": {
  "kernelspec": {
   "display_name": "Python 3 (ipykernel)",
   "language": "python",
   "name": "python3"
  },
  "language_info": {
   "codemirror_mode": {
    "name": "ipython",
    "version": 3
   },
   "file_extension": ".py",
   "mimetype": "text/x-python",
   "name": "python",
   "nbconvert_exporter": "python",
   "pygments_lexer": "ipython3",
   "version": "3.10.9"
  }
 },
 "nbformat": 4,
 "nbformat_minor": 5
}
